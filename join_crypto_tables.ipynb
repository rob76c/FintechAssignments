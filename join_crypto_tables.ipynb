{
 "cells": [
  {
   "cell_type": "markdown",
   "metadata": {},
   "source": [
    "# Join Crypto Tables\n",
    "\n",
    "In this activity, you’ll use your new SQL joining skills to join the price tables of various crypto assets by date.\n",
    "\n",
    "Instructions\n",
    "\n",
    "1. Import the required libraries and dependencies: Pandas, Path, hvPlot, and SQLAlchemy.\n",
    "\n",
    "2. Read the two CSV files, `doge.csv` and `gtc.csv`, into two Pandas DataFrames named `df_doge` and `df_gtc`, respectively. Review each of the resulting DataFrames.\n",
    "\n",
    "    > **Important** For this activity, you don’t need to set the “Date” column as a `DatetimeIndex`.\n",
    "\n",
    "3. Add a new column named “returns” to each of the two DataFrames. The “returns” column should contain the daily return values that you generate from the “Price” column of each DataFrame. The columns should be named “DOGE_Returns” and “GTC_Returns”,  respectively. \n",
    "\n",
    "    > **Rewind** You generate daily return calculations from daily pricing data by calling the `pct_change` function.\n",
    "\n",
    "4. Set up a database connection by completing the following:\n",
    "\n",
    "    - Create the connection string for your new SQLite database.\n",
    "\n",
    "    - Pass the connection string to the `create_engine` function.\n",
    "\n",
    "    - Confirm the creation of the database engine.\n",
    "\n",
    "5. Use the `to_sql` function to create two new tables named `doge` and `gtc` in the database. To do so, use the information that the `df_doge` and `df_gtc` DataFrames contain. Make sure to do the following:\n",
    "\n",
    "    - Include parameters for the engine, the index, and replace the table if it already exists.\n",
    "\n",
    "    - Confirm that the newly created tables exist in the database by calling the `table_names` function.\n",
    "\n",
    "6. Write a SQL query to select the date from the doge table (`doge.Date`) and the “returns” column of both crypto tables (`doge.DOGE_Returns`, `gtc.GTC_Returns`). Make sure to do the following:\n",
    "\n",
    "    - From the `doge` table, join the `gtc` table on the `gtc.date` column, and set that column equal to the `doge.date` column.\n",
    "\n",
    "    - Run the query by calling the `read_sql_query` function on the database engine.\n",
    "\n",
    "    - Review the resulting `joined_returns_df` DataFrame.\n",
    "\n",
    "7. Clean the `joined_returns_df` DataFrame by setting the “Date” column as the index and dropping all missing values. Review the cleaned DataFrame.\n",
    "\n",
    "8. Plot the `joined_returns_df` DataFrame by using hvPlot. Be sure to style and format the plot.\n",
    "\n",
    "\n",
    "References\n",
    "\n",
    "[SQL SELECT](https://docs.microsoft.com/en-us/sql/t-sql/queries/select-transact-sql?view=sql-server-ver15)\n",
    "\n",
    "[SQL Joins](https://docs.microsoft.com/en-us/sql/relational-databases/performance/joins?view=sql-server-ver15)\n",
    "\n",
    "[SQLAlchemy SQLite Create Engine](https://docs.sqlalchemy.org/en/14/core/engines.html#sqlite)\n",
    "\n",
    "[SQLAlchemy Core](https://docs.sqlalchemy.org/en/14/core/index.html)\n"
   ]
  },
  {
   "cell_type": "markdown",
   "metadata": {},
   "source": [
    "## Step 1: Import the required libraries and dependencies: Pandas, Path, hvPlot, and SQLAlchemy."
   ]
  },
  {
   "cell_type": "code",
   "execution_count": 2,
   "metadata": {},
   "outputs": [],
   "source": [
    "# Import the required libraries and dependencies\n",
    "import pandas as pd\n",
    "from pathlib import Path\n",
    "import sqlalchemy\n",
    "import hvplot.pandas\n"
   ]
  },
  {
   "cell_type": "markdown",
   "metadata": {},
   "source": [
    "## Step 2: Read the two CSV files, `doge.csv` and `gtc.csv`, into two Pandas DataFrames named `df_doge` and `df_gtc`, respectively. Review each of the resulting DataFrames.\n",
    "\n",
    "    > **Important** For this activity, you don’t need to set the “Date” column as a `DatetimeIndex`.\n"
   ]
  },
  {
   "cell_type": "code",
   "execution_count": 3,
   "metadata": {},
   "outputs": [],
   "source": [
    "# Using the Pandas read_csv funcion and the Path module, \n",
    "# read doge.csv file into a Pandas DataFrame\n",
    "df_doge = pd.read_csv(Path(\"Resources/doge.csv\"))\n",
    "\n",
    "# Review the DataFrame\n",
    "# YOUR CODE HERE\n"
   ]
  },
  {
   "cell_type": "code",
   "execution_count": 4,
   "metadata": {},
   "outputs": [],
   "source": [
    "# Using the Pandas read_csv funcion and the Path module, \n",
    "# read gtc.csv file into a Pandas DataFrame\n",
    "df_gtc = pd.read_csv(Path(\"Resources/gtc.csv\"))\n",
    "# Revew the Dataframe\n",
    "# YOUR CODE HERE\n"
   ]
  },
  {
   "cell_type": "markdown",
   "metadata": {},
   "source": [
    "## Step 3: Add a new column named “returns” to each of the two DataFrames. The “returns” column should contain the daily return values that you generate from the “Price” column of each DataFrame. The columns should be named “DOGE_Returns” and “GTC_Returns”, respectively."
   ]
  },
  {
   "cell_type": "code",
   "execution_count": 5,
   "metadata": {},
   "outputs": [
    {
     "data": {
      "text/html": [
       "<div>\n",
       "<style scoped>\n",
       "    .dataframe tbody tr th:only-of-type {\n",
       "        vertical-align: middle;\n",
       "    }\n",
       "\n",
       "    .dataframe tbody tr th {\n",
       "        vertical-align: top;\n",
       "    }\n",
       "\n",
       "    .dataframe thead th {\n",
       "        text-align: right;\n",
       "    }\n",
       "</style>\n",
       "<table border=\"1\" class=\"dataframe\">\n",
       "  <thead>\n",
       "    <tr style=\"text-align: right;\">\n",
       "      <th></th>\n",
       "      <th>Date</th>\n",
       "      <th>Price</th>\n",
       "      <th>DOGE_Returns</th>\n",
       "    </tr>\n",
       "  </thead>\n",
       "  <tbody>\n",
       "    <tr>\n",
       "      <th>0</th>\n",
       "      <td>2018-01-01</td>\n",
       "      <td>509.407671</td>\n",
       "      <td>NaN</td>\n",
       "    </tr>\n",
       "    <tr>\n",
       "      <th>1</th>\n",
       "      <td>2018-01-02</td>\n",
       "      <td>502.507050</td>\n",
       "      <td>-0.013546</td>\n",
       "    </tr>\n",
       "    <tr>\n",
       "      <th>2</th>\n",
       "      <td>2018-01-03</td>\n",
       "      <td>505.422887</td>\n",
       "      <td>0.005803</td>\n",
       "    </tr>\n",
       "    <tr>\n",
       "      <th>3</th>\n",
       "      <td>2018-01-04</td>\n",
       "      <td>511.842536</td>\n",
       "      <td>0.012702</td>\n",
       "    </tr>\n",
       "    <tr>\n",
       "      <th>4</th>\n",
       "      <td>2018-01-05</td>\n",
       "      <td>509.935210</td>\n",
       "      <td>-0.003726</td>\n",
       "    </tr>\n",
       "    <tr>\n",
       "      <th>...</th>\n",
       "      <td>...</td>\n",
       "      <td>...</td>\n",
       "      <td>...</td>\n",
       "    </tr>\n",
       "    <tr>\n",
       "      <th>247</th>\n",
       "      <td>2018-09-05</td>\n",
       "      <td>505.933018</td>\n",
       "      <td>-0.000727</td>\n",
       "    </tr>\n",
       "    <tr>\n",
       "      <th>248</th>\n",
       "      <td>2018-09-06</td>\n",
       "      <td>496.445871</td>\n",
       "      <td>-0.018752</td>\n",
       "    </tr>\n",
       "    <tr>\n",
       "      <th>249</th>\n",
       "      <td>2018-09-07</td>\n",
       "      <td>493.214344</td>\n",
       "      <td>-0.006509</td>\n",
       "    </tr>\n",
       "    <tr>\n",
       "      <th>250</th>\n",
       "      <td>2018-09-08</td>\n",
       "      <td>503.114987</td>\n",
       "      <td>0.020074</td>\n",
       "    </tr>\n",
       "    <tr>\n",
       "      <th>251</th>\n",
       "      <td>2018-09-09</td>\n",
       "      <td>497.626711</td>\n",
       "      <td>-0.010909</td>\n",
       "    </tr>\n",
       "  </tbody>\n",
       "</table>\n",
       "<p>252 rows × 3 columns</p>\n",
       "</div>"
      ],
      "text/plain": [
       "           Date       Price  DOGE_Returns\n",
       "0    2018-01-01  509.407671           NaN\n",
       "1    2018-01-02  502.507050     -0.013546\n",
       "2    2018-01-03  505.422887      0.005803\n",
       "3    2018-01-04  511.842536      0.012702\n",
       "4    2018-01-05  509.935210     -0.003726\n",
       "..          ...         ...           ...\n",
       "247  2018-09-05  505.933018     -0.000727\n",
       "248  2018-09-06  496.445871     -0.018752\n",
       "249  2018-09-07  493.214344     -0.006509\n",
       "250  2018-09-08  503.114987      0.020074\n",
       "251  2018-09-09  497.626711     -0.010909\n",
       "\n",
       "[252 rows x 3 columns]"
      ]
     },
     "execution_count": 5,
     "metadata": {},
     "output_type": "execute_result"
    }
   ],
   "source": [
    "# Calculate the doge daily return values using the pct_change function\n",
    "# Add the daily return values to the df_doge DataFrame in a column named 'DOGE_Returns'\n",
    "df_doge['DOGE_Returns'] = df_doge['Price'].pct_change()\n",
    "# Review the DataFrame\n",
    "df_doge"
   ]
  },
  {
   "cell_type": "code",
   "execution_count": 6,
   "metadata": {},
   "outputs": [],
   "source": [
    "# Calculate the gtc daily return values using the pct_change function\n",
    "# Add the daily return values to the df_gtc DataFrame in a column named 'GTC_Returns'\n",
    "df_gtc['GTC_Returns'] = df_gtc['Price'].pct_change()\n",
    "# Review the DataFrame\n",
    "# YOUR CODE HERE\n"
   ]
  },
  {
   "cell_type": "markdown",
   "metadata": {},
   "source": [
    "## Step 4: Set up a database connection by completing the following:\n",
    "\n",
    "    - Create the connection string for your new SQLite database.\n",
    "\n",
    "    - Pass the connection string to the `create_engine` function.\n",
    "\n",
    "    - Confirm the creation of the database engine.\n"
   ]
  },
  {
   "cell_type": "code",
   "execution_count": 7,
   "metadata": {},
   "outputs": [
    {
     "data": {
      "text/plain": [
       "Engine(sqlite:///)"
      ]
     },
     "execution_count": 7,
     "metadata": {},
     "output_type": "execute_result"
    }
   ],
   "source": [
    "# Create the connection string for your SQLite database\n",
    "database_connection_string = 'sqlite:///'\n",
    "\n",
    "# Pass the connection string to the SQLAlchemy create_engine function\n",
    "engine = sqlalchemy.create_engine(database_connection_string)\n",
    "\n",
    "# Confirm that the database engine was created.\n",
    "# YOUR CODE HERE\n",
    "engine\n"
   ]
  },
  {
   "cell_type": "markdown",
   "metadata": {},
   "source": [
    "## Step 5: Use the `to_sql` function to create two new tables named `doge` and `gtc` in the database. To do so, use the information that the `df_doge` and `df_gtc` DataFrames contain. Make sure to do the following:\n",
    "\n",
    "    - Include parameters for the engine, the index, and replace the table if it already exists.\n",
    "\n",
    "    - Confirm that the newly created tables exist in the database by calling the `table_names` function.\n",
    "\n"
   ]
  },
  {
   "cell_type": "code",
   "execution_count": 8,
   "metadata": {},
   "outputs": [],
   "source": [
    "# Using the df_doge DataFrame, create a table called doge inside your new database\n",
    "# Be sure include the parameters for the engine, the index, and if_exists with the function\n",
    "# YOUR CODE HERE\n",
    "df_doge.to_sql('doge', engine, index=False, if_exists='replace')"
   ]
  },
  {
   "cell_type": "code",
   "execution_count": 9,
   "metadata": {},
   "outputs": [
    {
     "name": "stderr",
     "output_type": "stream",
     "text": [
      "d:\\Users\\Roberts\\anaconda3\\envs\\dev\\lib\\site-packages\\ipykernel_launcher.py:6: SADeprecationWarning: The Engine.table_names() method is deprecated and will be removed in a future release.  Please refer to Inspector.get_table_names(). (deprecated since: 1.4)\n",
      "  \n"
     ]
    },
    {
     "data": {
      "text/plain": [
       "['doge', 'gtc']"
      ]
     },
     "execution_count": 9,
     "metadata": {},
     "output_type": "execute_result"
    }
   ],
   "source": [
    "# Using the df_gtc DataFrame, create a table called gtc inside your new database\n",
    "# Be sure include the parameters for the engine, the index, and if_exists with the function\n",
    "# YOUR CODE HERE\n",
    "df_gtc.to_sql('gtc', engine, index=False, if_exists='replace')\n",
    "\n",
    "engine.table_names()\n"
   ]
  },
  {
   "cell_type": "code",
   "execution_count": 10,
   "metadata": {},
   "outputs": [],
   "source": [
    "# Confirm that the tables were created by calling the table_names function\n",
    "# YOUR CODE HERE\n"
   ]
  },
  {
   "cell_type": "markdown",
   "metadata": {},
   "source": [
    "## Step 6: Write a SQL query to select the date from the doge table (`doge.Date`) and the “returns” column of both crypto tables (`doge.DOGE_Returns`, `gtc.GTC_Returns`). Make sure to do the following:\n",
    "\n",
    "    - From the `doge` table, join the `gtc` table on the `gtc.Date` column, and set that column equal to the `doge.Date` column.\n",
    "\n",
    "    - Run the query by calling the `read_sql_query` function on the database engine.\n",
    "\n",
    "    - Review the resulting `joined_returns_df` DataFrame.\n"
   ]
  },
  {
   "cell_type": "code",
   "execution_count": 20,
   "metadata": {},
   "outputs": [
    {
     "data": {
      "text/html": [
       "<div>\n",
       "<style scoped>\n",
       "    .dataframe tbody tr th:only-of-type {\n",
       "        vertical-align: middle;\n",
       "    }\n",
       "\n",
       "    .dataframe tbody tr th {\n",
       "        vertical-align: top;\n",
       "    }\n",
       "\n",
       "    .dataframe thead th {\n",
       "        text-align: right;\n",
       "    }\n",
       "</style>\n",
       "<table border=\"1\" class=\"dataframe\">\n",
       "  <thead>\n",
       "    <tr style=\"text-align: right;\">\n",
       "      <th></th>\n",
       "      <th>Date</th>\n",
       "      <th>DOGE_Returns</th>\n",
       "      <th>GTC_Returns</th>\n",
       "    </tr>\n",
       "  </thead>\n",
       "  <tbody>\n",
       "    <tr>\n",
       "      <th>0</th>\n",
       "      <td>2018-01-01</td>\n",
       "      <td>NaN</td>\n",
       "      <td>NaN</td>\n",
       "    </tr>\n",
       "    <tr>\n",
       "      <th>1</th>\n",
       "      <td>2018-01-02</td>\n",
       "      <td>-0.013546</td>\n",
       "      <td>-0.015979</td>\n",
       "    </tr>\n",
       "    <tr>\n",
       "      <th>2</th>\n",
       "      <td>2018-01-03</td>\n",
       "      <td>0.005803</td>\n",
       "      <td>-0.007179</td>\n",
       "    </tr>\n",
       "    <tr>\n",
       "      <th>3</th>\n",
       "      <td>2018-01-04</td>\n",
       "      <td>0.012702</td>\n",
       "      <td>0.012102</td>\n",
       "    </tr>\n",
       "    <tr>\n",
       "      <th>4</th>\n",
       "      <td>2018-01-05</td>\n",
       "      <td>-0.003726</td>\n",
       "      <td>0.014043</td>\n",
       "    </tr>\n",
       "  </tbody>\n",
       "</table>\n",
       "</div>"
      ],
      "text/plain": [
       "         Date  DOGE_Returns  GTC_Returns\n",
       "0  2018-01-01           NaN          NaN\n",
       "1  2018-01-02     -0.013546    -0.015979\n",
       "2  2018-01-03      0.005803    -0.007179\n",
       "3  2018-01-04      0.012702     0.012102\n",
       "4  2018-01-05     -0.003726     0.014043"
      ]
     },
     "execution_count": 20,
     "metadata": {},
     "output_type": "execute_result"
    }
   ],
   "source": [
    "# Create a SQL query that joins the Date, DOGE_Returns and GTC_Returns columns\n",
    "# Using the doge table, join gtc on gtc.Date equal to doge.Date\n",
    "query = \"\"\"\n",
    "SELECT doge.Date, doge.DOGE_RETURNS, gtc.GTC_RETURNS\n",
    "FROM doge\n",
    "JOIN gtc ON gtc.Date=doge.Date ;\n",
    "\"\"\"\n",
    "# Run the query by calling the `read_sql_query` function on the database engine.\n",
    "joined_returns_df = pd.read_sql_query(query, con=engine)\n",
    "\n",
    "# Review the resulting `joined_returns_df` DataFrame.\n",
    "joined_returns_df.head()"
   ]
  },
  {
   "cell_type": "markdown",
   "metadata": {},
   "source": [
    "## Step 7: Clean the `joined_returns_df` DataFrame by setting the “Date” column as the index and dropping all missing values. Review the cleaned DataFrame."
   ]
  },
  {
   "cell_type": "code",
   "execution_count": 21,
   "metadata": {},
   "outputs": [
    {
     "data": {
      "text/html": [
       "<div>\n",
       "<style scoped>\n",
       "    .dataframe tbody tr th:only-of-type {\n",
       "        vertical-align: middle;\n",
       "    }\n",
       "\n",
       "    .dataframe tbody tr th {\n",
       "        vertical-align: top;\n",
       "    }\n",
       "\n",
       "    .dataframe thead th {\n",
       "        text-align: right;\n",
       "    }\n",
       "</style>\n",
       "<table border=\"1\" class=\"dataframe\">\n",
       "  <thead>\n",
       "    <tr style=\"text-align: right;\">\n",
       "      <th></th>\n",
       "      <th>DOGE_Returns</th>\n",
       "      <th>GTC_Returns</th>\n",
       "    </tr>\n",
       "    <tr>\n",
       "      <th>Date</th>\n",
       "      <th></th>\n",
       "      <th></th>\n",
       "    </tr>\n",
       "  </thead>\n",
       "  <tbody>\n",
       "    <tr>\n",
       "      <th>2018-01-02</th>\n",
       "      <td>-0.013546</td>\n",
       "      <td>-0.015979</td>\n",
       "    </tr>\n",
       "    <tr>\n",
       "      <th>2018-01-03</th>\n",
       "      <td>0.005803</td>\n",
       "      <td>-0.007179</td>\n",
       "    </tr>\n",
       "    <tr>\n",
       "      <th>2018-01-04</th>\n",
       "      <td>0.012702</td>\n",
       "      <td>0.012102</td>\n",
       "    </tr>\n",
       "    <tr>\n",
       "      <th>2018-01-05</th>\n",
       "      <td>-0.003726</td>\n",
       "      <td>0.014043</td>\n",
       "    </tr>\n",
       "    <tr>\n",
       "      <th>2018-01-06</th>\n",
       "      <td>-0.028048</td>\n",
       "      <td>-0.011015</td>\n",
       "    </tr>\n",
       "    <tr>\n",
       "      <th>...</th>\n",
       "      <td>...</td>\n",
       "      <td>...</td>\n",
       "    </tr>\n",
       "    <tr>\n",
       "      <th>2018-09-05</th>\n",
       "      <td>-0.000727</td>\n",
       "      <td>-0.001755</td>\n",
       "    </tr>\n",
       "    <tr>\n",
       "      <th>2018-09-06</th>\n",
       "      <td>-0.018752</td>\n",
       "      <td>-0.000866</td>\n",
       "    </tr>\n",
       "    <tr>\n",
       "      <th>2018-09-07</th>\n",
       "      <td>-0.006509</td>\n",
       "      <td>-0.007805</td>\n",
       "    </tr>\n",
       "    <tr>\n",
       "      <th>2018-09-08</th>\n",
       "      <td>0.020074</td>\n",
       "      <td>0.015010</td>\n",
       "    </tr>\n",
       "    <tr>\n",
       "      <th>2018-09-09</th>\n",
       "      <td>-0.010909</td>\n",
       "      <td>-0.010731</td>\n",
       "    </tr>\n",
       "  </tbody>\n",
       "</table>\n",
       "<p>251 rows × 2 columns</p>\n",
       "</div>"
      ],
      "text/plain": [
       "            DOGE_Returns  GTC_Returns\n",
       "Date                                 \n",
       "2018-01-02     -0.013546    -0.015979\n",
       "2018-01-03      0.005803    -0.007179\n",
       "2018-01-04      0.012702     0.012102\n",
       "2018-01-05     -0.003726     0.014043\n",
       "2018-01-06     -0.028048    -0.011015\n",
       "...                  ...          ...\n",
       "2018-09-05     -0.000727    -0.001755\n",
       "2018-09-06     -0.018752    -0.000866\n",
       "2018-09-07     -0.006509    -0.007805\n",
       "2018-09-08      0.020074     0.015010\n",
       "2018-09-09     -0.010909    -0.010731\n",
       "\n",
       "[251 rows x 2 columns]"
      ]
     },
     "execution_count": 21,
     "metadata": {},
     "output_type": "execute_result"
    }
   ],
   "source": [
    "# Set the Date column as the index on the joined_returns_df Dataframe\n",
    "# Drop any NaN values\n",
    "joined_returns_df = joined_returns_df.set_index(\"Date\")\n",
    "joined_returns_df= joined_returns_df.dropna()\n",
    "\n",
    "# Review the DataFrame\n",
    "# YOUR CODE HERE\n",
    "joined_returns_df"
   ]
  },
  {
   "cell_type": "markdown",
   "metadata": {},
   "source": [
    "## Step 8: Plot the `joined_returns_df` DataFrame by using hvPlot. Be sure to style and format the plot."
   ]
  },
  {
   "cell_type": "code",
   "execution_count": 31,
   "metadata": {},
   "outputs": [
    {
     "data": {},
     "metadata": {},
     "output_type": "display_data"
    },
    {
     "data": {
      "application/vnd.holoviews_exec.v0+json": "",
      "text/html": [
       "<div id='2062'>\n",
       "  <div class=\"bk-root\" id=\"627061dd-f174-4556-9c26-8fa23417b390\" data-root-id=\"2062\"></div>\n",
       "</div>\n",
       "<script type=\"application/javascript\">(function(root) {\n",
       "  function embed_document(root) {\n",
       "    var docs_json = {\"de170ccc-57b4-41f3-9762-3abe32642799\":{\"defs\":[{\"extends\":null,\"module\":null,\"name\":\"ReactiveHTML1\",\"overrides\":[],\"properties\":[]},{\"extends\":null,\"module\":null,\"name\":\"FlexBox1\",\"overrides\":[],\"properties\":[{\"default\":\"flex-start\",\"kind\":null,\"name\":\"align_content\"},{\"default\":\"flex-start\",\"kind\":null,\"name\":\"align_items\"},{\"default\":\"row\",\"kind\":null,\"name\":\"flex_direction\"},{\"default\":\"wrap\",\"kind\":null,\"name\":\"flex_wrap\"},{\"default\":\"flex-start\",\"kind\":null,\"name\":\"justify_content\"}]},{\"extends\":null,\"module\":null,\"name\":\"GridStack1\",\"overrides\":[],\"properties\":[{\"default\":\"warn\",\"kind\":null,\"name\":\"mode\"},{\"default\":null,\"kind\":null,\"name\":\"ncols\"},{\"default\":null,\"kind\":null,\"name\":\"nrows\"},{\"default\":true,\"kind\":null,\"name\":\"allow_resize\"},{\"default\":true,\"kind\":null,\"name\":\"allow_drag\"},{\"default\":[],\"kind\":null,\"name\":\"state\"}]},{\"extends\":null,\"module\":null,\"name\":\"click1\",\"overrides\":[],\"properties\":[{\"default\":\"\",\"kind\":null,\"name\":\"terminal_output\"},{\"default\":\"\",\"kind\":null,\"name\":\"debug_name\"},{\"default\":0,\"kind\":null,\"name\":\"clears\"}]},{\"extends\":null,\"module\":null,\"name\":\"NotificationAreaBase1\",\"overrides\":[],\"properties\":[{\"default\":\"bottom-right\",\"kind\":null,\"name\":\"position\"},{\"default\":0,\"kind\":null,\"name\":\"_clear\"}]},{\"extends\":null,\"module\":null,\"name\":\"NotificationArea1\",\"overrides\":[],\"properties\":[{\"default\":[],\"kind\":null,\"name\":\"notifications\"},{\"default\":\"bottom-right\",\"kind\":null,\"name\":\"position\"},{\"default\":0,\"kind\":null,\"name\":\"_clear\"},{\"default\":[{\"background\":\"#ffc107\",\"icon\":{\"className\":\"fas fa-exclamation-triangle\",\"color\":\"white\",\"tagName\":\"i\"},\"type\":\"warning\"},{\"background\":\"#007bff\",\"icon\":{\"className\":\"fas fa-info-circle\",\"color\":\"white\",\"tagName\":\"i\"},\"type\":\"info\"}],\"kind\":null,\"name\":\"types\"}]},{\"extends\":null,\"module\":null,\"name\":\"Notification\",\"overrides\":[],\"properties\":[{\"default\":null,\"kind\":null,\"name\":\"background\"},{\"default\":3000,\"kind\":null,\"name\":\"duration\"},{\"default\":null,\"kind\":null,\"name\":\"icon\"},{\"default\":\"\",\"kind\":null,\"name\":\"message\"},{\"default\":null,\"kind\":null,\"name\":\"notification_type\"},{\"default\":false,\"kind\":null,\"name\":\"_destroyed\"}]},{\"extends\":null,\"module\":null,\"name\":\"TemplateActions1\",\"overrides\":[],\"properties\":[{\"default\":0,\"kind\":null,\"name\":\"open_modal\"},{\"default\":0,\"kind\":null,\"name\":\"close_modal\"}]},{\"extends\":null,\"module\":null,\"name\":\"MaterialTemplateActions1\",\"overrides\":[],\"properties\":[{\"default\":0,\"kind\":null,\"name\":\"open_modal\"},{\"default\":0,\"kind\":null,\"name\":\"close_modal\"}]}],\"roots\":{\"references\":[{\"attributes\":{\"coordinates\":null,\"data_source\":{\"id\":\"2103\"},\"glyph\":{\"id\":\"2106\"},\"group\":null,\"hover_glyph\":null,\"muted_glyph\":{\"id\":\"2108\"},\"nonselection_glyph\":{\"id\":\"2107\"},\"selection_glyph\":{\"id\":\"2123\"},\"view\":{\"id\":\"2110\"}},\"id\":\"2109\",\"type\":\"GlyphRenderer\"},{\"attributes\":{\"margin\":[5,5,5,5],\"name\":\"HSpacer03201\",\"sizing_mode\":\"stretch_width\"},\"id\":\"2158\",\"type\":\"Spacer\"},{\"attributes\":{\"axis_label\":\"Return\",\"coordinates\":null,\"formatter\":{\"id\":\"2101\"},\"group\":null,\"major_label_policy\":{\"id\":\"2102\"},\"ticker\":{\"id\":\"2081\"}},\"id\":\"2080\",\"type\":\"LinearAxis\"},{\"attributes\":{\"line_alpha\":0.1,\"line_color\":\"#30a2da\",\"line_width\":2,\"x\":{\"field\":\"Date\"},\"y\":{\"field\":\"value\"}},\"id\":\"2107\",\"type\":\"Line\"},{\"attributes\":{},\"id\":\"2081\",\"type\":\"BasicTicker\"},{\"attributes\":{\"axis\":{\"id\":\"2080\"},\"coordinates\":null,\"dimension\":1,\"grid_line_color\":null,\"group\":null,\"ticker\":null},\"id\":\"2083\",\"type\":\"Grid\"},{\"attributes\":{\"data\":{\"Date\":[\"2018-01-02\",\"2018-01-03\",\"2018-01-04\",\"2018-01-05\",\"2018-01-06\",\"2018-01-07\",\"2018-01-08\",\"2018-01-09\",\"2018-01-10\",\"2018-01-11\",\"2018-01-12\",\"2018-01-13\",\"2018-01-14\",\"2018-01-15\",\"2018-01-16\",\"2018-01-17\",\"2018-01-18\",\"2018-01-19\",\"2018-01-20\",\"2018-01-21\",\"2018-01-22\",\"2018-01-23\",\"2018-01-24\",\"2018-01-25\",\"2018-01-26\",\"2018-01-27\",\"2018-01-28\",\"2018-01-29\",\"2018-01-30\",\"2018-01-31\",\"2018-02-01\",\"2018-02-02\",\"2018-02-03\",\"2018-02-04\",\"2018-02-05\",\"2018-02-06\",\"2018-02-07\",\"2018-02-08\",\"2018-02-09\",\"2018-02-10\",\"2018-02-11\",\"2018-02-12\",\"2018-02-13\",\"2018-02-14\",\"2018-02-15\",\"2018-02-16\",\"2018-02-17\",\"2018-02-18\",\"2018-02-19\",\"2018-02-20\",\"2018-02-21\",\"2018-02-22\",\"2018-02-23\",\"2018-02-24\",\"2018-02-25\",\"2018-02-26\",\"2018-02-27\",\"2018-02-28\",\"2018-03-01\",\"2018-03-02\",\"2018-03-03\",\"2018-03-04\",\"2018-03-05\",\"2018-03-06\",\"2018-03-07\",\"2018-03-08\",\"2018-03-09\",\"2018-03-10\",\"2018-03-11\",\"2018-03-12\",\"2018-03-13\",\"2018-03-14\",\"2018-03-15\",\"2018-03-16\",\"2018-03-17\",\"2018-03-18\",\"2018-03-19\",\"2018-03-20\",\"2018-03-21\",\"2018-03-22\",\"2018-03-23\",\"2018-03-24\",\"2018-03-25\",\"2018-03-26\",\"2018-03-27\",\"2018-03-28\",\"2018-03-29\",\"2018-03-30\",\"2018-03-31\",\"2018-04-01\",\"2018-04-02\",\"2018-04-03\",\"2018-04-04\",\"2018-04-05\",\"2018-04-06\",\"2018-04-07\",\"2018-04-08\",\"2018-04-09\",\"2018-04-10\",\"2018-04-11\",\"2018-04-12\",\"2018-04-13\",\"2018-04-14\",\"2018-04-15\",\"2018-04-16\",\"2018-04-17\",\"2018-04-18\",\"2018-04-19\",\"2018-04-20\",\"2018-04-21\",\"2018-04-22\",\"2018-04-23\",\"2018-04-24\",\"2018-04-25\",\"2018-04-26\",\"2018-04-27\",\"2018-04-28\",\"2018-04-29\",\"2018-04-30\",\"2018-05-01\",\"2018-05-02\",\"2018-05-03\",\"2018-05-04\",\"2018-05-05\",\"2018-05-06\",\"2018-05-07\",\"2018-05-08\",\"2018-05-09\",\"2018-05-10\",\"2018-05-11\",\"2018-05-12\",\"2018-05-13\",\"2018-05-14\",\"2018-05-15\",\"2018-05-16\",\"2018-05-17\",\"2018-05-18\",\"2018-05-19\",\"2018-05-20\",\"2018-05-21\",\"2018-05-22\",\"2018-05-23\",\"2018-05-24\",\"2018-05-25\",\"2018-05-26\",\"2018-05-27\",\"2018-05-28\",\"2018-05-29\",\"2018-05-30\",\"2018-05-31\",\"2018-06-01\",\"2018-06-02\",\"2018-06-03\",\"2018-06-04\",\"2018-06-05\",\"2018-06-06\",\"2018-06-07\",\"2018-06-08\",\"2018-06-09\",\"2018-06-10\",\"2018-06-11\",\"2018-06-12\",\"2018-06-13\",\"2018-06-14\",\"2018-06-15\",\"2018-06-16\",\"2018-06-17\",\"2018-06-18\",\"2018-06-19\",\"2018-06-20\",\"2018-06-21\",\"2018-06-22\",\"2018-06-23\",\"2018-06-24\",\"2018-06-25\",\"2018-06-26\",\"2018-06-27\",\"2018-06-28\",\"2018-06-29\",\"2018-06-30\",\"2018-07-01\",\"2018-07-02\",\"2018-07-03\",\"2018-07-04\",\"2018-07-05\",\"2018-07-06\",\"2018-07-07\",\"2018-07-08\",\"2018-07-09\",\"2018-07-10\",\"2018-07-11\",\"2018-07-12\",\"2018-07-13\",\"2018-07-14\",\"2018-07-15\",\"2018-07-16\",\"2018-07-17\",\"2018-07-18\",\"2018-07-19\",\"2018-07-20\",\"2018-07-21\",\"2018-07-22\",\"2018-07-23\",\"2018-07-24\",\"2018-07-25\",\"2018-07-26\",\"2018-07-27\",\"2018-07-28\",\"2018-07-29\",\"2018-07-30\",\"2018-07-31\",\"2018-08-01\",\"2018-08-02\",\"2018-08-03\",\"2018-08-04\",\"2018-08-05\",\"2018-08-06\",\"2018-08-07\",\"2018-08-08\",\"2018-08-09\",\"2018-08-10\",\"2018-08-11\",\"2018-08-12\",\"2018-08-13\",\"2018-08-14\",\"2018-08-15\",\"2018-08-16\",\"2018-08-17\",\"2018-08-18\",\"2018-08-19\",\"2018-08-20\",\"2018-08-21\",\"2018-08-22\",\"2018-08-23\",\"2018-08-24\",\"2018-08-25\",\"2018-08-26\",\"2018-08-27\",\"2018-08-28\",\"2018-08-29\",\"2018-08-30\",\"2018-08-31\",\"2018-09-01\",\"2018-09-02\",\"2018-09-03\",\"2018-09-04\",\"2018-09-05\",\"2018-09-06\",\"2018-09-07\",\"2018-09-08\",\"2018-09-09\"],\"Variable\":[\"DOGE_Returns\",\"DOGE_Returns\",\"DOGE_Returns\",\"DOGE_Returns\",\"DOGE_Returns\",\"DOGE_Returns\",\"DOGE_Returns\",\"DOGE_Returns\",\"DOGE_Returns\",\"DOGE_Returns\",\"DOGE_Returns\",\"DOGE_Returns\",\"DOGE_Returns\",\"DOGE_Returns\",\"DOGE_Returns\",\"DOGE_Returns\",\"DOGE_Returns\",\"DOGE_Returns\",\"DOGE_Returns\",\"DOGE_Returns\",\"DOGE_Returns\",\"DOGE_Returns\",\"DOGE_Returns\",\"DOGE_Returns\",\"DOGE_Returns\",\"DOGE_Returns\",\"DOGE_Returns\",\"DOGE_Returns\",\"DOGE_Returns\",\"DOGE_Returns\",\"DOGE_Returns\",\"DOGE_Returns\",\"DOGE_Returns\",\"DOGE_Returns\",\"DOGE_Returns\",\"DOGE_Returns\",\"DOGE_Returns\",\"DOGE_Returns\",\"DOGE_Returns\",\"DOGE_Returns\",\"DOGE_Returns\",\"DOGE_Returns\",\"DOGE_Returns\",\"DOGE_Returns\",\"DOGE_Returns\",\"DOGE_Returns\",\"DOGE_Returns\",\"DOGE_Returns\",\"DOGE_Returns\",\"DOGE_Returns\",\"DOGE_Returns\",\"DOGE_Returns\",\"DOGE_Returns\",\"DOGE_Returns\",\"DOGE_Returns\",\"DOGE_Returns\",\"DOGE_Returns\",\"DOGE_Returns\",\"DOGE_Returns\",\"DOGE_Returns\",\"DOGE_Returns\",\"DOGE_Returns\",\"DOGE_Returns\",\"DOGE_Returns\",\"DOGE_Returns\",\"DOGE_Returns\",\"DOGE_Returns\",\"DOGE_Returns\",\"DOGE_Returns\",\"DOGE_Returns\",\"DOGE_Returns\",\"DOGE_Returns\",\"DOGE_Returns\",\"DOGE_Returns\",\"DOGE_Returns\",\"DOGE_Returns\",\"DOGE_Returns\",\"DOGE_Returns\",\"DOGE_Returns\",\"DOGE_Returns\",\"DOGE_Returns\",\"DOGE_Returns\",\"DOGE_Returns\",\"DOGE_Returns\",\"DOGE_Returns\",\"DOGE_Returns\",\"DOGE_Returns\",\"DOGE_Returns\",\"DOGE_Returns\",\"DOGE_Returns\",\"DOGE_Returns\",\"DOGE_Returns\",\"DOGE_Returns\",\"DOGE_Returns\",\"DOGE_Returns\",\"DOGE_Returns\",\"DOGE_Returns\",\"DOGE_Returns\",\"DOGE_Returns\",\"DOGE_Returns\",\"DOGE_Returns\",\"DOGE_Returns\",\"DOGE_Returns\",\"DOGE_Returns\",\"DOGE_Returns\",\"DOGE_Returns\",\"DOGE_Returns\",\"DOGE_Returns\",\"DOGE_Returns\",\"DOGE_Returns\",\"DOGE_Returns\",\"DOGE_Returns\",\"DOGE_Returns\",\"DOGE_Returns\",\"DOGE_Returns\",\"DOGE_Returns\",\"DOGE_Returns\",\"DOGE_Returns\",\"DOGE_Returns\",\"DOGE_Returns\",\"DOGE_Returns\",\"DOGE_Returns\",\"DOGE_Returns\",\"DOGE_Returns\",\"DOGE_Returns\",\"DOGE_Returns\",\"DOGE_Returns\",\"DOGE_Returns\",\"DOGE_Returns\",\"DOGE_Returns\",\"DOGE_Returns\",\"DOGE_Returns\",\"DOGE_Returns\",\"DOGE_Returns\",\"DOGE_Returns\",\"DOGE_Returns\",\"DOGE_Returns\",\"DOGE_Returns\",\"DOGE_Returns\",\"DOGE_Returns\",\"DOGE_Returns\",\"DOGE_Returns\",\"DOGE_Returns\",\"DOGE_Returns\",\"DOGE_Returns\",\"DOGE_Returns\",\"DOGE_Returns\",\"DOGE_Returns\",\"DOGE_Returns\",\"DOGE_Returns\",\"DOGE_Returns\",\"DOGE_Returns\",\"DOGE_Returns\",\"DOGE_Returns\",\"DOGE_Returns\",\"DOGE_Returns\",\"DOGE_Returns\",\"DOGE_Returns\",\"DOGE_Returns\",\"DOGE_Returns\",\"DOGE_Returns\",\"DOGE_Returns\",\"DOGE_Returns\",\"DOGE_Returns\",\"DOGE_Returns\",\"DOGE_Returns\",\"DOGE_Returns\",\"DOGE_Returns\",\"DOGE_Returns\",\"DOGE_Returns\",\"DOGE_Returns\",\"DOGE_Returns\",\"DOGE_Returns\",\"DOGE_Returns\",\"DOGE_Returns\",\"DOGE_Returns\",\"DOGE_Returns\",\"DOGE_Returns\",\"DOGE_Returns\",\"DOGE_Returns\",\"DOGE_Returns\",\"DOGE_Returns\",\"DOGE_Returns\",\"DOGE_Returns\",\"DOGE_Returns\",\"DOGE_Returns\",\"DOGE_Returns\",\"DOGE_Returns\",\"DOGE_Returns\",\"DOGE_Returns\",\"DOGE_Returns\",\"DOGE_Returns\",\"DOGE_Returns\",\"DOGE_Returns\",\"DOGE_Returns\",\"DOGE_Returns\",\"DOGE_Returns\",\"DOGE_Returns\",\"DOGE_Returns\",\"DOGE_Returns\",\"DOGE_Returns\",\"DOGE_Returns\",\"DOGE_Returns\",\"DOGE_Returns\",\"DOGE_Returns\",\"DOGE_Returns\",\"DOGE_Returns\",\"DOGE_Returns\",\"DOGE_Returns\",\"DOGE_Returns\",\"DOGE_Returns\",\"DOGE_Returns\",\"DOGE_Returns\",\"DOGE_Returns\",\"DOGE_Returns\",\"DOGE_Returns\",\"DOGE_Returns\",\"DOGE_Returns\",\"DOGE_Returns\",\"DOGE_Returns\",\"DOGE_Returns\",\"DOGE_Returns\",\"DOGE_Returns\",\"DOGE_Returns\",\"DOGE_Returns\",\"DOGE_Returns\",\"DOGE_Returns\",\"DOGE_Returns\",\"DOGE_Returns\",\"DOGE_Returns\",\"DOGE_Returns\",\"DOGE_Returns\",\"DOGE_Returns\",\"DOGE_Returns\",\"DOGE_Returns\",\"DOGE_Returns\",\"DOGE_Returns\",\"DOGE_Returns\",\"DOGE_Returns\",\"DOGE_Returns\",\"DOGE_Returns\",\"DOGE_Returns\",\"DOGE_Returns\",\"DOGE_Returns\",\"DOGE_Returns\",\"DOGE_Returns\",\"DOGE_Returns\",\"DOGE_Returns\",\"DOGE_Returns\",\"DOGE_Returns\",\"DOGE_Returns\"],\"value\":{\"__ndarray__\":\"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\",\"dtype\":\"float64\",\"order\":\"little\",\"shape\":[251]}},\"selected\":{\"id\":\"2104\"},\"selection_policy\":{\"id\":\"2118\"}},\"id\":\"2103\",\"type\":\"ColumnDataSource\"},{\"attributes\":{\"line_color\":\"#fc4f30\",\"line_width\":2,\"x\":{\"field\":\"Date\"},\"y\":{\"field\":\"value\"}},\"id\":\"2127\",\"type\":\"Line\"},{\"attributes\":{\"line_alpha\":0.1,\"line_color\":\"#fc4f30\",\"line_width\":2,\"x\":{\"field\":\"Date\"},\"y\":{\"field\":\"value\"}},\"id\":\"2128\",\"type\":\"Line\"},{\"attributes\":{\"callback\":null,\"renderers\":[{\"id\":\"2109\"},{\"id\":\"2130\"}],\"tags\":[\"hv_created\"],\"tooltips\":[[\"Variable\",\"@{Variable}\"],[\"Date\",\"@{Date}\"],[\"value\",\"@{value}\"]]},\"id\":\"2066\",\"type\":\"HoverTool\"},{\"attributes\":{\"coordinates\":null,\"data_source\":{\"id\":\"2124\"},\"glyph\":{\"id\":\"2127\"},\"group\":null,\"hover_glyph\":null,\"muted_glyph\":{\"id\":\"2129\"},\"nonselection_glyph\":{\"id\":\"2128\"},\"selection_glyph\":{\"id\":\"2145\"},\"view\":{\"id\":\"2131\"}},\"id\":\"2130\",\"type\":\"GlyphRenderer\"},{\"attributes\":{\"axis_label\":\"Date\",\"coordinates\":null,\"formatter\":{\"id\":\"2098\"},\"group\":null,\"major_label_orientation\":1.5707963267948966,\"major_label_policy\":{\"id\":\"2099\"},\"ticker\":{\"id\":\"2078\"}},\"id\":\"2077\",\"type\":\"CategoricalAxis\"},{\"attributes\":{\"line_alpha\":0.2,\"line_color\":\"#30a2da\",\"line_width\":2,\"x\":{\"field\":\"Date\"},\"y\":{\"field\":\"value\"}},\"id\":\"2108\",\"type\":\"Line\"},{\"attributes\":{\"children\":[{\"id\":\"2063\"},{\"id\":\"2068\"},{\"id\":\"2158\"}],\"margin\":[0,0,0,0],\"name\":\"Row03196\",\"tags\":[\"embedded\"]},\"id\":\"2062\",\"type\":\"Row\"},{\"attributes\":{\"below\":[{\"id\":\"2077\"}],\"center\":[{\"id\":\"2079\"},{\"id\":\"2083\"}],\"height\":500,\"left\":[{\"id\":\"2080\"}],\"margin\":[5,5,5,5],\"min_border_bottom\":10,\"min_border_left\":10,\"min_border_right\":10,\"min_border_top\":10,\"renderers\":[{\"id\":\"2109\"},{\"id\":\"2130\"}],\"right\":[{\"id\":\"2121\"}],\"sizing_mode\":\"fixed\",\"title\":{\"id\":\"2069\"},\"toolbar\":{\"id\":\"2090\"},\"width\":2500,\"x_range\":{\"id\":\"2064\"},\"x_scale\":{\"id\":\"2073\"},\"y_range\":{\"id\":\"2065\"},\"y_scale\":{\"id\":\"2075\"}},\"id\":\"2068\",\"subtype\":\"Figure\",\"type\":\"Plot\"},{\"attributes\":{\"factors\":[\"2018-01-02\",\"2018-01-03\",\"2018-01-04\",\"2018-01-05\",\"2018-01-06\",\"2018-01-07\",\"2018-01-08\",\"2018-01-09\",\"2018-01-10\",\"2018-01-11\",\"2018-01-12\",\"2018-01-13\",\"2018-01-14\",\"2018-01-15\",\"2018-01-16\",\"2018-01-17\",\"2018-01-18\",\"2018-01-19\",\"2018-01-20\",\"2018-01-21\",\"2018-01-22\",\"2018-01-23\",\"2018-01-24\",\"2018-01-25\",\"2018-01-26\",\"2018-01-27\",\"2018-01-28\",\"2018-01-29\",\"2018-01-30\",\"2018-01-31\",\"2018-02-01\",\"2018-02-02\",\"2018-02-03\",\"2018-02-04\",\"2018-02-05\",\"2018-02-06\",\"2018-02-07\",\"2018-02-08\",\"2018-02-09\",\"2018-02-10\",\"2018-02-11\",\"2018-02-12\",\"2018-02-13\",\"2018-02-14\",\"2018-02-15\",\"2018-02-16\",\"2018-02-17\",\"2018-02-18\",\"2018-02-19\",\"2018-02-20\",\"2018-02-21\",\"2018-02-22\",\"2018-02-23\",\"2018-02-24\",\"2018-02-25\",\"2018-02-26\",\"2018-02-27\",\"2018-02-28\",\"2018-03-01\",\"2018-03-02\",\"2018-03-03\",\"2018-03-04\",\"2018-03-05\",\"2018-03-06\",\"2018-03-07\",\"2018-03-08\",\"2018-03-09\",\"2018-03-10\",\"2018-03-11\",\"2018-03-12\",\"2018-03-13\",\"2018-03-14\",\"2018-03-15\",\"2018-03-16\",\"2018-03-17\",\"2018-03-18\",\"2018-03-19\",\"2018-03-20\",\"2018-03-21\",\"2018-03-22\",\"2018-03-23\",\"2018-03-24\",\"2018-03-25\",\"2018-03-26\",\"2018-03-27\",\"2018-03-28\",\"2018-03-29\",\"2018-03-30\",\"2018-03-31\",\"2018-04-01\",\"2018-04-02\",\"2018-04-03\",\"2018-04-04\",\"2018-04-05\",\"2018-04-06\",\"2018-04-07\",\"2018-04-08\",\"2018-04-09\",\"2018-04-10\",\"2018-04-11\",\"2018-04-12\",\"2018-04-13\",\"2018-04-14\",\"2018-04-15\",\"2018-04-16\",\"2018-04-17\",\"2018-04-18\",\"2018-04-19\",\"2018-04-20\",\"2018-04-21\",\"2018-04-22\",\"2018-04-23\",\"2018-04-24\",\"2018-04-25\",\"2018-04-26\",\"2018-04-27\",\"2018-04-28\",\"2018-04-29\",\"2018-04-30\",\"2018-05-01\",\"2018-05-02\",\"2018-05-03\",\"2018-05-04\",\"2018-05-05\",\"2018-05-06\",\"2018-05-07\",\"2018-05-08\",\"2018-05-09\",\"2018-05-10\",\"2018-05-11\",\"2018-05-12\",\"2018-05-13\",\"2018-05-14\",\"2018-05-15\",\"2018-05-16\",\"2018-05-17\",\"2018-05-18\",\"2018-05-19\",\"2018-05-20\",\"2018-05-21\",\"2018-05-22\",\"2018-05-23\",\"2018-05-24\",\"2018-05-25\",\"2018-05-26\",\"2018-05-27\",\"2018-05-28\",\"2018-05-29\",\"2018-05-30\",\"2018-05-31\",\"2018-06-01\",\"2018-06-02\",\"2018-06-03\",\"2018-06-04\",\"2018-06-05\",\"2018-06-06\",\"2018-06-07\",\"2018-06-08\",\"2018-06-09\",\"2018-06-10\",\"2018-06-11\",\"2018-06-12\",\"2018-06-13\",\"2018-06-14\",\"2018-06-15\",\"2018-06-16\",\"2018-06-17\",\"2018-06-18\",\"2018-06-19\",\"2018-06-20\",\"2018-06-21\",\"2018-06-22\",\"2018-06-23\",\"2018-06-24\",\"2018-06-25\",\"2018-06-26\",\"2018-06-27\",\"2018-06-28\",\"2018-06-29\",\"2018-06-30\",\"2018-07-01\",\"2018-07-02\",\"2018-07-03\",\"2018-07-04\",\"2018-07-05\",\"2018-07-06\",\"2018-07-07\",\"2018-07-08\",\"2018-07-09\",\"2018-07-10\",\"2018-07-11\",\"2018-07-12\",\"2018-07-13\",\"2018-07-14\",\"2018-07-15\",\"2018-07-16\",\"2018-07-17\",\"2018-07-18\",\"2018-07-19\",\"2018-07-20\",\"2018-07-21\",\"2018-07-22\",\"2018-07-23\",\"2018-07-24\",\"2018-07-25\",\"2018-07-26\",\"2018-07-27\",\"2018-07-28\",\"2018-07-29\",\"2018-07-30\",\"2018-07-31\",\"2018-08-01\",\"2018-08-02\",\"2018-08-03\",\"2018-08-04\",\"2018-08-05\",\"2018-08-06\",\"2018-08-07\",\"2018-08-08\",\"2018-08-09\",\"2018-08-10\",\"2018-08-11\",\"2018-08-12\",\"2018-08-13\",\"2018-08-14\",\"2018-08-15\",\"2018-08-16\",\"2018-08-17\",\"2018-08-18\",\"2018-08-19\",\"2018-08-20\",\"2018-08-21\",\"2018-08-22\",\"2018-08-23\",\"2018-08-24\",\"2018-08-25\",\"2018-08-26\",\"2018-08-27\",\"2018-08-28\",\"2018-08-29\",\"2018-08-30\",\"2018-08-31\",\"2018-09-01\",\"2018-09-02\",\"2018-09-03\",\"2018-09-04\",\"2018-09-05\",\"2018-09-06\",\"2018-09-07\",\"2018-09-08\",\"2018-09-09\"],\"tags\":[[[\"Date\",\"Date\",null]]]},\"id\":\"2064\",\"type\":\"FactorRange\"},{\"attributes\":{\"tools\":[{\"id\":\"2066\"},{\"id\":\"2084\"},{\"id\":\"2085\"},{\"id\":\"2086\"},{\"id\":\"2087\"},{\"id\":\"2088\"}]},\"id\":\"2090\",\"type\":\"Toolbar\"},{\"attributes\":{},\"id\":\"2104\",\"type\":\"Selection\"},{\"attributes\":{\"margin\":[5,5,5,5],\"name\":\"HSpacer03200\",\"sizing_mode\":\"stretch_width\"},\"id\":\"2063\",\"type\":\"Spacer\"},{\"attributes\":{\"line_alpha\":0.2,\"line_color\":\"#fc4f30\",\"line_width\":2,\"x\":{\"field\":\"Date\"},\"y\":{\"field\":\"value\"}},\"id\":\"2129\",\"type\":\"Line\"},{\"attributes\":{\"bottom_units\":\"screen\",\"coordinates\":null,\"fill_alpha\":0.5,\"fill_color\":\"lightgrey\",\"group\":null,\"left_units\":\"screen\",\"level\":\"overlay\",\"line_alpha\":1.0,\"line_color\":\"black\",\"line_dash\":[4,4],\"line_width\":2,\"right_units\":\"screen\",\"syncable\":false,\"top_units\":\"screen\"},\"id\":\"2089\",\"type\":\"BoxAnnotation\"},{\"attributes\":{},\"id\":\"2084\",\"type\":\"SaveTool\"},{\"attributes\":{},\"id\":\"2078\",\"type\":\"CategoricalTicker\"},{\"attributes\":{},\"id\":\"2085\",\"type\":\"PanTool\"},{\"attributes\":{},\"id\":\"2101\",\"type\":\"BasicTickFormatter\"},{\"attributes\":{},\"id\":\"2088\",\"type\":\"ResetTool\"},{\"attributes\":{},\"id\":\"2102\",\"type\":\"AllLabels\"},{\"attributes\":{},\"id\":\"2086\",\"type\":\"WheelZoomTool\"},{\"attributes\":{\"end\":0.05355647856237221,\"reset_end\":0.05355647856237221,\"reset_start\":-0.04882602081535968,\"start\":-0.04882602081535968,\"tags\":[[[\"value\",\"value\",null]]]},\"id\":\"2065\",\"type\":\"Range1d\"},{\"attributes\":{\"data\":{\"Date\":[\"2018-01-02\",\"2018-01-03\",\"2018-01-04\",\"2018-01-05\",\"2018-01-06\",\"2018-01-07\",\"2018-01-08\",\"2018-01-09\",\"2018-01-10\",\"2018-01-11\",\"2018-01-12\",\"2018-01-13\",\"2018-01-14\",\"2018-01-15\",\"2018-01-16\",\"2018-01-17\",\"2018-01-18\",\"2018-01-19\",\"2018-01-20\",\"2018-01-21\",\"2018-01-22\",\"2018-01-23\",\"2018-01-24\",\"2018-01-25\",\"2018-01-26\",\"2018-01-27\",\"2018-01-28\",\"2018-01-29\",\"2018-01-30\",\"2018-01-31\",\"2018-02-01\",\"2018-02-02\",\"2018-02-03\",\"2018-02-04\",\"2018-02-05\",\"2018-02-06\",\"2018-02-07\",\"2018-02-08\",\"2018-02-09\",\"2018-02-10\",\"2018-02-11\",\"2018-02-12\",\"2018-02-13\",\"2018-02-14\",\"2018-02-15\",\"2018-02-16\",\"2018-02-17\",\"2018-02-18\",\"2018-02-19\",\"2018-02-20\",\"2018-02-21\",\"2018-02-22\",\"2018-02-23\",\"2018-02-24\",\"2018-02-25\",\"2018-02-26\",\"2018-02-27\",\"2018-02-28\",\"2018-03-01\",\"2018-03-02\",\"2018-03-03\",\"2018-03-04\",\"2018-03-05\",\"2018-03-06\",\"2018-03-07\",\"2018-03-08\",\"2018-03-09\",\"2018-03-10\",\"2018-03-11\",\"2018-03-12\",\"2018-03-13\",\"2018-03-14\",\"2018-03-15\",\"2018-03-16\",\"2018-03-17\",\"2018-03-18\",\"2018-03-19\",\"2018-03-20\",\"2018-03-21\",\"2018-03-22\",\"2018-03-23\",\"2018-03-24\",\"2018-03-25\",\"2018-03-26\",\"2018-03-27\",\"2018-03-28\",\"2018-03-29\",\"2018-03-30\",\"2018-03-31\",\"2018-04-01\",\"2018-04-02\",\"2018-04-03\",\"2018-04-04\",\"2018-04-05\",\"2018-04-06\",\"2018-04-07\",\"2018-04-08\",\"2018-04-09\",\"2018-04-10\",\"2018-04-11\",\"2018-04-12\",\"2018-04-13\",\"2018-04-14\",\"2018-04-15\",\"2018-04-16\",\"2018-04-17\",\"2018-04-18\",\"2018-04-19\",\"2018-04-20\",\"2018-04-21\",\"2018-04-22\",\"2018-04-23\",\"2018-04-24\",\"2018-04-25\",\"2018-04-26\",\"2018-04-27\",\"2018-04-28\",\"2018-04-29\",\"2018-04-30\",\"2018-05-01\",\"2018-05-02\",\"2018-05-03\",\"2018-05-04\",\"2018-05-05\",\"2018-05-06\",\"2018-05-07\",\"2018-05-08\",\"2018-05-09\",\"2018-05-10\",\"2018-05-11\",\"2018-05-12\",\"2018-05-13\",\"2018-05-14\",\"2018-05-15\",\"2018-05-16\",\"2018-05-17\",\"2018-05-18\",\"2018-05-19\",\"2018-05-20\",\"2018-05-21\",\"2018-05-22\",\"2018-05-23\",\"2018-05-24\",\"2018-05-25\",\"2018-05-26\",\"2018-05-27\",\"2018-05-28\",\"2018-05-29\",\"2018-05-30\",\"2018-05-31\",\"2018-06-01\",\"2018-06-02\",\"2018-06-03\",\"2018-06-04\",\"2018-06-05\",\"2018-06-06\",\"2018-06-07\",\"2018-06-08\",\"2018-06-09\",\"2018-06-10\",\"2018-06-11\",\"2018-06-12\",\"2018-06-13\",\"2018-06-14\",\"2018-06-15\",\"2018-06-16\",\"2018-06-17\",\"2018-06-18\",\"2018-06-19\",\"2018-06-20\",\"2018-06-21\",\"2018-06-22\",\"2018-06-23\",\"2018-06-24\",\"2018-06-25\",\"2018-06-26\",\"2018-06-27\",\"2018-06-28\",\"2018-06-29\",\"2018-06-30\",\"2018-07-01\",\"2018-07-02\",\"2018-07-03\",\"2018-07-04\",\"2018-07-05\",\"2018-07-06\",\"2018-07-07\",\"2018-07-08\",\"2018-07-09\",\"2018-07-10\",\"2018-07-11\",\"2018-07-12\",\"2018-07-13\",\"2018-07-14\",\"2018-07-15\",\"2018-07-16\",\"2018-07-17\",\"2018-07-18\",\"2018-07-19\",\"2018-07-20\",\"2018-07-21\",\"2018-07-22\",\"2018-07-23\",\"2018-07-24\",\"2018-07-25\",\"2018-07-26\",\"2018-07-27\",\"2018-07-28\",\"2018-07-29\",\"2018-07-30\",\"2018-07-31\",\"2018-08-01\",\"2018-08-02\",\"2018-08-03\",\"2018-08-04\",\"2018-08-05\",\"2018-08-06\",\"2018-08-07\",\"2018-08-08\",\"2018-08-09\",\"2018-08-10\",\"2018-08-11\",\"2018-08-12\",\"2018-08-13\",\"2018-08-14\",\"2018-08-15\",\"2018-08-16\",\"2018-08-17\",\"2018-08-18\",\"2018-08-19\",\"2018-08-20\",\"2018-08-21\",\"2018-08-22\",\"2018-08-23\",\"2018-08-24\",\"2018-08-25\",\"2018-08-26\",\"2018-08-27\",\"2018-08-28\",\"2018-08-29\",\"2018-08-30\",\"2018-08-31\",\"2018-09-01\",\"2018-09-02\",\"2018-09-03\",\"2018-09-04\",\"2018-09-05\",\"2018-09-06\",\"2018-09-07\",\"2018-09-08\",\"2018-09-09\"],\"Variable\":[\"GTC_Returns\",\"GTC_Returns\",\"GTC_Returns\",\"GTC_Returns\",\"GTC_Returns\",\"GTC_Returns\",\"GTC_Returns\",\"GTC_Returns\",\"GTC_Returns\",\"GTC_Returns\",\"GTC_Returns\",\"GTC_Returns\",\"GTC_Returns\",\"GTC_Returns\",\"GTC_Returns\",\"GTC_Returns\",\"GTC_Returns\",\"GTC_Returns\",\"GTC_Returns\",\"GTC_Returns\",\"GTC_Returns\",\"GTC_Returns\",\"GTC_Returns\",\"GTC_Returns\",\"GTC_Returns\",\"GTC_Returns\",\"GTC_Returns\",\"GTC_Returns\",\"GTC_Returns\",\"GTC_Returns\",\"GTC_Returns\",\"GTC_Returns\",\"GTC_Returns\",\"GTC_Returns\",\"GTC_Returns\",\"GTC_Returns\",\"GTC_Returns\",\"GTC_Returns\",\"GTC_Returns\",\"GTC_Returns\",\"GTC_Returns\",\"GTC_Returns\",\"GTC_Returns\",\"GTC_Returns\",\"GTC_Returns\",\"GTC_Returns\",\"GTC_Returns\",\"GTC_Returns\",\"GTC_Returns\",\"GTC_Returns\",\"GTC_Returns\",\"GTC_Returns\",\"GTC_Returns\",\"GTC_Returns\",\"GTC_Returns\",\"GTC_Returns\",\"GTC_Returns\",\"GTC_Returns\",\"GTC_Returns\",\"GTC_Returns\",\"GTC_Returns\",\"GTC_Returns\",\"GTC_Returns\",\"GTC_Returns\",\"GTC_Returns\",\"GTC_Returns\",\"GTC_Returns\",\"GTC_Returns\",\"GTC_Returns\",\"GTC_Returns\",\"GTC_Returns\",\"GTC_Returns\",\"GTC_Returns\",\"GTC_Returns\",\"GTC_Returns\",\"GTC_Returns\",\"GTC_Returns\",\"GTC_Returns\",\"GTC_Returns\",\"GTC_Returns\",\"GTC_Returns\",\"GTC_Returns\",\"GTC_Returns\",\"GTC_Returns\",\"GTC_Returns\",\"GTC_Returns\",\"GTC_Returns\",\"GTC_Returns\",\"GTC_Returns\",\"GTC_Returns\",\"GTC_Returns\",\"GTC_Returns\",\"GTC_Returns\",\"GTC_Returns\",\"GTC_Returns\",\"GTC_Returns\",\"GTC_Returns\",\"GTC_Returns\",\"GTC_Returns\",\"GTC_Returns\",\"GTC_Returns\",\"GTC_Returns\",\"GTC_Returns\",\"GTC_Returns\",\"GTC_Returns\",\"GTC_Returns\",\"GTC_Returns\",\"GTC_Returns\",\"GTC_Returns\",\"GTC_Returns\",\"GTC_Returns\",\"GTC_Returns\",\"GTC_Returns\",\"GTC_Returns\",\"GTC_Returns\",\"GTC_Returns\",\"GTC_Returns\",\"GTC_Returns\",\"GTC_Returns\",\"GTC_Returns\",\"GTC_Returns\",\"GTC_Returns\",\"GTC_Returns\",\"GTC_Returns\",\"GTC_Returns\",\"GTC_Returns\",\"GTC_Returns\",\"GTC_Returns\",\"GTC_Returns\",\"GTC_Returns\",\"GTC_Returns\",\"GTC_Returns\",\"GTC_Returns\",\"GTC_Returns\",\"GTC_Returns\",\"GTC_Returns\",\"GTC_Returns\",\"GTC_Returns\",\"GTC_Returns\",\"GTC_Returns\",\"GTC_Returns\",\"GTC_Returns\",\"GTC_Returns\",\"GTC_Returns\",\"GTC_Returns\",\"GTC_Returns\",\"GTC_Returns\",\"GTC_Returns\",\"GTC_Returns\",\"GTC_Returns\",\"GTC_Returns\",\"GTC_Returns\",\"GTC_Returns\",\"GTC_Returns\",\"GTC_Returns\",\"GTC_Returns\",\"GTC_Returns\",\"GTC_Returns\",\"GTC_Returns\",\"GTC_Returns\",\"GTC_Returns\",\"GTC_Returns\",\"GTC_Returns\",\"GTC_Returns\",\"GTC_Returns\",\"GTC_Returns\",\"GTC_Returns\",\"GTC_Returns\",\"GTC_Returns\",\"GTC_Returns\",\"GTC_Returns\",\"GTC_Returns\",\"GTC_Returns\",\"GTC_Returns\",\"GTC_Returns\",\"GTC_Returns\",\"GTC_Returns\",\"GTC_Returns\",\"GTC_Returns\",\"GTC_Returns\",\"GTC_Returns\",\"GTC_Returns\",\"GTC_Returns\",\"GTC_Returns\",\"GTC_Returns\",\"GTC_Returns\",\"GTC_Returns\",\"GTC_Returns\",\"GTC_Returns\",\"GTC_Returns\",\"GTC_Returns\",\"GTC_Returns\",\"GTC_Returns\",\"GTC_Returns\",\"GTC_Returns\",\"GTC_Returns\",\"GTC_Returns\",\"GTC_Returns\",\"GTC_Returns\",\"GTC_Returns\",\"GTC_Returns\",\"GTC_Returns\",\"GTC_Returns\",\"GTC_Returns\",\"GTC_Returns\",\"GTC_Returns\",\"GTC_Returns\",\"GTC_Returns\",\"GTC_Returns\",\"GTC_Returns\",\"GTC_Returns\",\"GTC_Returns\",\"GTC_Returns\",\"GTC_Returns\",\"GTC_Returns\",\"GTC_Returns\",\"GTC_Returns\",\"GTC_Returns\",\"GTC_Returns\",\"GTC_Returns\",\"GTC_Returns\",\"GTC_Returns\",\"GTC_Returns\",\"GTC_Returns\",\"GTC_Returns\",\"GTC_Returns\",\"GTC_Returns\",\"GTC_Returns\",\"GTC_Returns\",\"GTC_Returns\",\"GTC_Returns\",\"GTC_Returns\",\"GTC_Returns\",\"GTC_Returns\",\"GTC_Returns\",\"GTC_Returns\",\"GTC_Returns\",\"GTC_Returns\",\"GTC_Returns\",\"GTC_Returns\",\"GTC_Returns\",\"GTC_Returns\",\"GTC_Returns\",\"GTC_Returns\",\"GTC_Returns\",\"GTC_Returns\",\"GTC_Returns\",\"GTC_Returns\",\"GTC_Returns\",\"GTC_Returns\",\"GTC_Returns\"],\"value\":{\"__ndarray__\":\"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\",\"dtype\":\"float64\",\"order\":\"little\",\"shape\":[251]}},\"selected\":{\"id\":\"2125\"},\"selection_policy\":{\"id\":\"2141\"}},\"id\":\"2124\",\"type\":\"ColumnDataSource\"},{\"attributes\":{\"source\":{\"id\":\"2103\"}},\"id\":\"2110\",\"type\":\"CDSView\"},{\"attributes\":{\"overlay\":{\"id\":\"2089\"}},\"id\":\"2087\",\"type\":\"BoxZoomTool\"},{\"attributes\":{\"source\":{\"id\":\"2124\"}},\"id\":\"2131\",\"type\":\"CDSView\"},{\"attributes\":{},\"id\":\"2098\",\"type\":\"CategoricalTickFormatter\"},{\"attributes\":{},\"id\":\"2125\",\"type\":\"Selection\"},{\"attributes\":{\"line_color\":\"#30a2da\",\"line_width\":2,\"x\":{\"field\":\"Date\"},\"y\":{\"field\":\"value\"}},\"id\":\"2106\",\"type\":\"Line\"},{\"attributes\":{},\"id\":\"2141\",\"type\":\"UnionRenderers\"},{\"attributes\":{},\"id\":\"2118\",\"type\":\"UnionRenderers\"},{\"attributes\":{\"coordinates\":null,\"group\":null,\"text_color\":\"black\",\"text_font_size\":\"12pt\"},\"id\":\"2069\",\"type\":\"Title\"},{\"attributes\":{\"label\":{\"value\":\"DOGE_Returns\"},\"renderers\":[{\"id\":\"2109\"}]},\"id\":\"2122\",\"type\":\"LegendItem\"},{\"attributes\":{\"label\":{\"value\":\"GTC_Returns\"},\"renderers\":[{\"id\":\"2130\"}]},\"id\":\"2144\",\"type\":\"LegendItem\"},{\"attributes\":{},\"id\":\"2073\",\"type\":\"CategoricalScale\"},{\"attributes\":{},\"id\":\"2075\",\"type\":\"LinearScale\"},{\"attributes\":{},\"id\":\"2099\",\"type\":\"AllLabels\"},{\"attributes\":{\"click_policy\":\"mute\",\"coordinates\":null,\"group\":null,\"items\":[{\"id\":\"2122\"},{\"id\":\"2144\"}],\"location\":[0,0],\"title\":\"Variable\"},\"id\":\"2121\",\"type\":\"Legend\"},{\"attributes\":{\"line_color\":\"#fc4f30\",\"line_width\":2,\"x\":{\"field\":\"Date\"},\"y\":{\"field\":\"value\"}},\"id\":\"2145\",\"type\":\"Line\"},{\"attributes\":{\"axis\":{\"id\":\"2077\"},\"coordinates\":null,\"grid_line_color\":null,\"group\":null,\"ticker\":null},\"id\":\"2079\",\"type\":\"Grid\"},{\"attributes\":{\"line_color\":\"#30a2da\",\"line_width\":2,\"x\":{\"field\":\"Date\"},\"y\":{\"field\":\"value\"}},\"id\":\"2123\",\"type\":\"Line\"}],\"root_ids\":[\"2062\"]},\"title\":\"Bokeh Application\",\"version\":\"2.4.3\"}};\n",
       "    var render_items = [{\"docid\":\"de170ccc-57b4-41f3-9762-3abe32642799\",\"root_ids\":[\"2062\"],\"roots\":{\"2062\":\"627061dd-f174-4556-9c26-8fa23417b390\"}}];\n",
       "    root.Bokeh.embed.embed_items_notebook(docs_json, render_items);\n",
       "  }\n",
       "  if (root.Bokeh !== undefined && root.Bokeh.Panel !== undefined) {\n",
       "    embed_document(root);\n",
       "  } else {\n",
       "    var attempts = 0;\n",
       "    var timer = setInterval(function(root) {\n",
       "      if (root.Bokeh !== undefined && root.Bokeh.Panel !== undefined) {\n",
       "        clearInterval(timer);\n",
       "        embed_document(root);\n",
       "      } else if (document.readyState == \"complete\") {\n",
       "        attempts++;\n",
       "        if (attempts > 200) {\n",
       "          clearInterval(timer);\n",
       "          console.log(\"Bokeh: ERROR: Unable to run BokehJS code because BokehJS library is missing\");\n",
       "        }\n",
       "      }\n",
       "    }, 25, root)\n",
       "  }\n",
       "})(window);</script>"
      ],
      "text/plain": [
       ":NdOverlay   [Variable]\n",
       "   :Curve   [Date]   (value)"
      ]
     },
     "execution_count": 31,
     "metadata": {
      "application/vnd.holoviews_exec.v0+json": {
       "id": "2062"
      }
     },
     "output_type": "execute_result"
    }
   ],
   "source": [
    "# Use hvplot() function to plot your DataFrame\n",
    "# Label the x-axis \"Date\" and the y-axis \"Return\"\n",
    "# YOUR CODE HERE\n",
    "joined_returns_df.hvplot(xlabel=\"Date\", ylabel= \"Return\", x= \"Date\", y=(\"DOGE_Returns\", \"GTC_Returns\"),rot=90, \n",
    "    height = 500,\n",
    "    width = 2500)\n"
   ]
  },
  {
   "cell_type": "code",
   "execution_count": null,
   "metadata": {},
   "outputs": [],
   "source": []
  }
 ],
 "metadata": {
  "kernelspec": {
   "display_name": "base",
   "language": "python",
   "name": "python3"
  },
  "language_info": {
   "codemirror_mode": {
    "name": "ipython",
    "version": 3
   },
   "file_extension": ".py",
   "mimetype": "text/x-python",
   "name": "python",
   "nbconvert_exporter": "python",
   "pygments_lexer": "ipython3",
   "version": "3.7.13"
  }
 },
 "nbformat": 4,
 "nbformat_minor": 4
}
