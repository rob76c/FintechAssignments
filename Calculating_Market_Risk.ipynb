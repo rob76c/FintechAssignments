{
 "cells": [
  {
   "cell_type": "markdown",
   "metadata": {},
   "source": [
    "# Calculating Market Risk\n",
    "\n",
    "In this activity, you’ll calculate the beta for three stocks to identify the most conservative investment. \n",
    "\n",
    "Instructions:\n",
    "\n",
    "1. Import the required libraries and dependencies.\n",
    "\n",
    "2. Use the `read_csv` function and the `Path` module to import `tech_data.csv` into a Pandas DataFrame.\n",
    "\n",
    "3. Use the Pandas `pct_change` function together with the `dropna` function to calculate the daily returns for each stock in the DataFrame.\n",
    "\n",
    "4. Use the Pandas `var` function to calculate the variance for all the stocks in the DataFrame.\n",
    "\n",
    "5. Use the Pandas `var` function to calculate the variance for just the S&P 500. (You’ll use this in the beta calculation.)\n",
    "\n",
    "6. Use the Pandas `cov` function to calculate the covariance between each social media stock (FB, TWTR, and SNAP) and the market (S&P 500).\n",
    "\n",
    "7. Calculate the beta value for each of the three social media stocks by dividing the covariance of the stock by the variance of the market.\n",
    "\n",
    "8. Answer the following question: Based on your calculations of the betas, which of the three social media stocks presents the most conservative investment?\n",
    "\n",
    "References:\n",
    "\n",
    "[Pandas var function](https://pandas.pydata.org/pandas-docs/stable/reference/api/pandas.DataFrame.var.html)\n",
    "\n",
    "[Pandas cov function](https://pandas.pydata.org/pandas-docs/stable/reference/api/pandas.DataFrame.var.html)\n",
    "\n",
    "\n"
   ]
  },
  {
   "cell_type": "markdown",
   "metadata": {},
   "source": [
    "## Step 1: Import the required libraries and dependencies."
   ]
  },
  {
   "cell_type": "code",
   "execution_count": 1,
   "metadata": {},
   "outputs": [],
   "source": [
    "# Import Pandas library \n",
    "# YOUR CODE HERE\n",
    "import pandas as pd\n",
    "\n",
    "# Import the Path module from the pathlib library\n",
    "# YOUR CODE HERE\n",
    "import pathlib\n",
    "# Import the matplotlib inline dependency\n",
    "# YOUR CODE HERE\n",
    "%matplotlib inline\n"
   ]
  },
  {
   "cell_type": "markdown",
   "metadata": {},
   "source": [
    "## Step 2: Use the `read_csv` function and the `Path` module to import `tech_data.csv` into a Pandas DataFrame."
   ]
  },
  {
   "cell_type": "code",
   "execution_count": 2,
   "metadata": {},
   "outputs": [],
   "source": [
    "# Using the read_csv function and the Path module, read in the \"tech_data.csv\" file from the Resources folder\n",
    "# Set the \"Date\" as the index column \n",
    "# Be sure to set the DatetimeIndex using the parse_dates and infer_datetime_format parameters\n",
    "tech_df = pd.read_csv(pathlib.Path('tech_data.csv'),\n",
    "index_col=\"Date\", \n",
    "parse_dates=True, \n",
    "infer_datetime_format=True)\n",
    "\n",
    "# Review the 'tech_df' DataFrame with both the 'head' & 'tail' functions\n",
    "\n",
    "    "
   ]
  },
  {
   "cell_type": "markdown",
   "metadata": {},
   "source": [
    "## Step 3: Use the Pandas `pct_change` function together with the `dropna` function to calculate the daily returns for each stock in the DataFrame."
   ]
  },
  {
   "cell_type": "code",
   "execution_count": 3,
   "metadata": {},
   "outputs": [],
   "source": [
    "# Using the Pandas pct_change function in conjunction with the dropna function, create the tech daily returns DataFrame\n",
    "tech_daily_returns = tech_df.pct_change().dropna()\n",
    "\n",
    "# Review the first 5 rows of the tech daily returns DataFrame\n",
    "# YOUR CODE HERE\n"
   ]
  },
  {
   "cell_type": "markdown",
   "metadata": {},
   "source": [
    "## Step 4: Use the Pandas `var` function to calculate the variance for all the stocks in the DataFrame."
   ]
  },
  {
   "cell_type": "code",
   "execution_count": 4,
   "metadata": {},
   "outputs": [
    {
     "data": {
      "text/plain": [
       "FB         0.000374\n",
       "TWTR       0.000982\n",
       "SNAP       0.001745\n",
       "S&P 500    0.000070\n",
       "dtype: float64"
      ]
     },
     "execution_count": 4,
     "metadata": {},
     "output_type": "execute_result"
    }
   ],
   "source": [
    "# Using the Pandas var function, calculate the variance of all stocks in the tech daily returns DataFrame\n",
    "# YOUR CODE HERE\n",
    "tech_daily_returns.var()"
   ]
  },
  {
   "cell_type": "markdown",
   "metadata": {},
   "source": [
    "## Step 5: Use the Pandas `var` function to calculate the variance for just the S&P 500. (You’ll use this in the beta calculation.)"
   ]
  },
  {
   "cell_type": "code",
   "execution_count": 6,
   "metadata": {},
   "outputs": [
    {
     "data": {
      "text/plain": [
       "7.00079617330316e-05"
      ]
     },
     "execution_count": 6,
     "metadata": {},
     "output_type": "execute_result"
    }
   ],
   "source": [
    "# Using the Pandas var function, generate the variance for just the S&P 500\n",
    "# The S&P 500 is being used as the proxy for the market throughout this activity\n",
    "variance_market = tech_daily_returns['S&P 500'].var()\n",
    "\n",
    "# View the variance of the market\n",
    "# YOUR CODE HERE\n",
    "variance_market"
   ]
  },
  {
   "cell_type": "markdown",
   "metadata": {},
   "source": [
    "## Step 6: Use the Pandas `cov` function to calculate the covariance between each social media stock (FB, TWTR, and SNAP) and the market (S&P 500)."
   ]
  },
  {
   "cell_type": "code",
   "execution_count": 8,
   "metadata": {},
   "outputs": [
    {
     "data": {
      "text/plain": [
       "8.971694582778615e-05"
      ]
     },
     "execution_count": 8,
     "metadata": {},
     "output_type": "execute_result"
    }
   ],
   "source": [
    "# Using the Pandas cov function, calculate the covariance between the daily returns of FB and the daily returns of the S&P 500\n",
    "fb_covariance = tech_daily_returns['FB'].cov(tech_daily_returns['S&P 500'])\n",
    "\n",
    "# View the FB covariance\n",
    "# YOUR CODE HERE\n",
    "fb_covariance"
   ]
  },
  {
   "attachments": {},
   "cell_type": "markdown",
   "metadata": {},
   "source": [
    "8.971694582778615e-05"
   ]
  },
  {
   "cell_type": "code",
   "execution_count": 7,
   "metadata": {},
   "outputs": [
    {
     "data": {
      "text/plain": [
       "0.00010569463221453385"
      ]
     },
     "execution_count": 7,
     "metadata": {},
     "output_type": "execute_result"
    }
   ],
   "source": [
    "# Using the Pandas cov function, calculate the covariance between the daily returns of TWTR and the daily returns of the S&P 500\n",
    "twtr_covariance = # YOUR CODE HERE\n",
    "\n",
    "# View the TWTR covariance\n",
    "# YOUR CODE HERE\n"
   ]
  },
  {
   "cell_type": "code",
   "execution_count": 8,
   "metadata": {},
   "outputs": [
    {
     "data": {
      "text/plain": [
       "7.769087430496202e-05"
      ]
     },
     "execution_count": 8,
     "metadata": {},
     "output_type": "execute_result"
    }
   ],
   "source": [
    "# Using the Pandas cov function, calculate the covariance between the daily returns of SNAP and the daily returns of the S&P 500\n",
    "snap_covariance = # YOUR CODE HERE\n",
    "\n",
    "# View the SNAP covariance\n",
    "# YOUR CODE HERE\n"
   ]
  },
  {
   "cell_type": "markdown",
   "metadata": {},
   "source": [
    "## Step 7: Calculate the beta value for each of the three social media stocks by dividing the covariance of the stock by the variance of the market."
   ]
  },
  {
   "cell_type": "code",
   "execution_count": 10,
   "metadata": {},
   "outputs": [
    {
     "data": {
      "text/plain": [
       "1.2815248952670955"
      ]
     },
     "execution_count": 10,
     "metadata": {},
     "output_type": "execute_result"
    }
   ],
   "source": [
    "# Calculate beta of FB by dividing the covariance of FB by the variance of the S&P 500\n",
    "fb_beta = fb_covariance/variance_market\n",
    "# Print the beta of FB\n",
    "# YOUR CODE HERE\n",
    "fb_beta"
   ]
  },
  {
   "attachments": {},
   "cell_type": "markdown",
   "metadata": {},
   "source": [
    "1.2815248952670955"
   ]
  },
  {
   "cell_type": "code",
   "execution_count": 10,
   "metadata": {},
   "outputs": [
    {
     "name": "stdout",
     "output_type": "stream",
     "text": [
      "TWTR: 1.509751599647906\n"
     ]
    }
   ],
   "source": [
    "# Calculate beta of TWTR by dividing the covariance of TWTR by the variance of the S&P 500\n",
    "twtr_beta = # YOUR CODE HERE\n",
    "\n",
    "# Print the beta of TWTR\n",
    "# YOUR CODE HERE\n"
   ]
  },
  {
   "cell_type": "code",
   "execution_count": 11,
   "metadata": {},
   "outputs": [
    {
     "name": "stdout",
     "output_type": "stream",
     "text": [
      "SNAP: 1.1097434117740557\n"
     ]
    }
   ],
   "source": [
    "# Calculate beta of SNAP by dividing the covariance of SNAP by the variance of the S&P 500\n",
    "snap_beta = # YOUR CODE HERE\n",
    "\n",
    "# Print the beta of SNAP\n",
    "# YOUR CODE HERE\n"
   ]
  },
  {
   "cell_type": "markdown",
   "metadata": {},
   "source": [
    "## Step 8: Answer the following question: Based on your calculations of the betas, which of the three social media stocks presents the most conservative investment?"
   ]
  },
  {
   "cell_type": "markdown",
   "metadata": {},
   "source": [
    "**Question:** Based on your calculations of beta, which of the 3 social media stocks presents the most conservative investment?\n",
    "\n",
    "**Answer:** # YOUR ANSWER HERE"
   ]
  },
  {
   "cell_type": "code",
   "execution_count": null,
   "metadata": {},
   "outputs": [],
   "source": []
  }
 ],
 "metadata": {
  "kernelspec": {
   "display_name": "Python 3",
   "language": "python",
   "name": "python3"
  },
  "language_info": {
   "codemirror_mode": {
    "name": "ipython",
    "version": 3
   },
   "file_extension": ".py",
   "mimetype": "text/x-python",
   "name": "python",
   "nbconvert_exporter": "python",
   "pygments_lexer": "ipython3",
   "version": "3.10.9"
  }
 },
 "nbformat": 4,
 "nbformat_minor": 4
}
