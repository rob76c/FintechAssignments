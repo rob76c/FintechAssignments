{
 "cells": [
  {
   "cell_type": "markdown",
   "metadata": {},
   "source": [
    "# Querying Top and Bottom Credit Scores\n",
    "\n",
    "In this activity, you’ll create a SQL query that orders the results returned from the database and limits the returned entries\n",
    "\n",
    "Instructions\n",
    "\n",
    "1. Import the required libraries and dependencies: Pandas, Path, and SQLAlchemy.\n",
    "\n",
    "2. Read `credit_scores.csv` into a new Pandas DataFrame.\n",
    "\n",
    "3. Set up a database connection by completing the following steps:\n",
    "\n",
    "    1. Create the connection string for your new SQLite database.\n",
    "\n",
    "    2. Pass the connection string to the `create_engine` function.\n",
    "\n",
    "    3. Confirm the creation of the database engine.\n",
    "\n",
    "4. Use the `to_sql` function to create a new table named `credit_score_info` in the database. To do so, use the information in the `credit_score_info_df` DataFrame. Be sure to do the following:\n",
    "\n",
    "    - Include the parameters for the engine, the index, and replace the table if it already exists.\n",
    "\n",
    "    - Call the `table_names` function to confirm that the newly created table exists in the database.\n",
    "\n",
    "5. Write a SQL query to return all columns associated with the 10 highest credit scores. Call the `execute` function on the database engine to run the query, and then review the list of results.\n",
    "\n",
    "6. Write a SQL query to return all columns associated with the 10 lowest credit scores. Call the `execute` function on the database engine to run the query, and then review the list of results.\n",
    "\n",
    "\n",
    "References\n",
    "\n",
    "[SQL SELECT](https://docs.microsoft.com/en-us/sql/t-sql/queries/select-transact-sql?view=sql-server-ver15)\n",
    "\n",
    "[SQL ORDER BY](https://docs.microsoft.com/en-us/sql/t-sql/queries/select-order-by-clause-transact-sql?view=sql-server-ver15)\n",
    "\n",
    "[SQLAlchemy SQLite Create Engine](https://docs.sqlalchemy.org/en/14/core/engines.html#sqlite)\n",
    "\n",
    "[SQLAlchemy Core](https://docs.sqlalchemy.org/en/14/core/index.html)\n"
   ]
  },
  {
   "cell_type": "markdown",
   "metadata": {},
   "source": [
    "## Step 1: Import the required libraries and dependencies: Pandas, Path, and SQLAlchemy."
   ]
  },
  {
   "cell_type": "code",
   "execution_count": 1,
   "metadata": {},
   "outputs": [],
   "source": [
    "# Import the required libraries and dependencies\n",
    "import pandas as pd\n",
    "from pathlib import Path\n",
    "import sqlalchemy\n"
   ]
  },
  {
   "cell_type": "markdown",
   "metadata": {},
   "source": [
    "## Step 2: Read `credit_score_info.csv` into a new Pandas DataFrame."
   ]
  },
  {
   "cell_type": "code",
   "execution_count": 2,
   "metadata": {},
   "outputs": [
    {
     "data": {
      "text/html": [
       "<div>\n",
       "<style scoped>\n",
       "    .dataframe tbody tr th:only-of-type {\n",
       "        vertical-align: middle;\n",
       "    }\n",
       "\n",
       "    .dataframe tbody tr th {\n",
       "        vertical-align: top;\n",
       "    }\n",
       "\n",
       "    .dataframe thead th {\n",
       "        text-align: right;\n",
       "    }\n",
       "</style>\n",
       "<table border=\"1\" class=\"dataframe\">\n",
       "  <thead>\n",
       "    <tr style=\"text-align: right;\">\n",
       "      <th></th>\n",
       "      <th>names</th>\n",
       "      <th>cities</th>\n",
       "      <th>credit_score</th>\n",
       "      <th>credit_score_provider</th>\n",
       "    </tr>\n",
       "  </thead>\n",
       "  <tbody>\n",
       "    <tr>\n",
       "      <th>0</th>\n",
       "      <td>Dana Nelson</td>\n",
       "      <td>Heathermouth</td>\n",
       "      <td>472</td>\n",
       "      <td>Equifax</td>\n",
       "    </tr>\n",
       "    <tr>\n",
       "      <th>1</th>\n",
       "      <td>Paul Hall</td>\n",
       "      <td>Bethshire</td>\n",
       "      <td>794</td>\n",
       "      <td>Experian</td>\n",
       "    </tr>\n",
       "    <tr>\n",
       "      <th>2</th>\n",
       "      <td>Michael King</td>\n",
       "      <td>Kellyhaven</td>\n",
       "      <td>742</td>\n",
       "      <td>Experian</td>\n",
       "    </tr>\n",
       "    <tr>\n",
       "      <th>3</th>\n",
       "      <td>Brenda Hernandez</td>\n",
       "      <td>North Cynthialand</td>\n",
       "      <td>677</td>\n",
       "      <td>TransUnion</td>\n",
       "    </tr>\n",
       "    <tr>\n",
       "      <th>4</th>\n",
       "      <td>Jonathan May II</td>\n",
       "      <td>Port Alexburgh</td>\n",
       "      <td>358</td>\n",
       "      <td>Experian</td>\n",
       "    </tr>\n",
       "    <tr>\n",
       "      <th>...</th>\n",
       "      <td>...</td>\n",
       "      <td>...</td>\n",
       "      <td>...</td>\n",
       "      <td>...</td>\n",
       "    </tr>\n",
       "    <tr>\n",
       "      <th>95</th>\n",
       "      <td>Derrick Roberts</td>\n",
       "      <td>North Christopherfurt</td>\n",
       "      <td>536</td>\n",
       "      <td>TransUnion</td>\n",
       "    </tr>\n",
       "    <tr>\n",
       "      <th>96</th>\n",
       "      <td>Stacy Johnson</td>\n",
       "      <td>Garzaton</td>\n",
       "      <td>596</td>\n",
       "      <td>Equifax</td>\n",
       "    </tr>\n",
       "    <tr>\n",
       "      <th>97</th>\n",
       "      <td>Amanda Baker</td>\n",
       "      <td>Vegatown</td>\n",
       "      <td>368</td>\n",
       "      <td>Equifax</td>\n",
       "    </tr>\n",
       "    <tr>\n",
       "      <th>98</th>\n",
       "      <td>Dawn Underwood</td>\n",
       "      <td>New Brianshire</td>\n",
       "      <td>830</td>\n",
       "      <td>Experian</td>\n",
       "    </tr>\n",
       "    <tr>\n",
       "      <th>99</th>\n",
       "      <td>Kelly Valenzuela</td>\n",
       "      <td>Castillochester</td>\n",
       "      <td>368</td>\n",
       "      <td>Experian</td>\n",
       "    </tr>\n",
       "  </tbody>\n",
       "</table>\n",
       "<p>100 rows × 4 columns</p>\n",
       "</div>"
      ],
      "text/plain": [
       "               names                 cities  credit_score  \\\n",
       "0        Dana Nelson           Heathermouth           472   \n",
       "1          Paul Hall              Bethshire           794   \n",
       "2       Michael King             Kellyhaven           742   \n",
       "3   Brenda Hernandez      North Cynthialand           677   \n",
       "4    Jonathan May II         Port Alexburgh           358   \n",
       "..               ...                    ...           ...   \n",
       "95   Derrick Roberts  North Christopherfurt           536   \n",
       "96     Stacy Johnson               Garzaton           596   \n",
       "97      Amanda Baker               Vegatown           368   \n",
       "98    Dawn Underwood         New Brianshire           830   \n",
       "99  Kelly Valenzuela        Castillochester           368   \n",
       "\n",
       "   credit_score_provider  \n",
       "0                Equifax  \n",
       "1               Experian  \n",
       "2               Experian  \n",
       "3             TransUnion  \n",
       "4               Experian  \n",
       "..                   ...  \n",
       "95            TransUnion  \n",
       "96               Equifax  \n",
       "97               Equifax  \n",
       "98              Experian  \n",
       "99              Experian  \n",
       "\n",
       "[100 rows x 4 columns]"
      ]
     },
     "execution_count": 2,
     "metadata": {},
     "output_type": "execute_result"
    }
   ],
   "source": [
    "# Using the Pandas read_csv funcion and the Path module, \n",
    "# read \"credit_score_info.csv\" file into a Pandas DataFrame\n",
    "credit_score_info_df = pd.read_csv(Path(\"Resources/credit_score_info.csv\"))\n",
    "\n",
    "# Review the DataFrame\n",
    "\n",
    "credit_score_info_df"
   ]
  },
  {
   "cell_type": "markdown",
   "metadata": {},
   "source": [
    "## Step 3: Set up a database connection by completing the following steps:\n",
    "\n",
    "    1. Create the connection string for your new SQLite database.\n",
    "\n",
    "    2. Pass the connection string to the `create_engine` function.\n",
    "\n",
    "    3. Confirm the creation of the database engine.\n"
   ]
  },
  {
   "cell_type": "code",
   "execution_count": 3,
   "metadata": {},
   "outputs": [
    {
     "data": {
      "text/plain": [
       "Engine(sqlite:///)"
      ]
     },
     "execution_count": 3,
     "metadata": {},
     "output_type": "execute_result"
    }
   ],
   "source": [
    "# Create the connection string for your SQLite database\n",
    "database_connection_string = 'sqlite:///'\n",
    "\n",
    "# Pass the connection string to the SQLAlchemy create_engine function\n",
    "engine = sqlalchemy.create_engine(database_connection_string)\n",
    "\n",
    "# Confirm that the database engine was created.\n",
    "# YOUR CODE HERE\n",
    "engine\n"
   ]
  },
  {
   "cell_type": "markdown",
   "metadata": {},
   "source": [
    "## Step 4: Use the `to_sql` function to create a new table named `credit_score_info` in the database. To do so, use the information in the `credit_score_info_df` DataFrame. Be sure to do the following:\n",
    "\n",
    "    - Include the parameters for the engine, the index, and replace the table if it already exists.\n",
    "\n",
    "    - Call the `table_names` function to confirm that the newly created table exists in the database.\n"
   ]
  },
  {
   "cell_type": "code",
   "execution_count": 4,
   "metadata": {},
   "outputs": [
    {
     "name": "stderr",
     "output_type": "stream",
     "text": [
      "d:\\Users\\Roberts\\anaconda3\\envs\\dev\\lib\\site-packages\\ipykernel_launcher.py:8: SADeprecationWarning: The Engine.table_names() method is deprecated and will be removed in a future release.  Please refer to Inspector.get_table_names(). (deprecated since: 1.4)\n",
      "  \n"
     ]
    },
    {
     "data": {
      "text/plain": [
       "['credit_score_info']"
      ]
     },
     "execution_count": 4,
     "metadata": {},
     "output_type": "execute_result"
    }
   ],
   "source": [
    "# Using the credit_score_info_df DataFrame, create a table called credit_score_info \n",
    "# inside your newly created database\n",
    "# Be sure include the parameters for the engine, the index, and if_exists with the function\n",
    "credit_score_info_df.to_sql('credit_score_info', engine, index=False, if_exists= 'replace')\n",
    "\n",
    "# Confirm that the table was created by calling the table_names function\n",
    "# YOUR CODE HERE\n",
    "engine.table_names()"
   ]
  },
  {
   "cell_type": "markdown",
   "metadata": {},
   "source": [
    "## Step 5. Write a SQL query to return all columns associated with the 10 highest credit scores. Call the `execute` function on the database engine to run the query, and then review the list of results."
   ]
  },
  {
   "cell_type": "code",
   "execution_count": 5,
   "metadata": {},
   "outputs": [
    {
     "data": {
      "text/plain": [
       "[('Jacob Pineda', 'North Victoriaside', 842, 'Experian'),\n",
       " ('Dawn Underwood', 'New Brianshire', 830, 'Experian'),\n",
       " ('Rebecca Cook', 'North Lynnbury', 819, 'Equifax'),\n",
       " ('Tracey Smith', 'Janetview', 815, 'TransUnion'),\n",
       " ('Christy Wagner', 'Ritafort', 805, 'TransUnion'),\n",
       " ('Paul Hall', 'Bethshire', 794, 'Experian'),\n",
       " ('Morgan Bradshaw', 'Huynhfort', 792, 'Equifax'),\n",
       " ('Stacy Keller', 'Lauraborough', 791, 'Equifax'),\n",
       " ('Cynthia Strong', 'Emilymouth', 770, 'TransUnion'),\n",
       " ('Felicia Vargas', 'New Carol', 768, 'Experian')]"
      ]
     },
     "execution_count": 5,
     "metadata": {},
     "output_type": "execute_result"
    }
   ],
   "source": [
    "# Create and execute a query to return all columns for the 10 highest credit scores.\n",
    "query_credit_top_10 = \"\"\"\n",
    "SELECT * FROM credit_score_info\n",
    "ORDER BY credit_score DESC\n",
    "LIMIT 10\n",
    "\"\"\"\n",
    "\n",
    "# Call on the database engine to execute the query\n",
    "results = engine.execute(query_credit_top_10)\n",
    "# List of the results of the database query\n",
    "# YOUR CODE HERE\n",
    "list(results)"
   ]
  },
  {
   "cell_type": "markdown",
   "metadata": {},
   "source": [
    "## Step 6: Write a SQL query to return all columns associated with the 10 lowest credit scores. Call the `execute` function on the database engine to run the query, and then review the list of results."
   ]
  },
  {
   "cell_type": "code",
   "execution_count": 6,
   "metadata": {},
   "outputs": [
    {
     "data": {
      "text/plain": [
       "[('Christopher Baldwin', 'Lake Susan', 300, 'Equifax'),\n",
       " ('Robert Brown', 'North Rhonda', 301, 'Equifax'),\n",
       " ('Lynn Cain', 'Port Peterside', 311, 'Equifax'),\n",
       " ('Eric Russell', 'South Raymond', 315, 'Equifax'),\n",
       " ('Rachel Parker', 'Sarahfurt', 329, 'Experian'),\n",
       " ('Douglas Bridges', 'Lake Clayton', 333, 'Experian'),\n",
       " ('Julie Mendez', 'Port Jasonton', 334, 'TransUnion'),\n",
       " ('Tammy Blevins', 'Pachecobury', 334, 'Experian'),\n",
       " ('Debra Foster', 'Lake Alanmouth', 334, 'TransUnion'),\n",
       " ('Jamie Potter', 'South Joshuastad', 338, 'Experian')]"
      ]
     },
     "execution_count": 6,
     "metadata": {},
     "output_type": "execute_result"
    }
   ],
   "source": [
    "# Create and execute a query to return all columns for the 10 lowest credit scores.\n",
    "query_credit_bottom_10 = \"\"\"\n",
    "SELECT * FROM credit_score_info\n",
    "ORDER BY credit_score ASC\n",
    "LIMIT 10\n",
    "\"\"\"\n",
    "\n",
    "# Call on the database engine to execute the query\n",
    "results = engine.execute(query_credit_bottom_10)\n",
    "# List of the results of the database query\n",
    "# YOUR CODE HERE\n",
    "list(results)"
   ]
  }
 ],
 "metadata": {
  "kernelspec": {
   "display_name": "base",
   "language": "python",
   "name": "python3"
  },
  "language_info": {
   "codemirror_mode": {
    "name": "ipython",
    "version": 3
   },
   "file_extension": ".py",
   "mimetype": "text/x-python",
   "name": "python",
   "nbconvert_exporter": "python",
   "pygments_lexer": "ipython3",
   "version": "3.7.13"
  }
 },
 "nbformat": 4,
 "nbformat_minor": 4
}
