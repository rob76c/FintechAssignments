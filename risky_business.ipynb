{
 "cells": [
  {
   "cell_type": "markdown",
   "metadata": {},
   "source": [
    "# Risky Business\n",
    "\n",
    "This activity will involve calculating daily return data, standard deviation, annualized standard deviation, and Sharpe ratios as you analyze the risk and return metrics of each cryptocurrency in the portfolio.\n",
    "\n",
    "Instructions:\n",
    "\n",
    "1. Import the required libraries and dependencies.\n",
    "\n",
    "2. Using the `read_csv` function and the `Path` module, read the `crypto_portfolio.csv` file into a Pandas DataFrame. Be sure to set a `DateTimeIndex`. Review the DataFrame by using both the `head` and the `tail` function.\n",
    "\n",
    "3. Using the Pandas `pct_change` function together with `dropna`, calculate the daily returns for the cryptocurrency portfolio DataFrame.\n",
    "\n",
    "4. Calculate the summary statistics for the DataFrame of cryptocurrency daily returns by calling the Pandas `describe` function.\n",
    "\n",
    "5. Create a box plot that visualizes the spread of the daily return values for each cryptocurrency.\n",
    "\n",
    "6. Answer the following question: based on the summary statistics and the box plot visualization, which cryptocurrency has the smallest spread and which has the largest?\n",
    "\n",
    "7. Calculate the annualized average daily return values. Then use the Pandas `sort_values` function to sort the values from smallest to largest.\n",
    "\n",
    "    > **Hint** To calculate the annualized average daily returns, multiply the mean for each cryptocurrency’s daily return value by the number of trading days in the year (252).\n",
    "\n",
    "8. Calculate the annualized standard deviations for the DataFrame of cryptocurrency daily returns. Sort the values from smallest to largest.\n",
    "\n",
    "    > **Hint** To calculate the annualized standard deviations, multiply the standard deviation of each cryptocurrency’s daily return value by the square root of the number of the number of trading days (`np.sqrt(252)`).\n",
    "\n",
    "9. Calculate the Sharpe ratio for each cryptocurrency. Sort the Sharpe ratios from smallest to largest.\n",
    "\n",
    "    > **Hint** To calculate the Sharpe ratio, divide the annualized average return by the annualized standard deviation.\n",
    "\n",
    "10. Plot the Sharpe ratios in a bar chart.\n",
    "\n",
    "11. Answer the following questions: Based on the risk and return metrics that you calculated, what cryptocurrency do you recommend that your firm invest in, and why? What’s your second choice?\n",
    "\n",
    "\n",
    "References:\n",
    "\n",
    "[Pandas std function](https://pandas.pydata.org/pandas-docs/stable/reference/api/pandas.DataFrame.std.html)\n",
    "\n",
    "[NumPy sqrt function](https://numpy.org/doc/stable/reference/generated/numpy.sqrt.html)\n",
    "\n",
    "[Pandas plot.bar function](https://pandas.pydata.org/pandas-docs/stable/reference/api/pandas.DataFrame.plot.bar.html)\n"
   ]
  },
  {
   "cell_type": "markdown",
   "metadata": {},
   "source": [
    "## Step 1: Import the required libraries and dependencies."
   ]
  },
  {
   "cell_type": "code",
   "execution_count": 2,
   "metadata": {},
   "outputs": [],
   "source": [
    "# Import the Pandas library\n",
    "# YOUR CODE HERE\n",
    "import pandas as pd\n",
    "\n",
    "# Import the NumPy library\n",
    "# YOUR CODE HERE\n",
    "import numpy as np\n",
    "\n",
    "# Import the Path module from the Pathlib library\n",
    "# YOUR CODE HERE\n",
    "import pathlib\n",
    "\n",
    "# Import the %matplotlib inline dependency\n",
    "# YOUR CODE HERE\n",
    "%matplotlib inline"
   ]
  },
  {
   "cell_type": "markdown",
   "metadata": {},
   "source": [
    "## Step 2: Using the `read_csv` function and the `Path` module, read the `crypto_portfolio.csv` file into a Pandas DataFrame. Be sure to set a `DateTimeIndex`. Review the DataFrame by using both the `head` and the `tail` function."
   ]
  },
  {
   "cell_type": "code",
   "execution_count": 3,
   "metadata": {},
   "outputs": [],
   "source": [
    "# Using the read_csv function and the Path module, read in the \"crypto_portfolio.csv\" file from the Resources folder\n",
    "# Set the \"Date\" as the index column\n",
    "# Be sure to set the DatetimeIndex using the parse_dates and infer_datetime_format parameters\n",
    "crypto_portfolio_df = pd.read_csv(pathlib.Path(\"crypto_portfolio.csv\"), index_col=\"Date\", \n",
    "    parse_dates=True, \n",
    "    infer_datetime_format=True\n",
    ")\n",
    "\n",
    "# Review the import by displaying both the head and tail functions\n",
    "\n",
    "    "
   ]
  },
  {
   "cell_type": "markdown",
   "metadata": {},
   "source": [
    "## Step 3: Using the Pandas `pct_change` function together with `dropna`, calculate the daily returns for the cryptocurrency portfolio DataFrame."
   ]
  },
  {
   "cell_type": "code",
   "execution_count": 4,
   "metadata": {},
   "outputs": [],
   "source": [
    "# Using the Pandas pct_change function in conjunction with the dropna function, create the crypto daily returns DataFrame\n",
    "crypto_daily_returns = crypto_portfolio_df.pct_change().dropna()\n",
    "\n",
    "# Review the first 5 rows of the crypto daily returns DataFrame \n",
    "# YOUR CODE HERE\n"
   ]
  },
  {
   "cell_type": "markdown",
   "metadata": {},
   "source": [
    "## Step 4: Calculate the summary statistics for the DataFrame of cryptocurrency daily returns by calling the Pandas `describe` function."
   ]
  },
  {
   "cell_type": "code",
   "execution_count": 5,
   "metadata": {},
   "outputs": [
    {
     "data": {
      "text/html": [
       "<div>\n",
       "<style scoped>\n",
       "    .dataframe tbody tr th:only-of-type {\n",
       "        vertical-align: middle;\n",
       "    }\n",
       "\n",
       "    .dataframe tbody tr th {\n",
       "        vertical-align: top;\n",
       "    }\n",
       "\n",
       "    .dataframe thead th {\n",
       "        text-align: right;\n",
       "    }\n",
       "</style>\n",
       "<table border=\"1\" class=\"dataframe\">\n",
       "  <thead>\n",
       "    <tr style=\"text-align: right;\">\n",
       "      <th></th>\n",
       "      <th>BTC</th>\n",
       "      <th>DOGE</th>\n",
       "      <th>ETH</th>\n",
       "      <th>LTC</th>\n",
       "      <th>XRP</th>\n",
       "      <th>XLM</th>\n",
       "    </tr>\n",
       "  </thead>\n",
       "  <tbody>\n",
       "    <tr>\n",
       "      <th>count</th>\n",
       "      <td>987.000000</td>\n",
       "      <td>987.000000</td>\n",
       "      <td>987.000000</td>\n",
       "      <td>987.000000</td>\n",
       "      <td>987.000000</td>\n",
       "      <td>987.000000</td>\n",
       "    </tr>\n",
       "    <tr>\n",
       "      <th>mean</th>\n",
       "      <td>0.003585</td>\n",
       "      <td>0.005190</td>\n",
       "      <td>0.005012</td>\n",
       "      <td>0.005511</td>\n",
       "      <td>0.008070</td>\n",
       "      <td>0.008669</td>\n",
       "    </tr>\n",
       "    <tr>\n",
       "      <th>std</th>\n",
       "      <td>0.042721</td>\n",
       "      <td>0.074504</td>\n",
       "      <td>0.060837</td>\n",
       "      <td>0.071647</td>\n",
       "      <td>0.099961</td>\n",
       "      <td>0.102069</td>\n",
       "    </tr>\n",
       "    <tr>\n",
       "      <th>min</th>\n",
       "      <td>-0.156905</td>\n",
       "      <td>-0.389127</td>\n",
       "      <td>-0.237338</td>\n",
       "      <td>-0.265049</td>\n",
       "      <td>-0.460047</td>\n",
       "      <td>-0.306745</td>\n",
       "    </tr>\n",
       "    <tr>\n",
       "      <th>25%</th>\n",
       "      <td>-0.012076</td>\n",
       "      <td>-0.023683</td>\n",
       "      <td>-0.023476</td>\n",
       "      <td>-0.026037</td>\n",
       "      <td>-0.024028</td>\n",
       "      <td>-0.035165</td>\n",
       "    </tr>\n",
       "    <tr>\n",
       "      <th>50%</th>\n",
       "      <td>0.002786</td>\n",
       "      <td>0.000000</td>\n",
       "      <td>0.000000</td>\n",
       "      <td>-0.002525</td>\n",
       "      <td>-0.003639</td>\n",
       "      <td>-0.003790</td>\n",
       "    </tr>\n",
       "    <tr>\n",
       "      <th>75%</th>\n",
       "      <td>0.021858</td>\n",
       "      <td>0.022422</td>\n",
       "      <td>0.029117</td>\n",
       "      <td>0.028355</td>\n",
       "      <td>0.022401</td>\n",
       "      <td>0.036348</td>\n",
       "    </tr>\n",
       "    <tr>\n",
       "      <th>max</th>\n",
       "      <td>0.272020</td>\n",
       "      <td>0.611579</td>\n",
       "      <td>0.325907</td>\n",
       "      <td>0.834884</td>\n",
       "      <td>1.793669</td>\n",
       "      <td>1.060816</td>\n",
       "    </tr>\n",
       "  </tbody>\n",
       "</table>\n",
       "</div>"
      ],
      "text/plain": [
       "              BTC        DOGE         ETH         LTC         XRP         XLM\n",
       "count  987.000000  987.000000  987.000000  987.000000  987.000000  987.000000\n",
       "mean     0.003585    0.005190    0.005012    0.005511    0.008070    0.008669\n",
       "std      0.042721    0.074504    0.060837    0.071647    0.099961    0.102069\n",
       "min     -0.156905   -0.389127   -0.237338   -0.265049   -0.460047   -0.306745\n",
       "25%     -0.012076   -0.023683   -0.023476   -0.026037   -0.024028   -0.035165\n",
       "50%      0.002786    0.000000    0.000000   -0.002525   -0.003639   -0.003790\n",
       "75%      0.021858    0.022422    0.029117    0.028355    0.022401    0.036348\n",
       "max      0.272020    0.611579    0.325907    0.834884    1.793669    1.060816"
      ]
     },
     "execution_count": 5,
     "metadata": {},
     "output_type": "execute_result"
    }
   ],
   "source": [
    "# Generate summary statistics for the crypto daily returns DataFrame using the Pandas describe function\n",
    "# YOUR CODE HERE\n",
    "crypto_daily_returns.describe()"
   ]
  },
  {
   "cell_type": "markdown",
   "metadata": {},
   "source": [
    "## Step 5: Create a box plot that visualizes the spread of the daily return values for each cryptocurrency."
   ]
  },
  {
   "cell_type": "code",
   "execution_count": 5,
   "metadata": {},
   "outputs": [
    {
     "data": {
      "text/plain": [
       "<AxesSubplot:>"
      ]
     },
     "execution_count": 5,
     "metadata": {},
     "output_type": "execute_result"
    },
    {
     "data": {
      "image/png": "[encoded data removed]",
      "text/plain": [
       "<Figure size 432x288 with 1 Axes>"
      ]
     },
     "metadata": {
      "needs_background": "light"
     },
     "output_type": "display_data"
    }
   ],
   "source": [
    "# Using the Pandas plot function with the kind paramater set to the value box, visualize the spread of the crypto daily returns DataFrame\n",
    "# YOUR CODE HERE\n",
    "crypto_daily_returns.plot(kind='box')"
   ]
  },
  {
   "cell_type": "markdown",
   "metadata": {},
   "source": [
    "## Step 6: Answer the following question: based on the summary statistics and the box plot visualization, which cryptocurrency has the smallest spread and which has the largest?"
   ]
  },
  {
   "cell_type": "markdown",
   "metadata": {},
   "source": [
    "**Question:** Based on the summary statistics and the box plot visualization, which of the cryptocurrencies has the smallest spread, and which has the largest?\n",
    "\n",
    "**Answer:** # YOUR ANSWER HERE"
   ]
  },
  {
   "cell_type": "markdown",
   "metadata": {},
   "source": [
    "## Step 7: Calculate the annualized average daily return values. Then use the Pandas `sort_values` function to sort the values from smallest to largest."
   ]
  },
  {
   "cell_type": "code",
   "execution_count": 6,
   "metadata": {},
   "outputs": [],
   "source": [
    "# The number of trading days is set to 252 for use throughout these calculations\n",
    "trading_days = 252\n",
    "\n",
    "# Calculate the annual average daily returns for the crypto currencies\n",
    "# Use the Pandas mean function to calculate the average daily return for each cryptocurrency \n",
    "# Then multiply that value by the number of trading days in a year, using the trading_days variable set above \n",
    "annual_average_crypto_returns = (crypto_daily_returns.mean()*trading_days).sort_values()\n",
    "# Sort the annual average returns for the cryptocurrencies from lowest to highest\n",
    "# YOUR CODE HERE\n"
   ]
  },
  {
   "cell_type": "markdown",
   "metadata": {},
   "source": [
    "## Step 8: Calculate the annualized standard deviations for the DataFrame of cryptocurrency daily returns. Sort the values from smallest to largest."
   ]
  },
  {
   "cell_type": "code",
   "execution_count": 10,
   "metadata": {},
   "outputs": [],
   "source": [
    "# Calculate the annualized standard deviation for the cryptocurrencies\n",
    "# Use the Pandas std function to calculate the standard deviation for each cryptocurrency\n",
    "# Multiply the standard deviation by the square root (using the NumPy sqrt function) of the number of trading days\n",
    "annual_standard_deviation = (crypto_daily_returns.std()*np.sqrt(trading_days)).sort_values()\n",
    "# Sort the annual standard deviations for the cryptocurrencies from lowest to highest\n",
    "# YOUR CODE HERE\n"
   ]
  },
  {
   "cell_type": "markdown",
   "metadata": {},
   "source": [
    "## Step 9: Calculate the Sharpe ratio for each cryptocurrency. Sort the Sharpe ratios from smallest to largest."
   ]
  },
  {
   "cell_type": "code",
   "execution_count": 16,
   "metadata": {},
   "outputs": [
    {
     "data": {
      "text/plain": [
       "BTC     1.332250\n",
       "DOGE    1.105764\n",
       "ETH     1.307897\n",
       "LTC     1.221064\n",
       "XLM     1.348301\n",
       "XRP     1.281543\n",
       "dtype: float64"
      ]
     },
     "execution_count": 16,
     "metadata": {},
     "output_type": "execute_result"
    }
   ],
   "source": [
    "# Calculate Sharpe ratios by dividing the annual average return of the cryptocurrencies \n",
    "# by the annual standard deviation of the cryptocurrencies\n",
    "crypto_sharpe_ratios = (annual_average_crypto_returns/ annual_standard_deviation)\n",
    "# Sort the Sharpe ratios for the cryptocurrencies from lowest to highest\n",
    "# YOUR CODE HERE\n",
    "crypto_sharpe_ratios"
   ]
  },
  {
   "attachments": {},
   "cell_type": "markdown",
   "metadata": {},
   "source": [
    "DOGE    1.105764\n",
    "LTC     1.221064\n",
    "XRP     1.281543\n",
    "ETH     1.307897\n",
    "BTC     1.332250\n",
    "XLM     1.348301\n",
    "dtype: float64"
   ]
  },
  {
   "cell_type": "markdown",
   "metadata": {},
   "source": [
    "## Step 10: Plot the Sharpe ratios in a bar chart."
   ]
  },
  {
   "cell_type": "code",
   "execution_count": 20,
   "metadata": {},
   "outputs": [
    {
     "data": {
      "text/plain": [
       "<Axes: title={'center': 'Sharpe'}>"
      ]
     },
     "execution_count": 20,
     "metadata": {},
     "output_type": "execute_result"
    },
    {
     "data": {
      "image/png": "[encoded data removed]",
      "text/plain": [
       "<Figure size 1000x500 with 1 Axes>"
      ]
     },
     "metadata": {},
     "output_type": "display_data"
    }
   ],
   "source": [
    "# Using the Pandas plot.bar function, visualize the Sharpe ratios for the cryptocurrencies in a bar chart\n",
    "# Be sure to adjust the figure size and include a title\n",
    "# YOUR CODE HERE\n",
    "crypto_sharpe_ratios.plot.bar(title=\"Sharpe\", figsize=(10,5))\n"
   ]
  },
  {
   "cell_type": "markdown",
   "metadata": {},
   "source": [
    "## Step 11: Answer the following questions: Based on the risk and return metrics that you calculated, what cryptocurrency do you recommend that your firm invest in, and why? What’s your second choice?"
   ]
  },
  {
   "cell_type": "markdown",
   "metadata": {},
   "source": [
    "**Question:** Which cryptocurrency will you recommend for inclusion in your firm's portfolio,and why? What would be your second choice?\n",
    "\n",
    "**Answer:** # YOUR ANSWER HERE"
   ]
  },
  {
   "cell_type": "code",
   "execution_count": null,
   "metadata": {},
   "outputs": [],
   "source": []
  }
 ],
 "metadata": {
  "kernelspec": {
   "display_name": "base",
   "language": "python",
   "name": "python3"
  },
  "language_info": {
   "codemirror_mode": {
    "name": "ipython",
    "version": 3
   },
   "file_extension": ".py",
   "mimetype": "text/x-python",
   "name": "python",
   "nbconvert_exporter": "python",
   "pygments_lexer": "ipython3",
   "version": "3.10.9"
  }
 },
 "nbformat": 4,
 "nbformat_minor": 4
}
