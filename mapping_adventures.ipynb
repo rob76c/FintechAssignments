{
 "cells": [
  {
   "cell_type": "markdown",
   "metadata": {},
   "source": [
    "# Mapping Adventures"
   ]
  },
  {
   "cell_type": "markdown",
   "metadata": {},
   "source": [
    "It's time to take a break from your day job and plan an adventure!\n",
    "\n",
    "Use **hvPlot** and the **GeoViews** to create a series of geographical plots that will visualize each area of interest within the city."
   ]
  },
  {
   "cell_type": "markdown",
   "metadata": {},
   "source": [
    "## Import the required libraries and dependencies"
   ]
  },
  {
   "cell_type": "code",
   "execution_count": 8,
   "metadata": {},
   "outputs": [],
   "source": [
    "import pandas as pd\n",
    "import os\n",
    "from pathlib import Path\n",
    "import hvplot.pandas"
   ]
  },
  {
   "cell_type": "markdown",
   "metadata": {},
   "source": [
    "### Step 1: Read in the `nyc_places_interest.csv` file from the Resources folder into a Pandas DataFrame. Drop any rows that contain missing data or NaN values."
   ]
  },
  {
   "cell_type": "code",
   "execution_count": 9,
   "metadata": {},
   "outputs": [
    {
     "ename": "FileNotFoundError",
     "evalue": "[Errno 2] No such file or directory: 'Resources\\\\ny_places_interest.csv'",
     "output_type": "error",
     "traceback": [
      "\u001b[1;31m---------------------------------------------------------------------------\u001b[0m",
      "\u001b[1;31mFileNotFoundError\u001b[0m                         Traceback (most recent call last)",
      "\u001b[1;32m~\\AppData\\Local\\Temp\\ipykernel_14848\\1908353949.py\u001b[0m in \u001b[0;36m<module>\u001b[1;34m\u001b[0m\n\u001b[0;32m      1\u001b[0m \u001b[1;31m# Read the the ny_places_interest.csv file into a DataFrame\u001b[0m\u001b[1;33m\u001b[0m\u001b[1;33m\u001b[0m\u001b[1;33m\u001b[0m\u001b[0m\n\u001b[1;32m----> 2\u001b[1;33m \u001b[0mplaces_of_interest\u001b[0m \u001b[1;33m=\u001b[0m \u001b[0mpd\u001b[0m\u001b[1;33m.\u001b[0m\u001b[0mread_csv\u001b[0m\u001b[1;33m(\u001b[0m\u001b[0mPath\u001b[0m\u001b[1;33m(\u001b[0m\u001b[1;34m\"Resources/ny_places_interest.csv\"\u001b[0m\u001b[1;33m)\u001b[0m\u001b[1;33m)\u001b[0m\u001b[1;33m\u001b[0m\u001b[1;33m\u001b[0m\u001b[0m\n\u001b[0m\u001b[0;32m      3\u001b[0m \u001b[1;33m\u001b[0m\u001b[0m\n\u001b[0;32m      4\u001b[0m \u001b[1;31m# Review the DataFrame\u001b[0m\u001b[1;33m\u001b[0m\u001b[1;33m\u001b[0m\u001b[1;33m\u001b[0m\u001b[0m\n\u001b[0;32m      5\u001b[0m \u001b[1;31m# YOUR CODE HERE\u001b[0m\u001b[1;33m\u001b[0m\u001b[1;33m\u001b[0m\u001b[1;33m\u001b[0m\u001b[0m\n",
      "\u001b[1;32md:\\Users\\Roberts\\anaconda3\\envs\\dev\\lib\\site-packages\\pandas\\util\\_decorators.py\u001b[0m in \u001b[0;36mwrapper\u001b[1;34m(*args, **kwargs)\u001b[0m\n\u001b[0;32m    309\u001b[0m                     \u001b[0mstacklevel\u001b[0m\u001b[1;33m=\u001b[0m\u001b[0mstacklevel\u001b[0m\u001b[1;33m,\u001b[0m\u001b[1;33m\u001b[0m\u001b[1;33m\u001b[0m\u001b[0m\n\u001b[0;32m    310\u001b[0m                 )\n\u001b[1;32m--> 311\u001b[1;33m             \u001b[1;32mreturn\u001b[0m \u001b[0mfunc\u001b[0m\u001b[1;33m(\u001b[0m\u001b[1;33m*\u001b[0m\u001b[0margs\u001b[0m\u001b[1;33m,\u001b[0m \u001b[1;33m**\u001b[0m\u001b[0mkwargs\u001b[0m\u001b[1;33m)\u001b[0m\u001b[1;33m\u001b[0m\u001b[1;33m\u001b[0m\u001b[0m\n\u001b[0m\u001b[0;32m    312\u001b[0m \u001b[1;33m\u001b[0m\u001b[0m\n\u001b[0;32m    313\u001b[0m         \u001b[1;32mreturn\u001b[0m \u001b[0mwrapper\u001b[0m\u001b[1;33m\u001b[0m\u001b[1;33m\u001b[0m\u001b[0m\n",
      "\u001b[1;32md:\\Users\\Roberts\\anaconda3\\envs\\dev\\lib\\site-packages\\pandas\\io\\parsers\\readers.py\u001b[0m in \u001b[0;36mread_csv\u001b[1;34m(filepath_or_buffer, sep, delimiter, header, names, index_col, usecols, squeeze, prefix, mangle_dupe_cols, dtype, engine, converters, true_values, false_values, skipinitialspace, skiprows, skipfooter, nrows, na_values, keep_default_na, na_filter, verbose, skip_blank_lines, parse_dates, infer_datetime_format, keep_date_col, date_parser, dayfirst, cache_dates, iterator, chunksize, compression, thousands, decimal, lineterminator, quotechar, quoting, doublequote, escapechar, comment, encoding, encoding_errors, dialect, error_bad_lines, warn_bad_lines, on_bad_lines, delim_whitespace, low_memory, memory_map, float_precision, storage_options)\u001b[0m\n\u001b[0;32m    584\u001b[0m     \u001b[0mkwds\u001b[0m\u001b[1;33m.\u001b[0m\u001b[0mupdate\u001b[0m\u001b[1;33m(\u001b[0m\u001b[0mkwds_defaults\u001b[0m\u001b[1;33m)\u001b[0m\u001b[1;33m\u001b[0m\u001b[1;33m\u001b[0m\u001b[0m\n\u001b[0;32m    585\u001b[0m \u001b[1;33m\u001b[0m\u001b[0m\n\u001b[1;32m--> 586\u001b[1;33m     \u001b[1;32mreturn\u001b[0m \u001b[0m_read\u001b[0m\u001b[1;33m(\u001b[0m\u001b[0mfilepath_or_buffer\u001b[0m\u001b[1;33m,\u001b[0m \u001b[0mkwds\u001b[0m\u001b[1;33m)\u001b[0m\u001b[1;33m\u001b[0m\u001b[1;33m\u001b[0m\u001b[0m\n\u001b[0m\u001b[0;32m    587\u001b[0m \u001b[1;33m\u001b[0m\u001b[0m\n\u001b[0;32m    588\u001b[0m \u001b[1;33m\u001b[0m\u001b[0m\n",
      "\u001b[1;32md:\\Users\\Roberts\\anaconda3\\envs\\dev\\lib\\site-packages\\pandas\\io\\parsers\\readers.py\u001b[0m in \u001b[0;36m_read\u001b[1;34m(filepath_or_buffer, kwds)\u001b[0m\n\u001b[0;32m    480\u001b[0m \u001b[1;33m\u001b[0m\u001b[0m\n\u001b[0;32m    481\u001b[0m     \u001b[1;31m# Create the parser.\u001b[0m\u001b[1;33m\u001b[0m\u001b[1;33m\u001b[0m\u001b[1;33m\u001b[0m\u001b[0m\n\u001b[1;32m--> 482\u001b[1;33m     \u001b[0mparser\u001b[0m \u001b[1;33m=\u001b[0m \u001b[0mTextFileReader\u001b[0m\u001b[1;33m(\u001b[0m\u001b[0mfilepath_or_buffer\u001b[0m\u001b[1;33m,\u001b[0m \u001b[1;33m**\u001b[0m\u001b[0mkwds\u001b[0m\u001b[1;33m)\u001b[0m\u001b[1;33m\u001b[0m\u001b[1;33m\u001b[0m\u001b[0m\n\u001b[0m\u001b[0;32m    483\u001b[0m \u001b[1;33m\u001b[0m\u001b[0m\n\u001b[0;32m    484\u001b[0m     \u001b[1;32mif\u001b[0m \u001b[0mchunksize\u001b[0m \u001b[1;32mor\u001b[0m \u001b[0miterator\u001b[0m\u001b[1;33m:\u001b[0m\u001b[1;33m\u001b[0m\u001b[1;33m\u001b[0m\u001b[0m\n",
      "\u001b[1;32md:\\Users\\Roberts\\anaconda3\\envs\\dev\\lib\\site-packages\\pandas\\io\\parsers\\readers.py\u001b[0m in \u001b[0;36m__init__\u001b[1;34m(self, f, engine, **kwds)\u001b[0m\n\u001b[0;32m    809\u001b[0m             \u001b[0mself\u001b[0m\u001b[1;33m.\u001b[0m\u001b[0moptions\u001b[0m\u001b[1;33m[\u001b[0m\u001b[1;34m\"has_index_names\"\u001b[0m\u001b[1;33m]\u001b[0m \u001b[1;33m=\u001b[0m \u001b[0mkwds\u001b[0m\u001b[1;33m[\u001b[0m\u001b[1;34m\"has_index_names\"\u001b[0m\u001b[1;33m]\u001b[0m\u001b[1;33m\u001b[0m\u001b[1;33m\u001b[0m\u001b[0m\n\u001b[0;32m    810\u001b[0m \u001b[1;33m\u001b[0m\u001b[0m\n\u001b[1;32m--> 811\u001b[1;33m         \u001b[0mself\u001b[0m\u001b[1;33m.\u001b[0m\u001b[0m_engine\u001b[0m \u001b[1;33m=\u001b[0m \u001b[0mself\u001b[0m\u001b[1;33m.\u001b[0m\u001b[0m_make_engine\u001b[0m\u001b[1;33m(\u001b[0m\u001b[0mself\u001b[0m\u001b[1;33m.\u001b[0m\u001b[0mengine\u001b[0m\u001b[1;33m)\u001b[0m\u001b[1;33m\u001b[0m\u001b[1;33m\u001b[0m\u001b[0m\n\u001b[0m\u001b[0;32m    812\u001b[0m \u001b[1;33m\u001b[0m\u001b[0m\n\u001b[0;32m    813\u001b[0m     \u001b[1;32mdef\u001b[0m \u001b[0mclose\u001b[0m\u001b[1;33m(\u001b[0m\u001b[0mself\u001b[0m\u001b[1;33m)\u001b[0m\u001b[1;33m:\u001b[0m\u001b[1;33m\u001b[0m\u001b[1;33m\u001b[0m\u001b[0m\n",
      "\u001b[1;32md:\\Users\\Roberts\\anaconda3\\envs\\dev\\lib\\site-packages\\pandas\\io\\parsers\\readers.py\u001b[0m in \u001b[0;36m_make_engine\u001b[1;34m(self, engine)\u001b[0m\n\u001b[0;32m   1038\u001b[0m             )\n\u001b[0;32m   1039\u001b[0m         \u001b[1;31m# error: Too many arguments for \"ParserBase\"\u001b[0m\u001b[1;33m\u001b[0m\u001b[1;33m\u001b[0m\u001b[1;33m\u001b[0m\u001b[0m\n\u001b[1;32m-> 1040\u001b[1;33m         \u001b[1;32mreturn\u001b[0m \u001b[0mmapping\u001b[0m\u001b[1;33m[\u001b[0m\u001b[0mengine\u001b[0m\u001b[1;33m]\u001b[0m\u001b[1;33m(\u001b[0m\u001b[0mself\u001b[0m\u001b[1;33m.\u001b[0m\u001b[0mf\u001b[0m\u001b[1;33m,\u001b[0m \u001b[1;33m**\u001b[0m\u001b[0mself\u001b[0m\u001b[1;33m.\u001b[0m\u001b[0moptions\u001b[0m\u001b[1;33m)\u001b[0m  \u001b[1;31m# type: ignore[call-arg]\u001b[0m\u001b[1;33m\u001b[0m\u001b[1;33m\u001b[0m\u001b[0m\n\u001b[0m\u001b[0;32m   1041\u001b[0m \u001b[1;33m\u001b[0m\u001b[0m\n\u001b[0;32m   1042\u001b[0m     \u001b[1;32mdef\u001b[0m \u001b[0m_failover_to_python\u001b[0m\u001b[1;33m(\u001b[0m\u001b[0mself\u001b[0m\u001b[1;33m)\u001b[0m\u001b[1;33m:\u001b[0m\u001b[1;33m\u001b[0m\u001b[1;33m\u001b[0m\u001b[0m\n",
      "\u001b[1;32md:\\Users\\Roberts\\anaconda3\\envs\\dev\\lib\\site-packages\\pandas\\io\\parsers\\c_parser_wrapper.py\u001b[0m in \u001b[0;36m__init__\u001b[1;34m(self, src, **kwds)\u001b[0m\n\u001b[0;32m     49\u001b[0m \u001b[1;33m\u001b[0m\u001b[0m\n\u001b[0;32m     50\u001b[0m         \u001b[1;31m# open handles\u001b[0m\u001b[1;33m\u001b[0m\u001b[1;33m\u001b[0m\u001b[1;33m\u001b[0m\u001b[0m\n\u001b[1;32m---> 51\u001b[1;33m         \u001b[0mself\u001b[0m\u001b[1;33m.\u001b[0m\u001b[0m_open_handles\u001b[0m\u001b[1;33m(\u001b[0m\u001b[0msrc\u001b[0m\u001b[1;33m,\u001b[0m \u001b[0mkwds\u001b[0m\u001b[1;33m)\u001b[0m\u001b[1;33m\u001b[0m\u001b[1;33m\u001b[0m\u001b[0m\n\u001b[0m\u001b[0;32m     52\u001b[0m         \u001b[1;32massert\u001b[0m \u001b[0mself\u001b[0m\u001b[1;33m.\u001b[0m\u001b[0mhandles\u001b[0m \u001b[1;32mis\u001b[0m \u001b[1;32mnot\u001b[0m \u001b[1;32mNone\u001b[0m\u001b[1;33m\u001b[0m\u001b[1;33m\u001b[0m\u001b[0m\n\u001b[0;32m     53\u001b[0m \u001b[1;33m\u001b[0m\u001b[0m\n",
      "\u001b[1;32md:\\Users\\Roberts\\anaconda3\\envs\\dev\\lib\\site-packages\\pandas\\io\\parsers\\base_parser.py\u001b[0m in \u001b[0;36m_open_handles\u001b[1;34m(self, src, kwds)\u001b[0m\n\u001b[0;32m    227\u001b[0m             \u001b[0mmemory_map\u001b[0m\u001b[1;33m=\u001b[0m\u001b[0mkwds\u001b[0m\u001b[1;33m.\u001b[0m\u001b[0mget\u001b[0m\u001b[1;33m(\u001b[0m\u001b[1;34m\"memory_map\"\u001b[0m\u001b[1;33m,\u001b[0m \u001b[1;32mFalse\u001b[0m\u001b[1;33m)\u001b[0m\u001b[1;33m,\u001b[0m\u001b[1;33m\u001b[0m\u001b[1;33m\u001b[0m\u001b[0m\n\u001b[0;32m    228\u001b[0m             \u001b[0mstorage_options\u001b[0m\u001b[1;33m=\u001b[0m\u001b[0mkwds\u001b[0m\u001b[1;33m.\u001b[0m\u001b[0mget\u001b[0m\u001b[1;33m(\u001b[0m\u001b[1;34m\"storage_options\"\u001b[0m\u001b[1;33m,\u001b[0m \u001b[1;32mNone\u001b[0m\u001b[1;33m)\u001b[0m\u001b[1;33m,\u001b[0m\u001b[1;33m\u001b[0m\u001b[1;33m\u001b[0m\u001b[0m\n\u001b[1;32m--> 229\u001b[1;33m             \u001b[0merrors\u001b[0m\u001b[1;33m=\u001b[0m\u001b[0mkwds\u001b[0m\u001b[1;33m.\u001b[0m\u001b[0mget\u001b[0m\u001b[1;33m(\u001b[0m\u001b[1;34m\"encoding_errors\"\u001b[0m\u001b[1;33m,\u001b[0m \u001b[1;34m\"strict\"\u001b[0m\u001b[1;33m)\u001b[0m\u001b[1;33m,\u001b[0m\u001b[1;33m\u001b[0m\u001b[1;33m\u001b[0m\u001b[0m\n\u001b[0m\u001b[0;32m    230\u001b[0m         )\n\u001b[0;32m    231\u001b[0m \u001b[1;33m\u001b[0m\u001b[0m\n",
      "\u001b[1;32md:\\Users\\Roberts\\anaconda3\\envs\\dev\\lib\\site-packages\\pandas\\io\\common.py\u001b[0m in \u001b[0;36mget_handle\u001b[1;34m(path_or_buf, mode, encoding, compression, memory_map, is_text, errors, storage_options)\u001b[0m\n\u001b[0;32m    705\u001b[0m                 \u001b[0mencoding\u001b[0m\u001b[1;33m=\u001b[0m\u001b[0mioargs\u001b[0m\u001b[1;33m.\u001b[0m\u001b[0mencoding\u001b[0m\u001b[1;33m,\u001b[0m\u001b[1;33m\u001b[0m\u001b[1;33m\u001b[0m\u001b[0m\n\u001b[0;32m    706\u001b[0m                 \u001b[0merrors\u001b[0m\u001b[1;33m=\u001b[0m\u001b[0merrors\u001b[0m\u001b[1;33m,\u001b[0m\u001b[1;33m\u001b[0m\u001b[1;33m\u001b[0m\u001b[0m\n\u001b[1;32m--> 707\u001b[1;33m                 \u001b[0mnewline\u001b[0m\u001b[1;33m=\u001b[0m\u001b[1;34m\"\"\u001b[0m\u001b[1;33m,\u001b[0m\u001b[1;33m\u001b[0m\u001b[1;33m\u001b[0m\u001b[0m\n\u001b[0m\u001b[0;32m    708\u001b[0m             )\n\u001b[0;32m    709\u001b[0m         \u001b[1;32melse\u001b[0m\u001b[1;33m:\u001b[0m\u001b[1;33m\u001b[0m\u001b[1;33m\u001b[0m\u001b[0m\n",
      "\u001b[1;31mFileNotFoundError\u001b[0m: [Errno 2] No such file or directory: 'Resources\\\\ny_places_interest.csv'"
     ]
    }
   ],
   "source": [
    "# Read the the ny_places_interest.csv file into a DataFrame\n",
    "places_of_interest = pd.read_csv(Path(\"Resources/ny_places_interest.csv\"))\n",
    "\n",
    "# Review the DataFrame\n",
    "# YOUR CODE HERE\n",
    "places_of_interest.head()"
   ]
  },
  {
   "cell_type": "markdown",
   "metadata": {},
   "source": [
    "## Plot the NYC Places of Interest"
   ]
  },
  {
   "cell_type": "markdown",
   "metadata": {},
   "source": [
    "### Step 2: Plot All Places of Interest by Name"
   ]
  },
  {
   "cell_type": "code",
   "execution_count": 3,
   "metadata": {},
   "outputs": [
    {
     "data": {},
     "metadata": {},
     "output_type": "display_data"
    },
    {
     "data": {
      "application/vnd.holoviews_exec.v0+json": "",
      "text/html": [
       "<div id='1004'>\n",
       "\n",
       "\n",
       "\n",
       "\n",
       "\n",
       "  <div class=\"bk-root\" id=\"3a5572ca-08f5-49f3-84d0-cc51d34bb93b\" data-root-id=\"1004\"></div>\n",
       "</div>\n",
       "<script type=\"application/javascript\">(function(root) {\n",
       "  function embed_document(root) {\n",
       "    var docs_json = {\"943aa291-7cee-43c2-93f1-2b6c77349672\":{\"defs\":[],\"roots\":{\"references\":[{\"attributes\":{\"end\":5002868.404392054,\"min_interval\":5,\"reset_end\":5002868.404392054,\"reset_start\":4932981.895163525,\"start\":4932981.895163525,\"tags\":[[[\"Latitude\",\"Latitude\",null]]]},\"id\":\"1011\",\"type\":\"Range1d\"},{\"attributes\":{},\"id\":\"1082\",\"type\":\"Selection\"},{\"attributes\":{\"dimension\":\"lat\"},\"id\":\"1052\",\"type\":\"MercatorTickFormatter\"},{\"attributes\":{},\"id\":\"1095\",\"type\":\"UnionRenderers\"},{\"attributes\":{\"axis_label\":\"y\",\"formatter\":{\"id\":\"1052\"},\"major_label_policy\":{\"id\":\"1062\"},\"ticker\":{\"id\":\"1051\"}},\"id\":\"1030\",\"type\":\"LinearAxis\"},{\"attributes\":{\"dimension\":\"lon\"},\"id\":\"1049\",\"type\":\"MercatorTicker\"},{\"attributes\":{\"attribution\":\"&copy; <a href=\\\"https://www.openstreetmap.org/copyright\\\">OpenStreetMap</a> contributors\",\"url\":\"https://c.tile.openstreetmap.org/{Z}/{X}/{Y}.png\"},\"id\":\"1075\",\"type\":\"WMTSTileSource\"},{\"attributes\":{},\"id\":\"1022\",\"type\":\"LinearScale\"},{\"attributes\":{\"margin\":[5,5,5,5],\"name\":\"HSpacer02972\",\"sizing_mode\":\"stretch_width\"},\"id\":\"1005\",\"type\":\"Spacer\"},{\"attributes\":{\"fill_alpha\":{\"value\":0.8},\"fill_color\":{\"field\":\"color\",\"transform\":{\"id\":\"1080\"}},\"line_alpha\":{\"value\":0.8},\"line_color\":{\"field\":\"color\",\"transform\":{\"id\":\"1080\"}},\"size\":{\"value\":5.477225575051661},\"x\":{\"field\":\"Longitude\"},\"y\":{\"field\":\"Latitude\"}},\"id\":\"1087\",\"type\":\"Scatter\"},{\"attributes\":{\"axis\":{\"id\":\"1026\"},\"grid_line_color\":null,\"ticker\":null},\"id\":\"1029\",\"type\":\"Grid\"},{\"attributes\":{\"bottom_units\":\"screen\",\"fill_alpha\":0.5,\"fill_color\":\"lightgrey\",\"left_units\":\"screen\",\"level\":\"overlay\",\"line_alpha\":1.0,\"line_color\":\"black\",\"line_dash\":[4,4],\"line_width\":2,\"right_units\":\"screen\",\"syncable\":false,\"top_units\":\"screen\"},\"id\":\"1039\",\"type\":\"BoxAnnotation\"},{\"attributes\":{\"factors\":[\"Van Cortlandt Park\",\"Woodlawn Cemetery\",\"Seton Falls Park\",\"Pelham Bay Park\",\"Botanical Garden\",\"Bronx Park\",\"Saint  Raymond's Cemetery\",\"Ferry Point Park\",\"Sound View Park\",\"Crotona Park\",\"Zoo/Wildlife Conser. Park\",\"Hart Island\",\"Saint Mary's Park\",\"Inwood Hill Park\",\"Fort Tryon Park\",\"Rikers Island\",\"Marcus Garvey Park\",\"Randall's Island Park\",\"Ward's Island Park\",\"Central Park\",\"Columbus Circle\",\"Times Square\",\"Madison Square\",\"Union Square\",\"Governors Island\",\"McCarren Park\",\"Astoria Park\",\"Botanic Garden\",\"Prospect Park\",\"Greenwood Cemetery\",\"Holy Cross Cemetery\",\"Bush Terminal\",\"Owls Head Park\",\"Fort Hamilton\",\"Dyker Beach Park\",\"Washington Cemetery\",\"Marine Park\",\"Floyd Bennett Field\",\"Canarsie Beach Park\",\"Aqueduct Race Track\",\"Bayside Cemetery\",\"Brookville Park\",\"Baisley Pond Park\",\"Roy Wilkins Park\",\"Cypress Hills Cemetery\",\"Saint  Johns Cemetery\",\"Linden Hill Cemetery\",\"Mount Olivet Cemetery\",\"Juniper Valley Park\",\"Lutheran Cemetery\",\"Montefiore Cemetery\",\"Flushing Meadows Corona Park\",\"Mount Hebron Cemetery\",\"Cunningham Park\",\"Fort Totten\",\"Clearview Park\",\"Crocheron Park\",\"Alley Pond Park\",\"Douglaston Park\",\"Fort Schuyler\",\"Calvary Cemetery\",\"New Calvary Cemetery\",\"Mount Zion Cemetery\",\"Jacob Riis Park\",\"Fort Tilden\",\"Liberty Island\",\"Ellis Island\",\"Snug Harbor\",\"Silver Lake Park\",\"Clove Lakes Park\",\"Fort Wadsworth\",\"Miller Field\",\"Great Kills Park\",\"Moravian Cemetery\",\"LaTourette Park\",\"Willowbrook Park\",\"Blue Heron Park\",\"Wolfe's Pond Park\",\"Mount Loretto\",\"Conference House Park\",\"South Shore Golf Course\",\"Fresh Kills\",\"Plumb Beach\",\"John F. Kennedy International Airport\",\"Jamaica Bay Wildlife Refuge\",\"Calvert Vaux\",\"High Rock Park\",\"Red Hook Park\",\"Saint Michael's Cemetery\",\"Riverdale Park\",\"Spring Creek Park Preserve No Access\",\"Spring Creek Park Gateway National Recreation Area\"],\"palette\":[\"#1f77b3\",\"#ff7e0e\",\"#2ba02b\",\"#d62628\",\"#9367bc\",\"#8c564b\",\"#e277c1\",\"#7e7e7e\",\"#bcbc21\",\"#16bdcf\",\"#3a0182\",\"#004201\",\"#0fffa8\",\"#5d003f\",\"#bcbcff\",\"#d8afa1\",\"#b80080\",\"#004d52\",\"#6b6400\",\"#7c0100\",\"#6026ff\",\"#ffff9a\",\"#564964\",\"#8cb893\",\"#93fbff\",\"#018267\",\"#90ff00\",\"#8200a0\",\"#ac8944\",\"#5b3400\",\"#ffbff2\",\"#ff6e75\",\"#798cff\",\"#dd00ff\",\"#505646\",\"#004489\",\"#ffbf60\",\"#ff018c\",\"#bdc8cf\",\"#af97b5\",\"#b65600\",\"#017000\",\"#cd87ff\",\"#1cd646\",\"#bfebc3\",\"#7997b5\",\"#a56089\",\"#6e8956\",\"#bc7c75\",\"#8a2844\",\"#00acff\",\"#8ed4ff\",\"#4b6d77\",\"#00d4b1\",\"#9300f2\",\"#8a9500\",\"#5d5b9e\",\"#fddfba\",\"#00939e\",\"#ffdb00\",\"#00aa79\",\"#520067\",\"#000091\",\"#0a5d3d\",\"#a5e275\",\"#623b41\",\"#c6c689\",\"#ff9eb5\",\"#cd4f6b\",\"#ff07d6\",\"#8a3a05\",\"#7e3d70\",\"#ff4901\",\"#602ba5\",\"#1c00ff\",\"#e6dfff\",\"#aa3baf\",\"#d89c00\",\"#a3a39e\",\"#3f69ff\",\"#46490c\",\"#7b6985\",\"#6b978c\",\"#ff9a75\",\"#835bff\",\"#7c6b46\",\"#80b654\",\"#bc0049\",\"#fd93ff\",\"#5d0018\",\"#89d1d1\",\"#9c8cd3\"]},\"id\":\"1080\",\"type\":\"CategoricalColorMapper\"},{\"attributes\":{\"fill_alpha\":{\"value\":0.8},\"fill_color\":{\"field\":\"color\",\"transform\":{\"id\":\"1080\"}},\"line_alpha\":{\"value\":0.8},\"line_color\":{\"field\":\"color\",\"transform\":{\"id\":\"1080\"}},\"size\":{\"value\":5.477225575051661},\"x\":{\"field\":\"Longitude\"},\"y\":{\"field\":\"Latitude\"}},\"id\":\"1086\",\"type\":\"Scatter\"},{\"attributes\":{\"fill_alpha\":{\"value\":0.8},\"fill_color\":{\"field\":\"color\",\"transform\":{\"id\":\"1080\"}},\"line_alpha\":{\"value\":0.8},\"line_color\":{\"field\":\"color\",\"transform\":{\"id\":\"1080\"}},\"size\":{\"value\":5.477225575051661},\"x\":{\"field\":\"Longitude\"},\"y\":{\"field\":\"Latitude\"}},\"id\":\"1084\",\"type\":\"Scatter\"},{\"attributes\":{\"callback\":null,\"formatters\":{\"$x\":{\"id\":\"1099\"},\"$y\":{\"id\":\"1100\"}},\"renderers\":[{\"id\":\"1089\"}],\"tags\":[\"hv_created\"],\"tooltips\":[[\"Longitude\",\"$x{custom}\"],[\"Latitude\",\"$y{custom}\"],[\"Name\",\"@{Name}\"]]},\"id\":\"1014\",\"type\":\"HoverTool\"},{\"attributes\":{\"children\":[{\"id\":\"1005\"},{\"id\":\"1017\"},{\"id\":\"1155\"}],\"margin\":[0,0,0,0],\"name\":\"Row02968\",\"tags\":[\"embedded\"]},\"id\":\"1004\",\"type\":\"Row\"},{\"attributes\":{\"level\":\"glyph\",\"tile_source\":{\"id\":\"1075\"}},\"id\":\"1078\",\"type\":\"TileRenderer\"},{\"attributes\":{\"dimension\":\"lon\"},\"id\":\"1050\",\"type\":\"MercatorTickFormatter\"},{\"attributes\":{},\"id\":\"1062\",\"type\":\"AllLabels\"},{\"attributes\":{\"data_source\":{\"id\":\"1081\"},\"glyph\":{\"id\":\"1084\"},\"hover_glyph\":{\"id\":\"1087\"},\"muted_glyph\":{\"id\":\"1088\"},\"nonselection_glyph\":{\"id\":\"1085\"},\"selection_glyph\":{\"id\":\"1086\"},\"view\":{\"id\":\"1090\"}},\"id\":\"1089\",\"type\":\"GlyphRenderer\"},{\"attributes\":{\"text_color\":\"black\",\"text_font_size\":\"12pt\"},\"id\":\"1018\",\"type\":\"Title\"},{\"attributes\":{\"data\":{\"Latitude\":{\"__ndarray__\":\"1cxBK+0PU0EFkxUdBA9TQcERDNWYDlNBXEPLS04NU0Fk/NYvWwtTQWcWH6ATClNBg3QWn3IFU0Gw21nzKARTQfHw925RBFNBHT83h6AHU0HEPWjhIwlTQU5VGKx6CVNBIQmrgr8DU0FUgp4ceQxTQdaHhXImC1NBVR+zxfIAU0E2n8zEmAJTQWY2bGSDAVNBNgXi4df/UkFG10dTpP9SQRYytaaD/VJBzRE1xxL8UkE3tSfizPlSQZpHk1zo+FJBpiJdeTvyUkFyx/lLv/ZSQRIB5IfE/lJBPJgPq3DvUkEGDhf6Me5SQWCzB1bg7FJB4fjBHSLsUkHbdt/IT+1SQQOrS/ck61JB+hezdHrmUkGlbd0gEOdSQQ15ZjdR6FJB/Rk/I+flUkFBoIoDLeRSQRrpizkS6VJBtCupfsPvUkFIEKZefvBSQfOrjj/b7FJBzBzON+rvUkFrxoU9BPJSQTQvMFYn81JBfLmksuz1UkFBWpAUQfVSQZCV5SO99lJBuawjOav2UkEIXlEygfVSQUnxaUK48VJBjXvJQzP5UkF1S5nKo/hSQXZZu/np91JB89yfTgcBU0FHIpiYmf9SQYrRzfn7/VJBGBvRc3L7UkHaPBJ6KPtSQbweWi7pAlNB1zbQs4n4UkE9TFc0EflSQSvOTBJZ+FJB6ynP79LgUkEExjLr7d9SQc0IJO9Q8lJBSWuObKLzUkEAERbleutSQTAeWzxU6VJBtHWoyQPoUkHjDQKeDOZSQY3c2THY4FJBpgCA8wreUkG1Mytq8uJSQULgo+rd4lJBsHAdn4LlUkHlYtNildtSQYxgsBA52lJBZ7PYCH/YUkErcfhnDddSQWA8SUJv3lJBpgvzLbXhUkGjRcYFBONSQWlouF5O7FJBTmCtk7LoUkH4MYvrSONSQX2nd1IN5FJBrgdEGb7vUkHWHNvv/vxSQa60sW1dD1NBL9A0OvzrUkEYgb4fDuxSQQ==\",\"dtype\":\"float64\",\"order\":\"little\",\"shape\":[92]},\"Longitude\":{\"__ndarray__\":\"MMxcTIBgX8Gg8uiknl5fwZEnBwEIW1/BhZa9Z+VXX8GuyW7mV19fwc1/1e0eX1/BJUQxHKtaX8G1PV23ZlpfwTbGXiytXl/Bkhwb/xJhX8GtiwZ1Al9fwUos9vOKU1/BfFpV0vpiX8EONZozjGRfwalqsXArZV/B9ePZ39NfX8EfPlliV2ZfwV6DY3wPZF/B9xEPw/VkX8Flx03K1mhfwYW4t+qaal/BbRQ255dqX8G03bp5RmtfwUDg7NuGa1/BW8o2WZJuX8E8ovo5WmdfwY368P5WZF/ByFS+1uNoX8HCEcpDNmlfwRgcX4+Ia1/B30+0VstlX8Fwpf6Jl25fwXmkv7gVcF/BWqK21rNvX8G9Le31sm5fwfIHQtvmaV/BvroF6FFkX8EipVn0n2BfwaOD+/F+YV/BcpOS2ihaX8GvmzoLz1xfwSK8dmynUV/BGVO3emhVX8EetycLylNfwfM9mJ4bX1/B0JMU0BxeX8ECw1hZOGNfwbowVNFCYV/BC8BDwnxfX8HtSTRKV2BfwVFmwwB/UF/BmHevL1VbX8H80ObnIFpfwU5bfLl2U1/BL6HAnlVUX8HgdduvnlVfwbeNANZ1U1/BiC/JscVQX8EelRApeE9fwQFLlCAVVl/BWUVoT/pkX8EMZYt7IWNfwX/CtMqPYl/BOArcxpxeX8EenwmsJWFfwcRWjMd+cV/BE7UGm/BwX8GJRdrIyXdfwT73oWDbdl/BH6E+UZt4X8E84sd893JfwWDq+P1Qd1/ByKy/KTp6X8ELCmCgVHlfwfAbA3EQfF/BY1V6j8Z9X8HDm3Sron9fwWAHeNx9gV/BfP5lRUeEX8EiURoamIdfwYVjTLncgl/BGe1JwMSBX8Gvc/ttWGNfwcgLmfVOVV/B6QdxObBZX8EDahsf42tfwQmJh8wQeV/B8qGHHC1tX8E63SQRiWFfwR7Zw/GHY1/BJm9aFuZdX8FrgTb/oltfwQ==\",\"dtype\":\"float64\",\"order\":\"little\",\"shape\":[92]},\"Name\":[\"Van Cortlandt Park\",\"Woodlawn Cemetery\",\"Seton Falls Park\",\"Pelham Bay Park\",\"Botanical Garden\",\"Bronx Park\",\"Saint  Raymond's Cemetery\",\"Ferry Point Park\",\"Sound View Park\",\"Crotona Park\",\"Zoo/Wildlife Conser. Park\",\"Hart Island\",\"Saint Mary's Park\",\"Inwood Hill Park\",\"Fort Tryon Park\",\"Rikers Island\",\"Marcus Garvey Park\",\"Randall's Island Park\",\"Ward's Island Park\",\"Central Park\",\"Columbus Circle\",\"Times Square\",\"Madison Square\",\"Union Square\",\"Governors Island\",\"McCarren Park\",\"Astoria Park\",\"Botanic Garden\",\"Prospect Park\",\"Greenwood Cemetery\",\"Holy Cross Cemetery\",\"Bush Terminal\",\"Owls Head Park\",\"Fort Hamilton\",\"Dyker Beach Park\",\"Washington Cemetery\",\"Marine Park\",\"Floyd Bennett Field\",\"Canarsie Beach Park\",\"Aqueduct Race Track\",\"Bayside Cemetery\",\"Brookville Park\",\"Baisley Pond Park\",\"Roy Wilkins Park\",\"Cypress Hills Cemetery\",\"Saint  Johns Cemetery\",\"Linden Hill Cemetery\",\"Mount Olivet Cemetery\",\"Juniper Valley Park\",\"Lutheran Cemetery\",\"Montefiore Cemetery\",\"Flushing Meadows Corona Park\",\"Mount Hebron Cemetery\",\"Cunningham Park\",\"Fort Totten\",\"Clearview Park\",\"Crocheron Park\",\"Alley Pond Park\",\"Douglaston Park\",\"Fort Schuyler\",\"Calvary Cemetery\",\"New Calvary Cemetery\",\"Mount Zion Cemetery\",\"Jacob Riis Park\",\"Fort Tilden\",\"Liberty Island\",\"Ellis Island\",\"Snug Harbor\",\"Silver Lake Park\",\"Clove Lakes Park\",\"Fort Wadsworth\",\"Miller Field\",\"Great Kills Park\",\"Moravian Cemetery\",\"LaTourette Park\",\"Willowbrook Park\",\"Blue Heron Park\",\"Wolfe's Pond Park\",\"Mount Loretto\",\"Conference House Park\",\"South Shore Golf Course\",\"Fresh Kills\",\"Plumb Beach\",\"John F. Kennedy International Airport\",\"Jamaica Bay Wildlife Refuge\",\"Calvert Vaux\",\"High Rock Park\",\"Red Hook Park\",\"Saint Michael's Cemetery\",\"Riverdale Park\",\"Spring Creek Park Preserve No Access\",\"Spring Creek Park Gateway National Recreation Area\"],\"color\":[\"Van Cortlandt Park\",\"Woodlawn Cemetery\",\"Seton Falls Park\",\"Pelham Bay Park\",\"Botanical Garden\",\"Bronx Park\",\"Saint  Raymond's Cemetery\",\"Ferry Point Park\",\"Sound View Park\",\"Crotona Park\",\"Zoo/Wildlife Conser. Park\",\"Hart Island\",\"Saint Mary's Park\",\"Inwood Hill Park\",\"Fort Tryon Park\",\"Rikers Island\",\"Marcus Garvey Park\",\"Randall's Island Park\",\"Ward's Island Park\",\"Central Park\",\"Columbus Circle\",\"Times Square\",\"Madison Square\",\"Union Square\",\"Governors Island\",\"McCarren Park\",\"Astoria Park\",\"Botanic Garden\",\"Prospect Park\",\"Greenwood Cemetery\",\"Holy Cross Cemetery\",\"Bush Terminal\",\"Owls Head Park\",\"Fort Hamilton\",\"Dyker Beach Park\",\"Washington Cemetery\",\"Marine Park\",\"Floyd Bennett Field\",\"Canarsie Beach Park\",\"Aqueduct Race Track\",\"Bayside Cemetery\",\"Brookville Park\",\"Baisley Pond Park\",\"Roy Wilkins Park\",\"Cypress Hills Cemetery\",\"Saint  Johns Cemetery\",\"Linden Hill Cemetery\",\"Mount Olivet Cemetery\",\"Juniper Valley Park\",\"Lutheran Cemetery\",\"Montefiore Cemetery\",\"Flushing Meadows Corona Park\",\"Mount Hebron Cemetery\",\"Cunningham Park\",\"Fort Totten\",\"Clearview Park\",\"Crocheron Park\",\"Alley Pond Park\",\"Douglaston Park\",\"Fort Schuyler\",\"Calvary Cemetery\",\"New Calvary Cemetery\",\"Mount Zion Cemetery\",\"Jacob Riis Park\",\"Fort Tilden\",\"Liberty Island\",\"Ellis Island\",\"Snug Harbor\",\"Silver Lake Park\",\"Clove Lakes Park\",\"Fort Wadsworth\",\"Miller Field\",\"Great Kills Park\",\"Moravian Cemetery\",\"LaTourette Park\",\"Willowbrook Park\",\"Blue Heron Park\",\"Wolfe's Pond Park\",\"Mount Loretto\",\"Conference House Park\",\"South Shore Golf Course\",\"Fresh Kills\",\"Plumb Beach\",\"John F. Kennedy International Airport\",\"Jamaica Bay Wildlife Refuge\",\"Calvert Vaux\",\"High Rock Park\",\"Red Hook Park\",\"Saint Michael's Cemetery\",\"Riverdale Park\",\"Spring Creek Park Preserve No Access\",\"Spring Creek Park Gateway National Recreation Area\"]},\"selected\":{\"id\":\"1082\"},\"selection_policy\":{\"id\":\"1095\"}},\"id\":\"1081\",\"type\":\"ColumnDataSource\"},{\"attributes\":{\"fill_alpha\":{\"value\":0.2},\"fill_color\":{\"field\":\"color\",\"transform\":{\"id\":\"1080\"}},\"line_alpha\":{\"value\":0.2},\"line_color\":{\"field\":\"color\",\"transform\":{\"id\":\"1080\"}},\"size\":{\"value\":5.477225575051661},\"x\":{\"field\":\"Longitude\"},\"y\":{\"field\":\"Latitude\"}},\"id\":\"1088\",\"type\":\"Scatter\"},{\"attributes\":{\"match_aspect\":true,\"overlay\":{\"id\":\"1039\"}},\"id\":\"1037\",\"type\":\"BoxZoomTool\"},{\"attributes\":{\"zoom_on_axis\":false},\"id\":\"1036\",\"type\":\"WheelZoomTool\"},{\"attributes\":{\"source\":{\"id\":\"1081\"}},\"id\":\"1090\",\"type\":\"CDSView\"},{\"attributes\":{\"click_policy\":\"mute\",\"items\":[{\"id\":\"1098\"}],\"location\":[0,0]},\"id\":\"1097\",\"type\":\"Legend\"},{\"attributes\":{},\"id\":\"1038\",\"type\":\"ResetTool\"},{\"attributes\":{\"code\":\"\\n        var projections = Bokeh.require(\\\"core/util/projections\\\");\\n        var x = special_vars.data_x\\n        var y = special_vars.data_y\\n        if (projections.wgs84_mercator.invert == null) {\\n          var coords = projections.wgs84_mercator.inverse([x, y])\\n        } else {\\n          var coords = projections.wgs84_mercator.invert(x, y)\\n        }\\n        return \\\"\\\" + (coords[1]).toFixed(4)\\n    \"},\"id\":\"1100\",\"type\":\"CustomJSHover\"},{\"attributes\":{\"label\":{\"field\":\"color\"},\"renderers\":[{\"id\":\"1089\"}]},\"id\":\"1098\",\"type\":\"LegendItem\"},{\"attributes\":{\"margin\":[5,5,5,5],\"name\":\"HSpacer02973\",\"sizing_mode\":\"stretch_width\"},\"id\":\"1155\",\"type\":\"Spacer\"},{\"attributes\":{},\"id\":\"1035\",\"type\":\"PanTool\"},{\"attributes\":{},\"id\":\"1034\",\"type\":\"SaveTool\"},{\"attributes\":{\"code\":\"\\n        var projections = Bokeh.require(\\\"core/util/projections\\\");\\n        var x = special_vars.data_x\\n        var y = special_vars.data_y\\n        if (projections.wgs84_mercator.invert == null) {\\n          var coords = projections.wgs84_mercator.inverse([x, y])\\n        } else {\\n          var coords = projections.wgs84_mercator.invert(x, y)\\n        }\\n        return \\\"\\\" + (coords[0]).toFixed(4)\\n    \"},\"id\":\"1099\",\"type\":\"CustomJSHover\"},{\"attributes\":{\"active_multi\":null,\"tools\":[{\"id\":\"1014\"},{\"id\":\"1034\"},{\"id\":\"1035\"},{\"id\":\"1036\"},{\"id\":\"1037\"},{\"id\":\"1038\"}]},\"id\":\"1040\",\"type\":\"Toolbar\"},{\"attributes\":{\"end\":-8187655.96828672,\"min_interval\":5,\"reset_end\":-8187655.96828672,\"reset_start\":-8285497.081206661,\"start\":-8285497.081206661,\"tags\":[[[\"Longitude\",\"Longitude\",null]]]},\"id\":\"1010\",\"type\":\"Range1d\"},{\"attributes\":{\"fill_alpha\":{\"value\":0.8},\"fill_color\":{\"field\":\"color\",\"transform\":{\"id\":\"1080\"}},\"line_alpha\":{\"value\":0.8},\"line_color\":{\"field\":\"color\",\"transform\":{\"id\":\"1080\"}},\"size\":{\"value\":5.477225575051661},\"x\":{\"field\":\"Longitude\"},\"y\":{\"field\":\"Latitude\"}},\"id\":\"1085\",\"type\":\"Scatter\"},{\"attributes\":{\"dimension\":\"lat\"},\"id\":\"1051\",\"type\":\"MercatorTicker\"},{\"attributes\":{\"axis_label\":\"x\",\"formatter\":{\"id\":\"1050\"},\"major_label_policy\":{\"id\":\"1055\"},\"ticker\":{\"id\":\"1049\"}},\"id\":\"1026\",\"type\":\"LinearAxis\"},{\"attributes\":{},\"id\":\"1055\",\"type\":\"AllLabels\"},{\"attributes\":{\"below\":[{\"id\":\"1026\"}],\"center\":[{\"id\":\"1029\"},{\"id\":\"1033\"}],\"frame_height\":500,\"frame_width\":700,\"height\":null,\"left\":[{\"id\":\"1030\"}],\"margin\":[5,5,5,5],\"match_aspect\":true,\"min_border_bottom\":10,\"min_border_left\":10,\"min_border_right\":10,\"min_border_top\":10,\"renderers\":[{\"id\":\"1078\"},{\"id\":\"1089\"}],\"right\":[{\"id\":\"1097\"}],\"sizing_mode\":\"fixed\",\"title\":{\"id\":\"1018\"},\"toolbar\":{\"id\":\"1040\"},\"width\":null,\"x_range\":{\"id\":\"1010\"},\"x_scale\":{\"id\":\"1022\"},\"y_range\":{\"id\":\"1011\"},\"y_scale\":{\"id\":\"1024\"}},\"id\":\"1017\",\"subtype\":\"Figure\",\"type\":\"Plot\"},{\"attributes\":{\"axis\":{\"id\":\"1030\"},\"dimension\":1,\"grid_line_color\":null,\"ticker\":null},\"id\":\"1033\",\"type\":\"Grid\"},{\"attributes\":{},\"id\":\"1024\",\"type\":\"LinearScale\"}],\"root_ids\":[\"1004\"]},\"title\":\"Bokeh Application\",\"version\":\"2.3.2\"}};\n",
       "    var render_items = [{\"docid\":\"943aa291-7cee-43c2-93f1-2b6c77349672\",\"root_ids\":[\"1004\"],\"roots\":{\"1004\":\"3a5572ca-08f5-49f3-84d0-cc51d34bb93b\"}}];\n",
       "    root.Bokeh.embed.embed_items_notebook(docs_json, render_items);\n",
       "  }\n",
       "  if (root.Bokeh !== undefined && root.Bokeh.Panel !== undefined) {\n",
       "    embed_document(root);\n",
       "  } else {\n",
       "    var attempts = 0;\n",
       "    var timer = setInterval(function(root) {\n",
       "      if (root.Bokeh !== undefined && root.Bokeh.Panel !== undefined) {\n",
       "        clearInterval(timer);\n",
       "        embed_document(root);\n",
       "      } else if (document.readyState == \"complete\") {\n",
       "        attempts++;\n",
       "        if (attempts > 100) {\n",
       "          clearInterval(timer);\n",
       "          console.log(\"Bokeh: ERROR: Unable to run BokehJS code because BokehJS library is missing\");\n",
       "        }\n",
       "      }\n",
       "    }, 10, root)\n",
       "  }\n",
       "})(window);</script>"
      ],
      "text/plain": [
       ":Overlay\n",
       "   .Tiles.I  :Tiles   [x,y]\n",
       "   .Points.I :Points   [Longitude,Latitude]   (Name)"
      ]
     },
     "execution_count": 3,
     "metadata": {
      "application/vnd.holoviews_exec.v0+json": {
       "id": "1004"
      }
     },
     "output_type": "execute_result"
    }
   ],
   "source": [
    "# Plot all of the NYC places of interest\n",
    "# Set the color parameter to Name\n",
    "# Set alpha to 0.8\n",
    "# Set tiles to 'OSM'\n",
    "# Set frame_width = 700\n",
    "# Set frame_height = 500\n",
    "places_of_interest_by_name = places_of_interest.hvplot.points(\n",
    "    x=\"Longitude\",\n",
    "    y=\"Latitude\",\n",
    "    color=\"Name\",\n",
    "    alpha=0.8,\n",
    "    tiles=\"OSM\",\n",
    "    frame_width=700,\n",
    "    frame_height=500,\n",
    ")\n",
    "\n",
    "\n",
    "# Show the plot\n",
    "# YOUR CODE HERE"
   ]
  },
  {
   "cell_type": "markdown",
   "metadata": {},
   "source": [
    "### Step 3: Plot All Places of Interest by Place Type"
   ]
  },
  {
   "cell_type": "code",
   "execution_count": 12,
   "metadata": {},
   "outputs": [
    {
     "data": {},
     "metadata": {},
     "output_type": "display_data"
    },
    {
     "data": {
      "application/vnd.holoviews_exec.v0+json": "",
      "text/html": [
       "<div id='2651'>\n",
       "\n",
       "\n",
       "\n",
       "\n",
       "\n",
       "  <div class=\"bk-root\" id=\"aa69228f-e112-480b-a526-9bbb6b6d56f9\" data-root-id=\"2651\"></div>\n",
       "</div>\n",
       "<script type=\"application/javascript\">(function(root) {\n",
       "  function embed_document(root) {\n",
       "    var docs_json = {\"f03f5e67-46fd-4077-916b-c408a51a34a4\":{\"defs\":[],\"roots\":{\"references\":[{\"attributes\":{},\"id\":\"2709\",\"type\":\"AllLabels\"},{\"attributes\":{},\"id\":\"2682\",\"type\":\"PanTool\"},{\"attributes\":{},\"id\":\"2681\",\"type\":\"SaveTool\"},{\"attributes\":{\"zoom_on_axis\":false},\"id\":\"2683\",\"type\":\"WheelZoomTool\"},{\"attributes\":{},\"id\":\"2702\",\"type\":\"AllLabels\"},{\"attributes\":{\"factors\":[\"Park\",\"Cemetery\",\"Garden\",\"Island\",\"Hill Park\",\"Circle\",\"Square\",\"Terminal\",\"Hamilton\",\"Field\",\"Track\",\"Corona\",\"Totten\",\"Schuyler\",\"Tilden\",\"Harbor\",\"Wadsworth\",\"Loretto\",\"Golf\",\"Kills\",\"Beach\",\"International Airport\",\"Wildlife Refuge\"],\"palette\":[\"#1f77b3\",\"#ff7e0e\",\"#2ba02b\",\"#d62628\",\"#9367bc\",\"#8c564b\",\"#e277c1\",\"#7e7e7e\",\"#bcbc21\",\"#16bdcf\",\"#3a0182\",\"#004201\",\"#0fffa8\",\"#5d003f\",\"#bcbcff\",\"#d8afa1\",\"#b80080\",\"#004d52\",\"#6b6400\",\"#7c0100\",\"#6026ff\",\"#ffff9a\",\"#564964\"]},\"id\":\"2727\",\"type\":\"CategoricalColorMapper\"},{\"attributes\":{\"match_aspect\":true,\"overlay\":{\"id\":\"2686\"}},\"id\":\"2684\",\"type\":\"BoxZoomTool\"},{\"attributes\":{\"below\":[{\"id\":\"2673\"}],\"center\":[{\"id\":\"2676\"},{\"id\":\"2680\"}],\"frame_height\":500,\"frame_width\":700,\"height\":null,\"left\":[{\"id\":\"2677\"}],\"margin\":[5,5,5,5],\"match_aspect\":true,\"min_border_bottom\":10,\"min_border_left\":10,\"min_border_right\":10,\"min_border_top\":10,\"renderers\":[{\"id\":\"2725\"},{\"id\":\"2736\"}],\"right\":[{\"id\":\"2744\"}],\"sizing_mode\":\"fixed\",\"title\":{\"id\":\"2665\"},\"toolbar\":{\"id\":\"2687\"},\"width\":null,\"x_range\":{\"id\":\"2657\"},\"x_scale\":{\"id\":\"2669\"},\"y_range\":{\"id\":\"2658\"},\"y_scale\":{\"id\":\"2671\"}},\"id\":\"2664\",\"subtype\":\"Figure\",\"type\":\"Plot\"},{\"attributes\":{\"margin\":[5,5,5,5],\"name\":\"HSpacer06347\",\"sizing_mode\":\"stretch_width\"},\"id\":\"2652\",\"type\":\"Spacer\"},{\"attributes\":{\"margin\":[5,5,5,5],\"name\":\"HSpacer06348\",\"sizing_mode\":\"stretch_width\"},\"id\":\"2802\",\"type\":\"Spacer\"},{\"attributes\":{\"level\":\"glyph\",\"tile_source\":{\"id\":\"2722\"}},\"id\":\"2725\",\"type\":\"TileRenderer\"},{\"attributes\":{\"fill_alpha\":{\"value\":0.8},\"fill_color\":{\"field\":\"color\",\"transform\":{\"id\":\"2727\"}},\"line_alpha\":{\"value\":0.8},\"line_color\":{\"field\":\"color\",\"transform\":{\"id\":\"2727\"}},\"size\":{\"value\":5.477225575051661},\"x\":{\"field\":\"Longitude\"},\"y\":{\"field\":\"Latitude\"}},\"id\":\"2734\",\"type\":\"Scatter\"},{\"attributes\":{\"dimension\":\"lat\"},\"id\":\"2699\",\"type\":\"MercatorTickFormatter\"},{\"attributes\":{\"code\":\"\\n        var projections = Bokeh.require(\\\"core/util/projections\\\");\\n        var x = special_vars.data_x\\n        var y = special_vars.data_y\\n        if (projections.wgs84_mercator.invert == null) {\\n          var coords = projections.wgs84_mercator.inverse([x, y])\\n        } else {\\n          var coords = projections.wgs84_mercator.invert(x, y)\\n        }\\n        return \\\"\\\" + (coords[1]).toFixed(4)\\n    \"},\"id\":\"2747\",\"type\":\"CustomJSHover\"},{\"attributes\":{},\"id\":\"2742\",\"type\":\"UnionRenderers\"},{\"attributes\":{\"axis\":{\"id\":\"2673\"},\"grid_line_color\":null,\"ticker\":null},\"id\":\"2676\",\"type\":\"Grid\"},{\"attributes\":{\"source\":{\"id\":\"2728\"}},\"id\":\"2737\",\"type\":\"CDSView\"},{\"attributes\":{\"attribution\":\"&copy; <a href=\\\"https://www.openstreetmap.org/copyright\\\">OpenStreetMap</a> contributors\",\"url\":\"https://c.tile.openstreetmap.org/{Z}/{X}/{Y}.png\"},\"id\":\"2722\",\"type\":\"WMTSTileSource\"},{\"attributes\":{\"callback\":null,\"formatters\":{\"$x\":{\"id\":\"2746\"},\"$y\":{\"id\":\"2747\"}},\"renderers\":[{\"id\":\"2736\"}],\"tags\":[\"hv_created\"],\"tooltips\":[[\"Longitude\",\"$x{custom}\"],[\"Latitude\",\"$y{custom}\"],[\"PlaceType\",\"@{PlaceType}\"]]},\"id\":\"2661\",\"type\":\"HoverTool\"},{\"attributes\":{\"active_multi\":null,\"tools\":[{\"id\":\"2661\"},{\"id\":\"2681\"},{\"id\":\"2682\"},{\"id\":\"2683\"},{\"id\":\"2684\"},{\"id\":\"2685\"}]},\"id\":\"2687\",\"type\":\"Toolbar\"},{\"attributes\":{\"click_policy\":\"mute\",\"items\":[{\"id\":\"2745\"}],\"location\":[0,0]},\"id\":\"2744\",\"type\":\"Legend\"},{\"attributes\":{\"dimension\":\"lon\"},\"id\":\"2697\",\"type\":\"MercatorTickFormatter\"},{\"attributes\":{},\"id\":\"2669\",\"type\":\"LinearScale\"},{\"attributes\":{\"text_color\":\"black\",\"text_font_size\":\"12pt\"},\"id\":\"2665\",\"type\":\"Title\"},{\"attributes\":{\"axis_label\":\"x\",\"formatter\":{\"id\":\"2697\"},\"major_label_policy\":{\"id\":\"2702\"},\"ticker\":{\"id\":\"2696\"}},\"id\":\"2673\",\"type\":\"LinearAxis\"},{\"attributes\":{\"data\":{\"Latitude\":{\"__ndarray__\":\"1cxBK+0PU0EFkxUdBA9TQcERDNWYDlNBXEPLS04NU0Fk/NYvWwtTQWcWH6ATClNBg3QWn3IFU0Gw21nzKARTQfHw925RBFNBHT83h6AHU0HEPWjhIwlTQU5VGKx6CVNBIQmrgr8DU0FUgp4ceQxTQdaHhXImC1NBVR+zxfIAU0E2n8zEmAJTQWY2bGSDAVNBNgXi4df/UkFG10dTpP9SQRYytaaD/VJBzRE1xxL8UkE3tSfizPlSQZpHk1zo+FJBpiJdeTvyUkFyx/lLv/ZSQRIB5IfE/lJBPJgPq3DvUkEGDhf6Me5SQWCzB1bg7FJB4fjBHSLsUkHbdt/IT+1SQQOrS/ck61JB+hezdHrmUkGlbd0gEOdSQQ15ZjdR6FJB/Rk/I+flUkFBoIoDLeRSQRrpizkS6VJBtCupfsPvUkFIEKZefvBSQfOrjj/b7FJBzBzON+rvUkFrxoU9BPJSQTQvMFYn81JBfLmksuz1UkFBWpAUQfVSQZCV5SO99lJBuawjOav2UkEIXlEygfVSQUnxaUK48VJBjXvJQzP5UkF1S5nKo/hSQXZZu/np91JB89yfTgcBU0FHIpiYmf9SQYrRzfn7/VJBGBvRc3L7UkHaPBJ6KPtSQbweWi7pAlNB1zbQs4n4UkE9TFc0EflSQSvOTBJZ+FJB6ynP79LgUkEExjLr7d9SQc0IJO9Q8lJBSWuObKLzUkEAERbleutSQTAeWzxU6VJBtHWoyQPoUkHjDQKeDOZSQY3c2THY4FJBpgCA8wreUkG1Mytq8uJSQULgo+rd4lJBsHAdn4LlUkHlYtNildtSQYxgsBA52lJBZ7PYCH/YUkErcfhnDddSQWA8SUJv3lJBpgvzLbXhUkGjRcYFBONSQWlouF5O7FJBTmCtk7LoUkH4MYvrSONSQX2nd1IN5FJBrgdEGb7vUkHWHNvv/vxSQa60sW1dD1NBL9A0OvzrUkEYgb4fDuxSQQ==\",\"dtype\":\"float64\",\"order\":\"little\",\"shape\":[92]},\"Longitude\":{\"__ndarray__\":\"MMxcTIBgX8Gg8uiknl5fwZEnBwEIW1/BhZa9Z+VXX8GuyW7mV19fwc1/1e0eX1/BJUQxHKtaX8G1PV23ZlpfwTbGXiytXl/Bkhwb/xJhX8GtiwZ1Al9fwUos9vOKU1/BfFpV0vpiX8EONZozjGRfwalqsXArZV/B9ePZ39NfX8EfPlliV2ZfwV6DY3wPZF/B9xEPw/VkX8Flx03K1mhfwYW4t+qaal/BbRQ255dqX8G03bp5RmtfwUDg7NuGa1/BW8o2WZJuX8E8ovo5WmdfwY368P5WZF/ByFS+1uNoX8HCEcpDNmlfwRgcX4+Ia1/B30+0VstlX8Fwpf6Jl25fwXmkv7gVcF/BWqK21rNvX8G9Le31sm5fwfIHQtvmaV/BvroF6FFkX8EipVn0n2BfwaOD+/F+YV/BcpOS2ihaX8GvmzoLz1xfwSK8dmynUV/BGVO3emhVX8EetycLylNfwfM9mJ4bX1/B0JMU0BxeX8ECw1hZOGNfwbowVNFCYV/BC8BDwnxfX8HtSTRKV2BfwVFmwwB/UF/BmHevL1VbX8H80ObnIFpfwU5bfLl2U1/BL6HAnlVUX8HgdduvnlVfwbeNANZ1U1/BiC/JscVQX8EelRApeE9fwQFLlCAVVl/BWUVoT/pkX8EMZYt7IWNfwX/CtMqPYl/BOArcxpxeX8EenwmsJWFfwcRWjMd+cV/BE7UGm/BwX8GJRdrIyXdfwT73oWDbdl/BH6E+UZt4X8E84sd893JfwWDq+P1Qd1/ByKy/KTp6X8ELCmCgVHlfwfAbA3EQfF/BY1V6j8Z9X8HDm3Sron9fwWAHeNx9gV/BfP5lRUeEX8EiURoamIdfwYVjTLncgl/BGe1JwMSBX8Gvc/ttWGNfwcgLmfVOVV/B6QdxObBZX8EDahsf42tfwQmJh8wQeV/B8qGHHC1tX8E63SQRiWFfwR7Zw/GHY1/BJm9aFuZdX8FrgTb/oltfwQ==\",\"dtype\":\"float64\",\"order\":\"little\",\"shape\":[92]},\"PlaceType\":[\"Park\",\"Cemetery\",\"Park\",\"Park\",\"Garden\",\"Park\",\"Cemetery\",\"Park\",\"Park\",\"Park\",\"Park\",\"Island\",\"Park\",\"Hill Park\",\"Park\",\"Island\",\"Park\",\"Park\",\"Park\",\"Park\",\"Circle\",\"Square\",\"Square\",\"Square\",\"Island\",\"Park\",\"Park\",\"Garden\",\"Park\",\"Cemetery\",\"Cemetery\",\"Terminal\",\"Park\",\"Hamilton\",\"Park\",\"Cemetery\",\"Park\",\"Field\",\"Park\",\"Track\",\"Cemetery\",\"Park\",\"Park\",\"Park\",\"Cemetery\",\"Cemetery\",\"Cemetery\",\"Cemetery\",\"Park\",\"Cemetery\",\"Cemetery\",\"Corona\",\"Cemetery\",\"Park\",\"Totten\",\"Park\",\"Park\",\"Park\",\"Park\",\"Schuyler\",\"Cemetery\",\"Cemetery\",\"Cemetery\",\"Park\",\"Tilden\",\"Island\",\"Island\",\"Harbor\",\"Park\",\"Park\",\"Wadsworth\",\"Field\",\"Park\",\"Cemetery\",\"Park\",\"Park\",\"Park\",\"Park\",\"Loretto\",\"Park\",\"Golf\",\"Kills\",\"Beach\",\"International Airport\",\"Wildlife Refuge\",\"Park\",\"Park\",\"Park\",\"Cemetery\",\"Park\",\"Park\",\"Park\"],\"color\":[\"Park\",\"Cemetery\",\"Park\",\"Park\",\"Garden\",\"Park\",\"Cemetery\",\"Park\",\"Park\",\"Park\",\"Park\",\"Island\",\"Park\",\"Hill Park\",\"Park\",\"Island\",\"Park\",\"Park\",\"Park\",\"Park\",\"Circle\",\"Square\",\"Square\",\"Square\",\"Island\",\"Park\",\"Park\",\"Garden\",\"Park\",\"Cemetery\",\"Cemetery\",\"Terminal\",\"Park\",\"Hamilton\",\"Park\",\"Cemetery\",\"Park\",\"Field\",\"Park\",\"Track\",\"Cemetery\",\"Park\",\"Park\",\"Park\",\"Cemetery\",\"Cemetery\",\"Cemetery\",\"Cemetery\",\"Park\",\"Cemetery\",\"Cemetery\",\"Corona\",\"Cemetery\",\"Park\",\"Totten\",\"Park\",\"Park\",\"Park\",\"Park\",\"Schuyler\",\"Cemetery\",\"Cemetery\",\"Cemetery\",\"Park\",\"Tilden\",\"Island\",\"Island\",\"Harbor\",\"Park\",\"Park\",\"Wadsworth\",\"Field\",\"Park\",\"Cemetery\",\"Park\",\"Park\",\"Park\",\"Park\",\"Loretto\",\"Park\",\"Golf\",\"Kills\",\"Beach\",\"International Airport\",\"Wildlife Refuge\",\"Park\",\"Park\",\"Park\",\"Cemetery\",\"Park\",\"Park\",\"Park\"]},\"selected\":{\"id\":\"2729\"},\"selection_policy\":{\"id\":\"2742\"}},\"id\":\"2728\",\"type\":\"ColumnDataSource\"},{\"attributes\":{\"fill_alpha\":{\"value\":0.8},\"fill_color\":{\"field\":\"color\",\"transform\":{\"id\":\"2727\"}},\"line_alpha\":{\"value\":0.8},\"line_color\":{\"field\":\"color\",\"transform\":{\"id\":\"2727\"}},\"size\":{\"value\":5.477225575051661},\"x\":{\"field\":\"Longitude\"},\"y\":{\"field\":\"Latitude\"}},\"id\":\"2732\",\"type\":\"Scatter\"},{\"attributes\":{\"children\":[{\"id\":\"2652\"},{\"id\":\"2664\"},{\"id\":\"2802\"}],\"margin\":[0,0,0,0],\"name\":\"Row06343\",\"tags\":[\"embedded\"]},\"id\":\"2651\",\"type\":\"Row\"},{\"attributes\":{\"axis\":{\"id\":\"2677\"},\"dimension\":1,\"grid_line_color\":null,\"ticker\":null},\"id\":\"2680\",\"type\":\"Grid\"},{\"attributes\":{\"end\":5002868.404392054,\"min_interval\":5,\"reset_end\":5002868.404392054,\"reset_start\":4932981.895163525,\"start\":4932981.895163525,\"tags\":[[[\"Latitude\",\"Latitude\",null]]]},\"id\":\"2658\",\"type\":\"Range1d\"},{\"attributes\":{\"fill_alpha\":{\"value\":0.8},\"fill_color\":{\"field\":\"color\",\"transform\":{\"id\":\"2727\"}},\"line_alpha\":{\"value\":0.8},\"line_color\":{\"field\":\"color\",\"transform\":{\"id\":\"2727\"}},\"size\":{\"value\":5.477225575051661},\"x\":{\"field\":\"Longitude\"},\"y\":{\"field\":\"Latitude\"}},\"id\":\"2733\",\"type\":\"Scatter\"},{\"attributes\":{\"label\":{\"field\":\"color\"},\"renderers\":[{\"id\":\"2736\"}]},\"id\":\"2745\",\"type\":\"LegendItem\"},{\"attributes\":{\"data_source\":{\"id\":\"2728\"},\"glyph\":{\"id\":\"2731\"},\"hover_glyph\":{\"id\":\"2734\"},\"muted_glyph\":{\"id\":\"2735\"},\"nonselection_glyph\":{\"id\":\"2732\"},\"selection_glyph\":{\"id\":\"2733\"},\"view\":{\"id\":\"2737\"}},\"id\":\"2736\",\"type\":\"GlyphRenderer\"},{\"attributes\":{\"dimension\":\"lat\"},\"id\":\"2698\",\"type\":\"MercatorTicker\"},{\"attributes\":{\"bottom_units\":\"screen\",\"fill_alpha\":0.5,\"fill_color\":\"lightgrey\",\"left_units\":\"screen\",\"level\":\"overlay\",\"line_alpha\":1.0,\"line_color\":\"black\",\"line_dash\":[4,4],\"line_width\":2,\"right_units\":\"screen\",\"syncable\":false,\"top_units\":\"screen\"},\"id\":\"2686\",\"type\":\"BoxAnnotation\"},{\"attributes\":{},\"id\":\"2671\",\"type\":\"LinearScale\"},{\"attributes\":{\"dimension\":\"lon\"},\"id\":\"2696\",\"type\":\"MercatorTicker\"},{\"attributes\":{\"fill_alpha\":{\"value\":0.8},\"fill_color\":{\"field\":\"color\",\"transform\":{\"id\":\"2727\"}},\"line_alpha\":{\"value\":0.8},\"line_color\":{\"field\":\"color\",\"transform\":{\"id\":\"2727\"}},\"size\":{\"value\":5.477225575051661},\"x\":{\"field\":\"Longitude\"},\"y\":{\"field\":\"Latitude\"}},\"id\":\"2731\",\"type\":\"Scatter\"},{\"attributes\":{},\"id\":\"2729\",\"type\":\"Selection\"},{\"attributes\":{\"end\":-8187655.96828672,\"min_interval\":5,\"reset_end\":-8187655.96828672,\"reset_start\":-8285497.081206661,\"start\":-8285497.081206661,\"tags\":[[[\"Longitude\",\"Longitude\",null]]]},\"id\":\"2657\",\"type\":\"Range1d\"},{\"attributes\":{},\"id\":\"2685\",\"type\":\"ResetTool\"},{\"attributes\":{\"code\":\"\\n        var projections = Bokeh.require(\\\"core/util/projections\\\");\\n        var x = special_vars.data_x\\n        var y = special_vars.data_y\\n        if (projections.wgs84_mercator.invert == null) {\\n          var coords = projections.wgs84_mercator.inverse([x, y])\\n        } else {\\n          var coords = projections.wgs84_mercator.invert(x, y)\\n        }\\n        return \\\"\\\" + (coords[0]).toFixed(4)\\n    \"},\"id\":\"2746\",\"type\":\"CustomJSHover\"},{\"attributes\":{\"fill_alpha\":{\"value\":0.2},\"fill_color\":{\"field\":\"color\",\"transform\":{\"id\":\"2727\"}},\"line_alpha\":{\"value\":0.2},\"line_color\":{\"field\":\"color\",\"transform\":{\"id\":\"2727\"}},\"size\":{\"value\":5.477225575051661},\"x\":{\"field\":\"Longitude\"},\"y\":{\"field\":\"Latitude\"}},\"id\":\"2735\",\"type\":\"Scatter\"},{\"attributes\":{\"axis_label\":\"y\",\"formatter\":{\"id\":\"2699\"},\"major_label_policy\":{\"id\":\"2709\"},\"ticker\":{\"id\":\"2698\"}},\"id\":\"2677\",\"type\":\"LinearAxis\"}],\"root_ids\":[\"2651\"]},\"title\":\"Bokeh Application\",\"version\":\"2.3.2\"}};\n",
       "    var render_items = [{\"docid\":\"f03f5e67-46fd-4077-916b-c408a51a34a4\",\"root_ids\":[\"2651\"],\"roots\":{\"2651\":\"aa69228f-e112-480b-a526-9bbb6b6d56f9\"}}];\n",
       "    root.Bokeh.embed.embed_items_notebook(docs_json, render_items);\n",
       "  }\n",
       "  if (root.Bokeh !== undefined && root.Bokeh.Panel !== undefined) {\n",
       "    embed_document(root);\n",
       "  } else {\n",
       "    var attempts = 0;\n",
       "    var timer = setInterval(function(root) {\n",
       "      if (root.Bokeh !== undefined && root.Bokeh.Panel !== undefined) {\n",
       "        clearInterval(timer);\n",
       "        embed_document(root);\n",
       "      } else if (document.readyState == \"complete\") {\n",
       "        attempts++;\n",
       "        if (attempts > 100) {\n",
       "          clearInterval(timer);\n",
       "          console.log(\"Bokeh: ERROR: Unable to run BokehJS code because BokehJS library is missing\");\n",
       "        }\n",
       "      }\n",
       "    }, 10, root)\n",
       "  }\n",
       "})(window);</script>"
      ],
      "text/plain": [
       ":Overlay\n",
       "   .Tiles.I  :Tiles   [x,y]\n",
       "   .Points.I :Points   [Longitude,Latitude]   (PlaceType)"
      ]
     },
     "execution_count": 12,
     "metadata": {
      "application/vnd.holoviews_exec.v0+json": {
       "id": "2651"
      }
     },
     "output_type": "execute_result"
    }
   ],
   "source": [
    "# Plot all of the NYC places of interest\n",
    "# Set the color parameter to PlaceType\n",
    "# Keep all other parameters the same as the previous plot\n",
    "\n",
    "places_of_interest_by_type = places_of_interest.hvplot.points(\n",
    "    x=\"Longitude\",\n",
    "    y=\"Latitude\",\n",
    "    color=\"PlaceType\",\n",
    "    alpha=0.8,\n",
    "    tiles=\"OSM\",\n",
    "    frame_width=700,\n",
    "    frame_height=500,\n",
    ")\n",
    "\n",
    "# Show the plot\n",
    "# YOUR CODE HERE"
   ]
  },
  {
   "cell_type": "markdown",
   "metadata": {},
   "source": [
    "### Step 4: Plot All Places of Interest by Borough"
   ]
  },
  {
   "cell_type": "code",
   "execution_count": 9,
   "metadata": {},
   "outputs": [
    {
     "data": {},
     "metadata": {},
     "output_type": "display_data"
    },
    {
     "data": {
      "application/vnd.holoviews_exec.v0+json": "",
      "text/html": [
       "<div id='2102'>\n",
       "\n",
       "\n",
       "\n",
       "\n",
       "\n",
       "  <div class=\"bk-root\" id=\"8bfc6dcd-adce-4d84-84d3-57bc1d248759\" data-root-id=\"2102\"></div>\n",
       "</div>\n",
       "<script type=\"application/javascript\">(function(root) {\n",
       "  function embed_document(root) {\n",
       "    var docs_json = {\"af162325-c779-4e52-98bd-c29943569d87\":{\"defs\":[],\"roots\":{\"references\":[{\"attributes\":{\"axis\":{\"id\":\"2128\"},\"dimension\":1,\"grid_line_color\":null,\"ticker\":null},\"id\":\"2131\",\"type\":\"Grid\"},{\"attributes\":{},\"id\":\"2120\",\"type\":\"LinearScale\"},{\"attributes\":{},\"id\":\"2160\",\"type\":\"AllLabels\"},{\"attributes\":{},\"id\":\"2180\",\"type\":\"Selection\"},{\"attributes\":{\"data_source\":{\"id\":\"2179\"},\"glyph\":{\"id\":\"2182\"},\"hover_glyph\":{\"id\":\"2185\"},\"muted_glyph\":{\"id\":\"2186\"},\"nonselection_glyph\":{\"id\":\"2183\"},\"selection_glyph\":{\"id\":\"2184\"},\"view\":{\"id\":\"2188\"}},\"id\":\"2187\",\"type\":\"GlyphRenderer\"},{\"attributes\":{\"code\":\"\\n        var projections = Bokeh.require(\\\"core/util/projections\\\");\\n        var x = special_vars.data_x\\n        var y = special_vars.data_y\\n        if (projections.wgs84_mercator.invert == null) {\\n          var coords = projections.wgs84_mercator.inverse([x, y])\\n        } else {\\n          var coords = projections.wgs84_mercator.invert(x, y)\\n        }\\n        return \\\"\\\" + (coords[1]).toFixed(4)\\n    \"},\"id\":\"2198\",\"type\":\"CustomJSHover\"},{\"attributes\":{\"below\":[{\"id\":\"2124\"}],\"center\":[{\"id\":\"2127\"},{\"id\":\"2131\"}],\"frame_height\":500,\"frame_width\":700,\"height\":null,\"left\":[{\"id\":\"2128\"}],\"margin\":[5,5,5,5],\"match_aspect\":true,\"min_border_bottom\":10,\"min_border_left\":10,\"min_border_right\":10,\"min_border_top\":10,\"renderers\":[{\"id\":\"2176\"},{\"id\":\"2187\"}],\"right\":[{\"id\":\"2195\"}],\"sizing_mode\":\"fixed\",\"title\":{\"id\":\"2116\"},\"toolbar\":{\"id\":\"2138\"},\"width\":null,\"x_range\":{\"id\":\"2108\"},\"x_scale\":{\"id\":\"2120\"},\"y_range\":{\"id\":\"2109\"},\"y_scale\":{\"id\":\"2122\"}},\"id\":\"2115\",\"subtype\":\"Figure\",\"type\":\"Plot\"},{\"attributes\":{\"margin\":[5,5,5,5],\"name\":\"HSpacer05223\",\"sizing_mode\":\"stretch_width\"},\"id\":\"2253\",\"type\":\"Spacer\"},{\"attributes\":{\"axis_label\":\"x\",\"formatter\":{\"id\":\"2148\"},\"major_label_policy\":{\"id\":\"2153\"},\"ticker\":{\"id\":\"2147\"}},\"id\":\"2124\",\"type\":\"LinearAxis\"},{\"attributes\":{},\"id\":\"2153\",\"type\":\"AllLabels\"},{\"attributes\":{\"data\":{\"Borough\":[\"Bronx\",\"Bronx\",\"Bronx\",\"Bronx\",\"Bronx\",\"Bronx\",\"Bronx\",\"Bronx\",\"Bronx\",\"Bronx\",\"Bronx\",\"Bronx\",\"Bronx\",\"Manhattan\",\"Manhattan\",\"Queens\",\"Manhattan\",\"Manhattan\",\"Manhattan\",\"Manhattan\",\"Manhattan\",\"Manhattan\",\"Manhattan\",\"Manhattan\",\"Manhattan\",\"Brooklyn\",\"Queens\",\"Brooklyn\",\"Brooklyn\",\"Brooklyn\",\"Brooklyn\",\"Brooklyn\",\"Brooklyn\",\"Brooklyn\",\"Brooklyn\",\"Brooklyn\",\"Brooklyn\",\"Brooklyn\",\"Brooklyn\",\"Queens\",\"Queens\",\"Queens\",\"Queens\",\"Queens\",\"Queens\",\"Queens\",\"Queens\",\"Queens\",\"Queens\",\"Queens\",\"Queens\",\"Queens\",\"Queens\",\"Queens\",\"Queens\",\"Queens\",\"Queens\",\"Queens\",\"Queens\",\"Bronx\",\"Queens\",\"Queens\",\"Queens\",\"Queens\",\"Queens\",\"Manhattan\",\"Manhattan\",\"Staten Island\",\"Staten Island\",\"Staten Island\",\"Staten Island\",\"Staten Island\",\"Staten Island\",\"Staten Island\",\"Staten Island\",\"Staten Island\",\"Staten Island\",\"Staten Island\",\"Staten Island\",\"Staten Island\",\"Staten Island\",\"Staten Island\",\"Brooklyn\",\"Queens\",\"Brooklyn\",\"Brooklyn\",\"Staten Island\",\"Brooklyn\",\"Queens\",\"Bronx\",\"Brooklyn\",\"Queens\"],\"Latitude\":{\"__ndarray__\":\"1cxBK+0PU0EFkxUdBA9TQcERDNWYDlNBXEPLS04NU0Fk/NYvWwtTQWcWH6ATClNBg3QWn3IFU0Gw21nzKARTQfHw925RBFNBHT83h6AHU0HEPWjhIwlTQU5VGKx6CVNBIQmrgr8DU0FUgp4ceQxTQdaHhXImC1NBVR+zxfIAU0E2n8zEmAJTQWY2bGSDAVNBNgXi4df/UkFG10dTpP9SQRYytaaD/VJBzRE1xxL8UkE3tSfizPlSQZpHk1zo+FJBpiJdeTvyUkFyx/lLv/ZSQRIB5IfE/lJBPJgPq3DvUkEGDhf6Me5SQWCzB1bg7FJB4fjBHSLsUkHbdt/IT+1SQQOrS/ck61JB+hezdHrmUkGlbd0gEOdSQQ15ZjdR6FJB/Rk/I+flUkFBoIoDLeRSQRrpizkS6VJBtCupfsPvUkFIEKZefvBSQfOrjj/b7FJBzBzON+rvUkFrxoU9BPJSQTQvMFYn81JBfLmksuz1UkFBWpAUQfVSQZCV5SO99lJBuawjOav2UkEIXlEygfVSQUnxaUK48VJBjXvJQzP5UkF1S5nKo/hSQXZZu/np91JB89yfTgcBU0FHIpiYmf9SQYrRzfn7/VJBGBvRc3L7UkHaPBJ6KPtSQbweWi7pAlNB1zbQs4n4UkE9TFc0EflSQSvOTBJZ+FJB6ynP79LgUkEExjLr7d9SQc0IJO9Q8lJBSWuObKLzUkEAERbleutSQTAeWzxU6VJBtHWoyQPoUkHjDQKeDOZSQY3c2THY4FJBpgCA8wreUkG1Mytq8uJSQULgo+rd4lJBsHAdn4LlUkHlYtNildtSQYxgsBA52lJBZ7PYCH/YUkErcfhnDddSQWA8SUJv3lJBpgvzLbXhUkGjRcYFBONSQWlouF5O7FJBTmCtk7LoUkH4MYvrSONSQX2nd1IN5FJBrgdEGb7vUkHWHNvv/vxSQa60sW1dD1NBL9A0OvzrUkEYgb4fDuxSQQ==\",\"dtype\":\"float64\",\"order\":\"little\",\"shape\":[92]},\"Longitude\":{\"__ndarray__\":\"MMxcTIBgX8Gg8uiknl5fwZEnBwEIW1/BhZa9Z+VXX8GuyW7mV19fwc1/1e0eX1/BJUQxHKtaX8G1PV23ZlpfwTbGXiytXl/Bkhwb/xJhX8GtiwZ1Al9fwUos9vOKU1/BfFpV0vpiX8EONZozjGRfwalqsXArZV/B9ePZ39NfX8EfPlliV2ZfwV6DY3wPZF/B9xEPw/VkX8Flx03K1mhfwYW4t+qaal/BbRQ255dqX8G03bp5RmtfwUDg7NuGa1/BW8o2WZJuX8E8ovo5WmdfwY368P5WZF/ByFS+1uNoX8HCEcpDNmlfwRgcX4+Ia1/B30+0VstlX8Fwpf6Jl25fwXmkv7gVcF/BWqK21rNvX8G9Le31sm5fwfIHQtvmaV/BvroF6FFkX8EipVn0n2BfwaOD+/F+YV/BcpOS2ihaX8GvmzoLz1xfwSK8dmynUV/BGVO3emhVX8EetycLylNfwfM9mJ4bX1/B0JMU0BxeX8ECw1hZOGNfwbowVNFCYV/BC8BDwnxfX8HtSTRKV2BfwVFmwwB/UF/BmHevL1VbX8H80ObnIFpfwU5bfLl2U1/BL6HAnlVUX8HgdduvnlVfwbeNANZ1U1/BiC/JscVQX8EelRApeE9fwQFLlCAVVl/BWUVoT/pkX8EMZYt7IWNfwX/CtMqPYl/BOArcxpxeX8EenwmsJWFfwcRWjMd+cV/BE7UGm/BwX8GJRdrIyXdfwT73oWDbdl/BH6E+UZt4X8E84sd893JfwWDq+P1Qd1/ByKy/KTp6X8ELCmCgVHlfwfAbA3EQfF/BY1V6j8Z9X8HDm3Sron9fwWAHeNx9gV/BfP5lRUeEX8EiURoamIdfwYVjTLncgl/BGe1JwMSBX8Gvc/ttWGNfwcgLmfVOVV/B6QdxObBZX8EDahsf42tfwQmJh8wQeV/B8qGHHC1tX8E63SQRiWFfwR7Zw/GHY1/BJm9aFuZdX8FrgTb/oltfwQ==\",\"dtype\":\"float64\",\"order\":\"little\",\"shape\":[92]},\"color\":[\"Bronx\",\"Bronx\",\"Bronx\",\"Bronx\",\"Bronx\",\"Bronx\",\"Bronx\",\"Bronx\",\"Bronx\",\"Bronx\",\"Bronx\",\"Bronx\",\"Bronx\",\"Manhattan\",\"Manhattan\",\"Queens\",\"Manhattan\",\"Manhattan\",\"Manhattan\",\"Manhattan\",\"Manhattan\",\"Manhattan\",\"Manhattan\",\"Manhattan\",\"Manhattan\",\"Brooklyn\",\"Queens\",\"Brooklyn\",\"Brooklyn\",\"Brooklyn\",\"Brooklyn\",\"Brooklyn\",\"Brooklyn\",\"Brooklyn\",\"Brooklyn\",\"Brooklyn\",\"Brooklyn\",\"Brooklyn\",\"Brooklyn\",\"Queens\",\"Queens\",\"Queens\",\"Queens\",\"Queens\",\"Queens\",\"Queens\",\"Queens\",\"Queens\",\"Queens\",\"Queens\",\"Queens\",\"Queens\",\"Queens\",\"Queens\",\"Queens\",\"Queens\",\"Queens\",\"Queens\",\"Queens\",\"Bronx\",\"Queens\",\"Queens\",\"Queens\",\"Queens\",\"Queens\",\"Manhattan\",\"Manhattan\",\"Staten Island\",\"Staten Island\",\"Staten Island\",\"Staten Island\",\"Staten Island\",\"Staten Island\",\"Staten Island\",\"Staten Island\",\"Staten Island\",\"Staten Island\",\"Staten Island\",\"Staten Island\",\"Staten Island\",\"Staten Island\",\"Staten Island\",\"Brooklyn\",\"Queens\",\"Brooklyn\",\"Brooklyn\",\"Staten Island\",\"Brooklyn\",\"Queens\",\"Bronx\",\"Brooklyn\",\"Queens\"]},\"selected\":{\"id\":\"2180\"},\"selection_policy\":{\"id\":\"2193\"}},\"id\":\"2179\",\"type\":\"ColumnDataSource\"},{\"attributes\":{\"axis_label\":\"y\",\"formatter\":{\"id\":\"2150\"},\"major_label_policy\":{\"id\":\"2160\"},\"ticker\":{\"id\":\"2149\"}},\"id\":\"2128\",\"type\":\"LinearAxis\"},{\"attributes\":{\"text_color\":\"black\",\"text_font_size\":\"12pt\"},\"id\":\"2116\",\"type\":\"Title\"},{\"attributes\":{\"end\":-8187655.96828672,\"min_interval\":5,\"reset_end\":-8187655.96828672,\"reset_start\":-8285497.081206661,\"start\":-8285497.081206661,\"tags\":[[[\"Longitude\",\"Longitude\",null]]]},\"id\":\"2108\",\"type\":\"Range1d\"},{\"attributes\":{\"margin\":[5,5,5,5],\"name\":\"HSpacer05222\",\"sizing_mode\":\"stretch_width\"},\"id\":\"2103\",\"type\":\"Spacer\"},{\"attributes\":{\"axis\":{\"id\":\"2124\"},\"grid_line_color\":null,\"ticker\":null},\"id\":\"2127\",\"type\":\"Grid\"},{\"attributes\":{\"active_multi\":null,\"tools\":[{\"id\":\"2112\"},{\"id\":\"2132\"},{\"id\":\"2133\"},{\"id\":\"2134\"},{\"id\":\"2135\"},{\"id\":\"2136\"}]},\"id\":\"2138\",\"type\":\"Toolbar\"},{\"attributes\":{\"fill_alpha\":{\"value\":0.8},\"fill_color\":{\"field\":\"color\",\"transform\":{\"id\":\"2178\"}},\"line_alpha\":{\"value\":0.8},\"line_color\":{\"field\":\"color\",\"transform\":{\"id\":\"2178\"}},\"size\":{\"value\":5.477225575051661},\"x\":{\"field\":\"Longitude\"},\"y\":{\"field\":\"Latitude\"}},\"id\":\"2184\",\"type\":\"Scatter\"},{\"attributes\":{\"fill_alpha\":{\"value\":0.8},\"fill_color\":{\"field\":\"color\",\"transform\":{\"id\":\"2178\"}},\"line_alpha\":{\"value\":0.8},\"line_color\":{\"field\":\"color\",\"transform\":{\"id\":\"2178\"}},\"size\":{\"value\":5.477225575051661},\"x\":{\"field\":\"Longitude\"},\"y\":{\"field\":\"Latitude\"}},\"id\":\"2185\",\"type\":\"Scatter\"},{\"attributes\":{},\"id\":\"2193\",\"type\":\"UnionRenderers\"},{\"attributes\":{\"children\":[{\"id\":\"2103\"},{\"id\":\"2115\"},{\"id\":\"2253\"}],\"margin\":[0,0,0,0],\"name\":\"Row05218\",\"tags\":[\"embedded\"]},\"id\":\"2102\",\"type\":\"Row\"},{\"attributes\":{\"fill_alpha\":{\"value\":0.2},\"fill_color\":{\"field\":\"color\",\"transform\":{\"id\":\"2178\"}},\"line_alpha\":{\"value\":0.2},\"line_color\":{\"field\":\"color\",\"transform\":{\"id\":\"2178\"}},\"size\":{\"value\":5.477225575051661},\"x\":{\"field\":\"Longitude\"},\"y\":{\"field\":\"Latitude\"}},\"id\":\"2186\",\"type\":\"Scatter\"},{\"attributes\":{\"dimension\":\"lon\"},\"id\":\"2147\",\"type\":\"MercatorTicker\"},{\"attributes\":{\"level\":\"glyph\",\"tile_source\":{\"id\":\"2173\"}},\"id\":\"2176\",\"type\":\"TileRenderer\"},{\"attributes\":{\"click_policy\":\"mute\",\"items\":[{\"id\":\"2196\"}],\"location\":[0,0]},\"id\":\"2195\",\"type\":\"Legend\"},{\"attributes\":{\"attribution\":\"&copy; <a href=\\\"https://www.openstreetmap.org/copyright\\\">OpenStreetMap</a> contributors\",\"url\":\"https://c.tile.openstreetmap.org/{Z}/{X}/{Y}.png\"},\"id\":\"2173\",\"type\":\"WMTSTileSource\"},{\"attributes\":{\"label\":{\"field\":\"color\"},\"renderers\":[{\"id\":\"2187\"}]},\"id\":\"2196\",\"type\":\"LegendItem\"},{\"attributes\":{\"match_aspect\":true,\"overlay\":{\"id\":\"2137\"}},\"id\":\"2135\",\"type\":\"BoxZoomTool\"},{\"attributes\":{\"fill_alpha\":{\"value\":0.8},\"fill_color\":{\"field\":\"color\",\"transform\":{\"id\":\"2178\"}},\"line_alpha\":{\"value\":0.8},\"line_color\":{\"field\":\"color\",\"transform\":{\"id\":\"2178\"}},\"size\":{\"value\":5.477225575051661},\"x\":{\"field\":\"Longitude\"},\"y\":{\"field\":\"Latitude\"}},\"id\":\"2182\",\"type\":\"Scatter\"},{\"attributes\":{\"dimension\":\"lat\"},\"id\":\"2150\",\"type\":\"MercatorTickFormatter\"},{\"attributes\":{\"code\":\"\\n        var projections = Bokeh.require(\\\"core/util/projections\\\");\\n        var x = special_vars.data_x\\n        var y = special_vars.data_y\\n        if (projections.wgs84_mercator.invert == null) {\\n          var coords = projections.wgs84_mercator.inverse([x, y])\\n        } else {\\n          var coords = projections.wgs84_mercator.invert(x, y)\\n        }\\n        return \\\"\\\" + (coords[0]).toFixed(4)\\n    \"},\"id\":\"2197\",\"type\":\"CustomJSHover\"},{\"attributes\":{},\"id\":\"2136\",\"type\":\"ResetTool\"},{\"attributes\":{\"bottom_units\":\"screen\",\"fill_alpha\":0.5,\"fill_color\":\"lightgrey\",\"left_units\":\"screen\",\"level\":\"overlay\",\"line_alpha\":1.0,\"line_color\":\"black\",\"line_dash\":[4,4],\"line_width\":2,\"right_units\":\"screen\",\"syncable\":false,\"top_units\":\"screen\"},\"id\":\"2137\",\"type\":\"BoxAnnotation\"},{\"attributes\":{\"factors\":[\"Bronx\",\"Manhattan\",\"Queens\",\"Brooklyn\",\"Staten Island\"],\"palette\":[\"#1f77b3\",\"#ff7e0e\",\"#2ba02b\",\"#d62628\",\"#9367bc\"]},\"id\":\"2178\",\"type\":\"CategoricalColorMapper\"},{\"attributes\":{\"dimension\":\"lat\"},\"id\":\"2149\",\"type\":\"MercatorTicker\"},{\"attributes\":{\"end\":5002868.404392054,\"min_interval\":5,\"reset_end\":5002868.404392054,\"reset_start\":4932981.895163525,\"start\":4932981.895163525,\"tags\":[[[\"Latitude\",\"Latitude\",null]]]},\"id\":\"2109\",\"type\":\"Range1d\"},{\"attributes\":{\"dimension\":\"lon\"},\"id\":\"2148\",\"type\":\"MercatorTickFormatter\"},{\"attributes\":{\"callback\":null,\"formatters\":{\"$x\":{\"id\":\"2197\"},\"$y\":{\"id\":\"2198\"}},\"renderers\":[{\"id\":\"2187\"}],\"tags\":[\"hv_created\"],\"tooltips\":[[\"Longitude\",\"$x{custom}\"],[\"Latitude\",\"$y{custom}\"],[\"Borough\",\"@{Borough}\"]]},\"id\":\"2112\",\"type\":\"HoverTool\"},{\"attributes\":{\"zoom_on_axis\":false},\"id\":\"2134\",\"type\":\"WheelZoomTool\"},{\"attributes\":{\"source\":{\"id\":\"2179\"}},\"id\":\"2188\",\"type\":\"CDSView\"},{\"attributes\":{},\"id\":\"2133\",\"type\":\"PanTool\"},{\"attributes\":{\"fill_alpha\":{\"value\":0.8},\"fill_color\":{\"field\":\"color\",\"transform\":{\"id\":\"2178\"}},\"line_alpha\":{\"value\":0.8},\"line_color\":{\"field\":\"color\",\"transform\":{\"id\":\"2178\"}},\"size\":{\"value\":5.477225575051661},\"x\":{\"field\":\"Longitude\"},\"y\":{\"field\":\"Latitude\"}},\"id\":\"2183\",\"type\":\"Scatter\"},{\"attributes\":{},\"id\":\"2132\",\"type\":\"SaveTool\"},{\"attributes\":{},\"id\":\"2122\",\"type\":\"LinearScale\"}],\"root_ids\":[\"2102\"]},\"title\":\"Bokeh Application\",\"version\":\"2.3.2\"}};\n",
       "    var render_items = [{\"docid\":\"af162325-c779-4e52-98bd-c29943569d87\",\"root_ids\":[\"2102\"],\"roots\":{\"2102\":\"8bfc6dcd-adce-4d84-84d3-57bc1d248759\"}}];\n",
       "    root.Bokeh.embed.embed_items_notebook(docs_json, render_items);\n",
       "  }\n",
       "  if (root.Bokeh !== undefined && root.Bokeh.Panel !== undefined) {\n",
       "    embed_document(root);\n",
       "  } else {\n",
       "    var attempts = 0;\n",
       "    var timer = setInterval(function(root) {\n",
       "      if (root.Bokeh !== undefined && root.Bokeh.Panel !== undefined) {\n",
       "        clearInterval(timer);\n",
       "        embed_document(root);\n",
       "      } else if (document.readyState == \"complete\") {\n",
       "        attempts++;\n",
       "        if (attempts > 100) {\n",
       "          clearInterval(timer);\n",
       "          console.log(\"Bokeh: ERROR: Unable to run BokehJS code because BokehJS library is missing\");\n",
       "        }\n",
       "      }\n",
       "    }, 10, root)\n",
       "  }\n",
       "})(window);</script>"
      ],
      "text/plain": [
       ":Overlay\n",
       "   .Tiles.I  :Tiles   [x,y]\n",
       "   .Points.I :Points   [Longitude,Latitude]   (Borough)"
      ]
     },
     "execution_count": 9,
     "metadata": {
      "application/vnd.holoviews_exec.v0+json": {
       "id": "2102"
      }
     },
     "output_type": "execute_result"
    }
   ],
   "source": [
    "# Plot all of the NYC places of interest\n",
    "# Set the color parameter to Borough\n",
    "# Keep all other parameters the same as the previous plot\n",
    "\n",
    "places_of_interest_by_borough = \n",
    "\n",
    "# Show the plot\n",
    "# YOUR CODE HERE"
   ]
  },
  {
   "cell_type": "markdown",
   "metadata": {},
   "source": [
    "### Step 5: Plot Parks of Interest"
   ]
  },
  {
   "cell_type": "code",
   "execution_count": 10,
   "metadata": {},
   "outputs": [
    {
     "data": {},
     "metadata": {},
     "output_type": "display_data"
    },
    {
     "data": {
      "application/vnd.holoviews_exec.v0+json": "",
      "text/html": [
       "<div id='2285'>\n",
       "\n",
       "\n",
       "\n",
       "\n",
       "\n",
       "  <div class=\"bk-root\" id=\"4ad5eb35-1eb5-4915-a285-b1103348d876\" data-root-id=\"2285\"></div>\n",
       "</div>\n",
       "<script type=\"application/javascript\">(function(root) {\n",
       "  function embed_document(root) {\n",
       "    var docs_json = {\"bc8e38b3-916c-4135-a64b-834b1a63f9b7\":{\"defs\":[],\"roots\":{\"references\":[{\"attributes\":{\"factors\":[\"Van Cortlandt Park\",\"Seton Falls Park\",\"Pelham Bay Park\",\"Bronx Park\",\"Ferry Point Park\",\"Sound View Park\",\"Crotona Park\",\"Zoo/Wildlife Conser. Park\",\"Saint Mary's Park\",\"Fort Tryon Park\",\"Marcus Garvey Park\",\"Randall's Island Park\",\"Ward's Island Park\",\"Central Park\",\"McCarren Park\",\"Astoria Park\",\"Prospect Park\",\"Owls Head Park\",\"Dyker Beach Park\",\"Marine Park\",\"Canarsie Beach Park\",\"Brookville Park\",\"Baisley Pond Park\",\"Roy Wilkins Park\",\"Juniper Valley Park\",\"Cunningham Park\",\"Clearview Park\",\"Crocheron Park\",\"Alley Pond Park\",\"Douglaston Park\",\"Jacob Riis Park\",\"Silver Lake Park\",\"Clove Lakes Park\",\"Great Kills Park\",\"LaTourette Park\",\"Willowbrook Park\",\"Blue Heron Park\",\"Wolfe's Pond Park\",\"Conference House Park\",\"Calvert Vaux\",\"High Rock Park\",\"Red Hook Park\",\"Riverdale Park\",\"Spring Creek Park Preserve No Access\",\"Spring Creek Park Gateway National Recreation Area\"],\"palette\":[\"#1f77b3\",\"#ff7e0e\",\"#2ba02b\",\"#d62628\",\"#9367bc\",\"#8c564b\",\"#e277c1\",\"#7e7e7e\",\"#bcbc21\",\"#16bdcf\",\"#3a0182\",\"#004201\",\"#0fffa8\",\"#5d003f\",\"#bcbcff\",\"#d8afa1\",\"#b80080\",\"#004d52\",\"#6b6400\",\"#7c0100\",\"#6026ff\",\"#ffff9a\",\"#564964\",\"#8cb893\",\"#93fbff\",\"#018267\",\"#90ff00\",\"#8200a0\",\"#ac8944\",\"#5b3400\",\"#ffbff2\",\"#ff6e75\",\"#798cff\",\"#dd00ff\",\"#505646\",\"#004489\",\"#ffbf60\",\"#ff018c\",\"#bdc8cf\",\"#af97b5\",\"#b65600\",\"#017000\",\"#cd87ff\",\"#1cd646\",\"#bfebc3\"]},\"id\":\"2361\",\"type\":\"CategoricalColorMapper\"},{\"attributes\":{\"fill_alpha\":{\"value\":0.8},\"fill_color\":{\"field\":\"color\",\"transform\":{\"id\":\"2361\"}},\"line_alpha\":{\"value\":0.8},\"line_color\":{\"field\":\"color\",\"transform\":{\"id\":\"2361\"}},\"size\":{\"value\":5.477225575051661},\"x\":{\"field\":\"Longitude\"},\"y\":{\"field\":\"Latitude\"}},\"id\":\"2365\",\"type\":\"Scatter\"},{\"attributes\":{\"code\":\"\\n        var projections = Bokeh.require(\\\"core/util/projections\\\");\\n        var x = special_vars.data_x\\n        var y = special_vars.data_y\\n        if (projections.wgs84_mercator.invert == null) {\\n          var coords = projections.wgs84_mercator.inverse([x, y])\\n        } else {\\n          var coords = projections.wgs84_mercator.invert(x, y)\\n        }\\n        return \\\"\\\" + (coords[0]).toFixed(4)\\n    \"},\"id\":\"2380\",\"type\":\"CustomJSHover\"},{\"attributes\":{\"dimension\":\"lat\"},\"id\":\"2332\",\"type\":\"MercatorTicker\"},{\"attributes\":{\"children\":[{\"id\":\"2286\"},{\"id\":\"2298\"},{\"id\":\"2436\"}],\"margin\":[0,0,0,0],\"name\":\"Row05593\",\"tags\":[\"embedded\"]},\"id\":\"2285\",\"type\":\"Row\"},{\"attributes\":{\"bottom_units\":\"screen\",\"fill_alpha\":0.5,\"fill_color\":\"lightgrey\",\"left_units\":\"screen\",\"level\":\"overlay\",\"line_alpha\":1.0,\"line_color\":\"black\",\"line_dash\":[4,4],\"line_width\":2,\"right_units\":\"screen\",\"syncable\":false,\"top_units\":\"screen\"},\"id\":\"2320\",\"type\":\"BoxAnnotation\"},{\"attributes\":{\"source\":{\"id\":\"2362\"}},\"id\":\"2371\",\"type\":\"CDSView\"},{\"attributes\":{\"label\":{\"field\":\"color\"},\"renderers\":[{\"id\":\"2370\"}]},\"id\":\"2379\",\"type\":\"LegendItem\"},{\"attributes\":{},\"id\":\"2343\",\"type\":\"AllLabels\"},{\"attributes\":{\"click_policy\":\"mute\",\"items\":[{\"id\":\"2379\"}],\"location\":[0,0]},\"id\":\"2378\",\"type\":\"Legend\"},{\"attributes\":{\"level\":\"glyph\",\"tile_source\":{\"id\":\"2356\"}},\"id\":\"2359\",\"type\":\"TileRenderer\"},{\"attributes\":{\"axis\":{\"id\":\"2311\"},\"dimension\":1,\"grid_line_color\":null,\"ticker\":null},\"id\":\"2314\",\"type\":\"Grid\"},{\"attributes\":{\"zoom_on_axis\":false},\"id\":\"2317\",\"type\":\"WheelZoomTool\"},{\"attributes\":{\"fill_alpha\":{\"value\":0.8},\"fill_color\":{\"field\":\"color\",\"transform\":{\"id\":\"2361\"}},\"line_alpha\":{\"value\":0.8},\"line_color\":{\"field\":\"color\",\"transform\":{\"id\":\"2361\"}},\"size\":{\"value\":5.477225575051661},\"x\":{\"field\":\"Longitude\"},\"y\":{\"field\":\"Latitude\"}},\"id\":\"2367\",\"type\":\"Scatter\"},{\"attributes\":{\"axis\":{\"id\":\"2307\"},\"grid_line_color\":null,\"ticker\":null},\"id\":\"2310\",\"type\":\"Grid\"},{\"attributes\":{\"data_source\":{\"id\":\"2362\"},\"glyph\":{\"id\":\"2365\"},\"hover_glyph\":{\"id\":\"2368\"},\"muted_glyph\":{\"id\":\"2369\"},\"nonselection_glyph\":{\"id\":\"2366\"},\"selection_glyph\":{\"id\":\"2367\"},\"view\":{\"id\":\"2371\"}},\"id\":\"2370\",\"type\":\"GlyphRenderer\"},{\"attributes\":{},\"id\":\"2363\",\"type\":\"Selection\"},{\"attributes\":{},\"id\":\"2315\",\"type\":\"SaveTool\"},{\"attributes\":{\"end\":5002868.404392054,\"min_interval\":5,\"reset_end\":5002868.404392054,\"reset_start\":4932981.895163525,\"start\":4932981.895163525,\"tags\":[[[\"Latitude\",\"Latitude\",null]]]},\"id\":\"2292\",\"type\":\"Range1d\"},{\"attributes\":{\"margin\":[5,5,5,5],\"name\":\"HSpacer05598\",\"sizing_mode\":\"stretch_width\"},\"id\":\"2436\",\"type\":\"Spacer\"},{\"attributes\":{\"text_color\":\"black\",\"text_font_size\":\"12pt\"},\"id\":\"2299\",\"type\":\"Title\"},{\"attributes\":{},\"id\":\"2303\",\"type\":\"LinearScale\"},{\"attributes\":{\"margin\":[5,5,5,5],\"name\":\"HSpacer05597\",\"sizing_mode\":\"stretch_width\"},\"id\":\"2286\",\"type\":\"Spacer\"},{\"attributes\":{},\"id\":\"2305\",\"type\":\"LinearScale\"},{\"attributes\":{\"dimension\":\"lon\"},\"id\":\"2331\",\"type\":\"MercatorTickFormatter\"},{\"attributes\":{\"dimension\":\"lat\"},\"id\":\"2333\",\"type\":\"MercatorTickFormatter\"},{\"attributes\":{\"fill_alpha\":{\"value\":0.2},\"fill_color\":{\"field\":\"color\",\"transform\":{\"id\":\"2361\"}},\"line_alpha\":{\"value\":0.2},\"line_color\":{\"field\":\"color\",\"transform\":{\"id\":\"2361\"}},\"size\":{\"value\":5.477225575051661},\"x\":{\"field\":\"Longitude\"},\"y\":{\"field\":\"Latitude\"}},\"id\":\"2369\",\"type\":\"Scatter\"},{\"attributes\":{\"dimension\":\"lon\"},\"id\":\"2330\",\"type\":\"MercatorTicker\"},{\"attributes\":{},\"id\":\"2336\",\"type\":\"AllLabels\"},{\"attributes\":{\"end\":-8187655.96828672,\"min_interval\":5,\"reset_end\":-8187655.96828672,\"reset_start\":-8285497.081206661,\"start\":-8285497.081206661,\"tags\":[[[\"Longitude\",\"Longitude\",null]]]},\"id\":\"2291\",\"type\":\"Range1d\"},{\"attributes\":{\"active_multi\":null,\"tools\":[{\"id\":\"2295\"},{\"id\":\"2315\"},{\"id\":\"2316\"},{\"id\":\"2317\"},{\"id\":\"2318\"},{\"id\":\"2319\"}]},\"id\":\"2321\",\"type\":\"Toolbar\"},{\"attributes\":{},\"id\":\"2316\",\"type\":\"PanTool\"},{\"attributes\":{},\"id\":\"2376\",\"type\":\"UnionRenderers\"},{\"attributes\":{\"fill_alpha\":{\"value\":0.8},\"fill_color\":{\"field\":\"color\",\"transform\":{\"id\":\"2361\"}},\"line_alpha\":{\"value\":0.8},\"line_color\":{\"field\":\"color\",\"transform\":{\"id\":\"2361\"}},\"size\":{\"value\":5.477225575051661},\"x\":{\"field\":\"Longitude\"},\"y\":{\"field\":\"Latitude\"}},\"id\":\"2368\",\"type\":\"Scatter\"},{\"attributes\":{\"callback\":null,\"formatters\":{\"$x\":{\"id\":\"2380\"},\"$y\":{\"id\":\"2381\"}},\"renderers\":[{\"id\":\"2370\"}],\"tags\":[\"hv_created\"],\"tooltips\":[[\"Longitude\",\"$x{custom}\"],[\"Latitude\",\"$y{custom}\"],[\"Name\",\"@{Name}\"]]},\"id\":\"2295\",\"type\":\"HoverTool\"},{\"attributes\":{},\"id\":\"2319\",\"type\":\"ResetTool\"},{\"attributes\":{\"fill_alpha\":{\"value\":0.8},\"fill_color\":{\"field\":\"color\",\"transform\":{\"id\":\"2361\"}},\"line_alpha\":{\"value\":0.8},\"line_color\":{\"field\":\"color\",\"transform\":{\"id\":\"2361\"}},\"size\":{\"value\":5.477225575051661},\"x\":{\"field\":\"Longitude\"},\"y\":{\"field\":\"Latitude\"}},\"id\":\"2366\",\"type\":\"Scatter\"},{\"attributes\":{\"axis_label\":\"x\",\"formatter\":{\"id\":\"2331\"},\"major_label_policy\":{\"id\":\"2336\"},\"ticker\":{\"id\":\"2330\"}},\"id\":\"2307\",\"type\":\"LinearAxis\"},{\"attributes\":{\"match_aspect\":true,\"overlay\":{\"id\":\"2320\"}},\"id\":\"2318\",\"type\":\"BoxZoomTool\"},{\"attributes\":{\"attribution\":\"&copy; <a href=\\\"https://www.openstreetmap.org/copyright\\\">OpenStreetMap</a> contributors\",\"url\":\"https://c.tile.openstreetmap.org/{Z}/{X}/{Y}.png\"},\"id\":\"2356\",\"type\":\"WMTSTileSource\"},{\"attributes\":{\"data\":{\"Latitude\":{\"__ndarray__\":\"1cxBK+0PU0HBEQzVmA5TQVxDy0tODVNBZxYfoBMKU0Gw21nzKARTQfHw925RBFNBHT83h6AHU0HEPWjhIwlTQSEJq4K/A1NB1oeFciYLU0E2n8zEmAJTQWY2bGSDAVNBNgXi4df/UkFG10dTpP9SQXLH+Uu/9lJBEgHkh8T+UkEGDhf6Me5SQQOrS/ck61JBpW3dIBDnUkH9GT8j5+VSQRrpizkS6VJB86uOP9vsUkHMHM436u9SQWvGhT0E8lJBuawjOav2UkF2Wbv56fdSQUcimJiZ/1JBitHN+fv9UkEYG9FzcvtSQdo8Enoo+1JB6ynP79LgUkEwHls8VOlSQbR1qMkD6FJBpgCA8wreUkFC4KPq3eJSQbBwHZ+C5VJB5WLTYpXbUkGMYLAQOdpSQStx+GcN11JB+DGL60jjUkF9p3dSDeRSQa4HRBm+71JBrrSxbV0PU0Ev0DQ6/OtSQRiBvh8O7FJB\",\"dtype\":\"float64\",\"order\":\"little\",\"shape\":[45]},\"Longitude\":{\"__ndarray__\":\"MMxcTIBgX8GRJwcBCFtfwYWWvWflV1/BzX/V7R5fX8G1PV23ZlpfwTbGXiytXl/Bkhwb/xJhX8GtiwZ1Al9fwXxaVdL6Yl/BqWqxcCtlX8EfPlliV2ZfwV6DY3wPZF/B9xEPw/VkX8Flx03K1mhfwTyi+jlaZ1/Bjfrw/lZkX8HCEcpDNmlfwXmkv7gVcF/BvS3t9bJuX8G+ugXoUWRfwaOD+/F+YV/BIrx2bKdRX8EZU7d6aFVfwR63JwvKU1/BC8BDwnxfX8FOW3y5dlNfweB126+eVV/Bt40A1nVTX8GIL8mxxVBfwR6VECl4T1/BOArcxpxeX8E+96Fg23ZfwR+hPlGbeF/ByKy/KTp6X8HwGwNxEHxfwWNVeo/GfV/Bw5t0q6J/X8FgB3jcfYFfwSJRGhqYh1/BA2obH+NrX8EJiYfMEHlfwfKhhxwtbV/BHtnD8YdjX8Emb1oW5l1fwWuBNv+iW1/B\",\"dtype\":\"float64\",\"order\":\"little\",\"shape\":[45]},\"Name\":[\"Van Cortlandt Park\",\"Seton Falls Park\",\"Pelham Bay Park\",\"Bronx Park\",\"Ferry Point Park\",\"Sound View Park\",\"Crotona Park\",\"Zoo/Wildlife Conser. Park\",\"Saint Mary's Park\",\"Fort Tryon Park\",\"Marcus Garvey Park\",\"Randall's Island Park\",\"Ward's Island Park\",\"Central Park\",\"McCarren Park\",\"Astoria Park\",\"Prospect Park\",\"Owls Head Park\",\"Dyker Beach Park\",\"Marine Park\",\"Canarsie Beach Park\",\"Brookville Park\",\"Baisley Pond Park\",\"Roy Wilkins Park\",\"Juniper Valley Park\",\"Cunningham Park\",\"Clearview Park\",\"Crocheron Park\",\"Alley Pond Park\",\"Douglaston Park\",\"Jacob Riis Park\",\"Silver Lake Park\",\"Clove Lakes Park\",\"Great Kills Park\",\"LaTourette Park\",\"Willowbrook Park\",\"Blue Heron Park\",\"Wolfe's Pond Park\",\"Conference House Park\",\"Calvert Vaux\",\"High Rock Park\",\"Red Hook Park\",\"Riverdale Park\",\"Spring Creek Park Preserve No Access\",\"Spring Creek Park Gateway National Recreation Area\"],\"color\":[\"Van Cortlandt Park\",\"Seton Falls Park\",\"Pelham Bay Park\",\"Bronx Park\",\"Ferry Point Park\",\"Sound View Park\",\"Crotona Park\",\"Zoo/Wildlife Conser. Park\",\"Saint Mary's Park\",\"Fort Tryon Park\",\"Marcus Garvey Park\",\"Randall's Island Park\",\"Ward's Island Park\",\"Central Park\",\"McCarren Park\",\"Astoria Park\",\"Prospect Park\",\"Owls Head Park\",\"Dyker Beach Park\",\"Marine Park\",\"Canarsie Beach Park\",\"Brookville Park\",\"Baisley Pond Park\",\"Roy Wilkins Park\",\"Juniper Valley Park\",\"Cunningham Park\",\"Clearview Park\",\"Crocheron Park\",\"Alley Pond Park\",\"Douglaston Park\",\"Jacob Riis Park\",\"Silver Lake Park\",\"Clove Lakes Park\",\"Great Kills Park\",\"LaTourette Park\",\"Willowbrook Park\",\"Blue Heron Park\",\"Wolfe's Pond Park\",\"Conference House Park\",\"Calvert Vaux\",\"High Rock Park\",\"Red Hook Park\",\"Riverdale Park\",\"Spring Creek Park Preserve No Access\",\"Spring Creek Park Gateway National Recreation Area\"]},\"selected\":{\"id\":\"2363\"},\"selection_policy\":{\"id\":\"2376\"}},\"id\":\"2362\",\"type\":\"ColumnDataSource\"},{\"attributes\":{\"axis_label\":\"y\",\"formatter\":{\"id\":\"2333\"},\"major_label_policy\":{\"id\":\"2343\"},\"ticker\":{\"id\":\"2332\"}},\"id\":\"2311\",\"type\":\"LinearAxis\"},{\"attributes\":{\"code\":\"\\n        var projections = Bokeh.require(\\\"core/util/projections\\\");\\n        var x = special_vars.data_x\\n        var y = special_vars.data_y\\n        if (projections.wgs84_mercator.invert == null) {\\n          var coords = projections.wgs84_mercator.inverse([x, y])\\n        } else {\\n          var coords = projections.wgs84_mercator.invert(x, y)\\n        }\\n        return \\\"\\\" + (coords[1]).toFixed(4)\\n    \"},\"id\":\"2381\",\"type\":\"CustomJSHover\"},{\"attributes\":{\"below\":[{\"id\":\"2307\"}],\"center\":[{\"id\":\"2310\"},{\"id\":\"2314\"}],\"frame_height\":500,\"frame_width\":700,\"height\":null,\"left\":[{\"id\":\"2311\"}],\"margin\":[5,5,5,5],\"match_aspect\":true,\"min_border_bottom\":10,\"min_border_left\":10,\"min_border_right\":10,\"min_border_top\":10,\"renderers\":[{\"id\":\"2359\"},{\"id\":\"2370\"}],\"right\":[{\"id\":\"2378\"}],\"sizing_mode\":\"fixed\",\"title\":{\"id\":\"2299\"},\"toolbar\":{\"id\":\"2321\"},\"width\":null,\"x_range\":{\"id\":\"2291\"},\"x_scale\":{\"id\":\"2303\"},\"y_range\":{\"id\":\"2292\"},\"y_scale\":{\"id\":\"2305\"}},\"id\":\"2298\",\"subtype\":\"Figure\",\"type\":\"Plot\"}],\"root_ids\":[\"2285\"]},\"title\":\"Bokeh Application\",\"version\":\"2.3.2\"}};\n",
       "    var render_items = [{\"docid\":\"bc8e38b3-916c-4135-a64b-834b1a63f9b7\",\"root_ids\":[\"2285\"],\"roots\":{\"2285\":\"4ad5eb35-1eb5-4915-a285-b1103348d876\"}}];\n",
       "    root.Bokeh.embed.embed_items_notebook(docs_json, render_items);\n",
       "  }\n",
       "  if (root.Bokeh !== undefined && root.Bokeh.Panel !== undefined) {\n",
       "    embed_document(root);\n",
       "  } else {\n",
       "    var attempts = 0;\n",
       "    var timer = setInterval(function(root) {\n",
       "      if (root.Bokeh !== undefined && root.Bokeh.Panel !== undefined) {\n",
       "        clearInterval(timer);\n",
       "        embed_document(root);\n",
       "      } else if (document.readyState == \"complete\") {\n",
       "        attempts++;\n",
       "        if (attempts > 100) {\n",
       "          clearInterval(timer);\n",
       "          console.log(\"Bokeh: ERROR: Unable to run BokehJS code because BokehJS library is missing\");\n",
       "        }\n",
       "      }\n",
       "    }, 10, root)\n",
       "  }\n",
       "})(window);</script>"
      ],
      "text/plain": [
       ":Overlay\n",
       "   .Tiles.I  :Tiles   [x,y]\n",
       "   .Points.I :Points   [Longitude,Latitude]   (Name)"
      ]
     },
     "execution_count": 10,
     "metadata": {
      "application/vnd.holoviews_exec.v0+json": {
       "id": "2285"
      }
     },
     "output_type": "execute_result"
    }
   ],
   "source": [
    "# Create a DataFrame that slices the places_of_intereset DataFrame to include only parks\n",
    "parks = # YOUR CODE HERE\n",
    "\n",
    "# Plot all of the parks in NYC\n",
    "# What column should color be set equal to?\n",
    "\n",
    "# Keep all other parameters the same as the previous plot\n",
    "parks_of_interest = # YOUR CODE HERE\n",
    "\n",
    "# Show the plot\n",
    "# YOUR CODE HERE"
   ]
  },
  {
   "cell_type": "markdown",
   "metadata": {},
   "source": [
    "### Step 6: Plot Gardens of Interest"
   ]
  },
  {
   "cell_type": "code",
   "execution_count": 13,
   "metadata": {},
   "outputs": [
    {
     "data": {},
     "metadata": {},
     "output_type": "display_data"
    },
    {
     "data": {
      "application/vnd.holoviews_exec.v0+json": "",
      "text/html": [
       "<div id='2834'>\n",
       "\n",
       "\n",
       "\n",
       "\n",
       "\n",
       "  <div class=\"bk-root\" id=\"39c374df-337d-4c97-8970-6f9156462a6a\" data-root-id=\"2834\"></div>\n",
       "</div>\n",
       "<script type=\"application/javascript\">(function(root) {\n",
       "  function embed_document(root) {\n",
       "    var docs_json = {\"13fdb929-c8b0-4c60-88e5-09471172e09d\":{\"defs\":[],\"roots\":{\"references\":[{\"attributes\":{\"bottom_units\":\"screen\",\"fill_alpha\":0.5,\"fill_color\":\"lightgrey\",\"left_units\":\"screen\",\"level\":\"overlay\",\"line_alpha\":1.0,\"line_color\":\"black\",\"line_dash\":[4,4],\"line_width\":2,\"right_units\":\"screen\",\"syncable\":false,\"top_units\":\"screen\"},\"id\":\"2869\",\"type\":\"BoxAnnotation\"},{\"attributes\":{\"fill_alpha\":{\"value\":0.8},\"fill_color\":{\"field\":\"color\",\"transform\":{\"id\":\"2910\"}},\"line_alpha\":{\"value\":0.8},\"line_color\":{\"field\":\"color\",\"transform\":{\"id\":\"2910\"}},\"size\":{\"value\":5.477225575051661},\"x\":{\"field\":\"Longitude\"},\"y\":{\"field\":\"Latitude\"}},\"id\":\"2914\",\"type\":\"Scatter\"},{\"attributes\":{},\"id\":\"2865\",\"type\":\"PanTool\"},{\"attributes\":{\"source\":{\"id\":\"2911\"}},\"id\":\"2920\",\"type\":\"CDSView\"},{\"attributes\":{\"below\":[{\"id\":\"2856\"}],\"center\":[{\"id\":\"2859\"},{\"id\":\"2863\"}],\"frame_height\":500,\"frame_width\":700,\"height\":null,\"left\":[{\"id\":\"2860\"}],\"margin\":[5,5,5,5],\"match_aspect\":true,\"min_border_bottom\":10,\"min_border_left\":10,\"min_border_right\":10,\"min_border_top\":10,\"renderers\":[{\"id\":\"2908\"},{\"id\":\"2919\"}],\"right\":[{\"id\":\"2927\"}],\"sizing_mode\":\"fixed\",\"title\":{\"id\":\"2848\"},\"toolbar\":{\"id\":\"2870\"},\"width\":null,\"x_range\":{\"id\":\"2840\"},\"x_scale\":{\"id\":\"2852\"},\"y_range\":{\"id\":\"2841\"},\"y_scale\":{\"id\":\"2854\"}},\"id\":\"2847\",\"subtype\":\"Figure\",\"type\":\"Plot\"},{\"attributes\":{\"end\":4995223.178369818,\"min_interval\":5,\"reset_end\":4995223.178369818,\"reset_start\":4960920.241523543,\"start\":4960920.241523543,\"tags\":[[[\"Latitude\",\"Latitude\",null]]]},\"id\":\"2841\",\"type\":\"Range1d\"},{\"attributes\":{\"dimension\":\"lat\"},\"id\":\"2881\",\"type\":\"MercatorTicker\"},{\"attributes\":{\"dimension\":\"lat\"},\"id\":\"2882\",\"type\":\"MercatorTickFormatter\"},{\"attributes\":{\"fill_alpha\":{\"value\":0.2},\"fill_color\":{\"field\":\"color\",\"transform\":{\"id\":\"2910\"}},\"line_alpha\":{\"value\":0.2},\"line_color\":{\"field\":\"color\",\"transform\":{\"id\":\"2910\"}},\"size\":{\"value\":5.477225575051661},\"x\":{\"field\":\"Longitude\"},\"y\":{\"field\":\"Latitude\"}},\"id\":\"2918\",\"type\":\"Scatter\"},{\"attributes\":{\"dimension\":\"lon\"},\"id\":\"2880\",\"type\":\"MercatorTickFormatter\"},{\"attributes\":{\"dimension\":\"lon\"},\"id\":\"2879\",\"type\":\"MercatorTicker\"},{\"attributes\":{\"margin\":[5,5,5,5],\"name\":\"HSpacer06722\",\"sizing_mode\":\"stretch_width\"},\"id\":\"2835\",\"type\":\"Spacer\"},{\"attributes\":{},\"id\":\"2864\",\"type\":\"SaveTool\"},{\"attributes\":{\"data_source\":{\"id\":\"2911\"},\"glyph\":{\"id\":\"2914\"},\"hover_glyph\":{\"id\":\"2917\"},\"muted_glyph\":{\"id\":\"2918\"},\"nonselection_glyph\":{\"id\":\"2915\"},\"selection_glyph\":{\"id\":\"2916\"},\"view\":{\"id\":\"2920\"}},\"id\":\"2919\",\"type\":\"GlyphRenderer\"},{\"attributes\":{\"factors\":[\"Botanical Garden\",\"Botanic Garden\"],\"palette\":[\"#1f77b3\",\"#ff7e0e\"]},\"id\":\"2910\",\"type\":\"CategoricalColorMapper\"},{\"attributes\":{\"click_policy\":\"mute\",\"items\":[{\"id\":\"2928\"}],\"location\":[0,0]},\"id\":\"2927\",\"type\":\"Legend\"},{\"attributes\":{},\"id\":\"2912\",\"type\":\"Selection\"},{\"attributes\":{},\"id\":\"2854\",\"type\":\"LinearScale\"},{\"attributes\":{\"attribution\":\"&copy; <a href=\\\"https://www.openstreetmap.org/copyright\\\">OpenStreetMap</a> contributors\",\"url\":\"https://c.tile.openstreetmap.org/{Z}/{X}/{Y}.png\"},\"id\":\"2905\",\"type\":\"WMTSTileSource\"},{\"attributes\":{},\"id\":\"2925\",\"type\":\"UnionRenderers\"},{\"attributes\":{\"margin\":[5,5,5,5],\"name\":\"HSpacer06723\",\"sizing_mode\":\"stretch_width\"},\"id\":\"2985\",\"type\":\"Spacer\"},{\"attributes\":{\"axis_label\":\"x\",\"formatter\":{\"id\":\"2880\"},\"major_label_policy\":{\"id\":\"2885\"},\"ticker\":{\"id\":\"2879\"}},\"id\":\"2856\",\"type\":\"LinearAxis\"},{\"attributes\":{\"fill_alpha\":{\"value\":0.8},\"fill_color\":{\"field\":\"color\",\"transform\":{\"id\":\"2910\"}},\"line_alpha\":{\"value\":0.8},\"line_color\":{\"field\":\"color\",\"transform\":{\"id\":\"2910\"}},\"size\":{\"value\":5.477225575051661},\"x\":{\"field\":\"Longitude\"},\"y\":{\"field\":\"Latitude\"}},\"id\":\"2915\",\"type\":\"Scatter\"},{\"attributes\":{\"axis\":{\"id\":\"2860\"},\"dimension\":1,\"grid_line_color\":null,\"ticker\":null},\"id\":\"2863\",\"type\":\"Grid\"},{\"attributes\":{\"data\":{\"Latitude\":{\"__ndarray__\":\"ZPzWL1sLU0E8mA+rcO9SQQ==\",\"dtype\":\"float64\",\"order\":\"little\",\"shape\":[2]},\"Longitude\":{\"__ndarray__\":\"rslu5ldfX8HIVL7W42hfwQ==\",\"dtype\":\"float64\",\"order\":\"little\",\"shape\":[2]},\"Name\":[\"Botanical Garden\",\"Botanic Garden\"],\"color\":[\"Botanical Garden\",\"Botanic Garden\"]},\"selected\":{\"id\":\"2912\"},\"selection_policy\":{\"id\":\"2925\"}},\"id\":\"2911\",\"type\":\"ColumnDataSource\"},{\"attributes\":{\"text_color\":\"black\",\"text_font_size\":\"12pt\"},\"id\":\"2848\",\"type\":\"Title\"},{\"attributes\":{\"match_aspect\":true,\"overlay\":{\"id\":\"2869\"}},\"id\":\"2867\",\"type\":\"BoxZoomTool\"},{\"attributes\":{},\"id\":\"2852\",\"type\":\"LinearScale\"},{\"attributes\":{\"active_multi\":null,\"tools\":[{\"id\":\"2844\"},{\"id\":\"2864\"},{\"id\":\"2865\"},{\"id\":\"2866\"},{\"id\":\"2867\"},{\"id\":\"2868\"}]},\"id\":\"2870\",\"type\":\"Toolbar\"},{\"attributes\":{\"callback\":null,\"formatters\":{\"$x\":{\"id\":\"2929\"},\"$y\":{\"id\":\"2930\"}},\"renderers\":[{\"id\":\"2919\"}],\"tags\":[\"hv_created\"],\"tooltips\":[[\"Longitude\",\"$x{custom}\"],[\"Latitude\",\"$y{custom}\"],[\"Name\",\"@{Name}\"]]},\"id\":\"2844\",\"type\":\"HoverTool\"},{\"attributes\":{\"fill_alpha\":{\"value\":0.8},\"fill_color\":{\"field\":\"color\",\"transform\":{\"id\":\"2910\"}},\"line_alpha\":{\"value\":0.8},\"line_color\":{\"field\":\"color\",\"transform\":{\"id\":\"2910\"}},\"size\":{\"value\":5.477225575051661},\"x\":{\"field\":\"Longitude\"},\"y\":{\"field\":\"Latitude\"}},\"id\":\"2917\",\"type\":\"Scatter\"},{\"attributes\":{\"zoom_on_axis\":false},\"id\":\"2866\",\"type\":\"WheelZoomTool\"},{\"attributes\":{\"children\":[{\"id\":\"2835\"},{\"id\":\"2847\"},{\"id\":\"2985\"}],\"margin\":[0,0,0,0],\"name\":\"Row06718\",\"tags\":[\"embedded\"]},\"id\":\"2834\",\"type\":\"Row\"},{\"attributes\":{\"fill_alpha\":{\"value\":0.8},\"fill_color\":{\"field\":\"color\",\"transform\":{\"id\":\"2910\"}},\"line_alpha\":{\"value\":0.8},\"line_color\":{\"field\":\"color\",\"transform\":{\"id\":\"2910\"}},\"size\":{\"value\":5.477225575051661},\"x\":{\"field\":\"Longitude\"},\"y\":{\"field\":\"Latitude\"}},\"id\":\"2916\",\"type\":\"Scatter\"},{\"attributes\":{\"label\":{\"field\":\"color\"},\"renderers\":[{\"id\":\"2919\"}]},\"id\":\"2928\",\"type\":\"LegendItem\"},{\"attributes\":{},\"id\":\"2892\",\"type\":\"AllLabels\"},{\"attributes\":{\"code\":\"\\n        var projections = Bokeh.require(\\\"core/util/projections\\\");\\n        var x = special_vars.data_x\\n        var y = special_vars.data_y\\n        if (projections.wgs84_mercator.invert == null) {\\n          var coords = projections.wgs84_mercator.inverse([x, y])\\n        } else {\\n          var coords = projections.wgs84_mercator.invert(x, y)\\n        }\\n        return \\\"\\\" + (coords[0]).toFixed(4)\\n    \"},\"id\":\"2929\",\"type\":\"CustomJSHover\"},{\"attributes\":{\"axis\":{\"id\":\"2856\"},\"grid_line_color\":null,\"ticker\":null},\"id\":\"2859\",\"type\":\"Grid\"},{\"attributes\":{},\"id\":\"2885\",\"type\":\"AllLabels\"},{\"attributes\":{\"level\":\"glyph\",\"tile_source\":{\"id\":\"2905\"}},\"id\":\"2908\",\"type\":\"TileRenderer\"},{\"attributes\":{\"end\":-8204971.422147031,\"min_interval\":5,\"reset_end\":-8204971.422147031,\"reset_start\":-8252995.533731815,\"start\":-8252995.533731815,\"tags\":[[[\"Longitude\",\"Longitude\",null]]]},\"id\":\"2840\",\"type\":\"Range1d\"},{\"attributes\":{\"axis_label\":\"y\",\"formatter\":{\"id\":\"2882\"},\"major_label_policy\":{\"id\":\"2892\"},\"ticker\":{\"id\":\"2881\"}},\"id\":\"2860\",\"type\":\"LinearAxis\"},{\"attributes\":{\"code\":\"\\n        var projections = Bokeh.require(\\\"core/util/projections\\\");\\n        var x = special_vars.data_x\\n        var y = special_vars.data_y\\n        if (projections.wgs84_mercator.invert == null) {\\n          var coords = projections.wgs84_mercator.inverse([x, y])\\n        } else {\\n          var coords = projections.wgs84_mercator.invert(x, y)\\n        }\\n        return \\\"\\\" + (coords[1]).toFixed(4)\\n    \"},\"id\":\"2930\",\"type\":\"CustomJSHover\"},{\"attributes\":{},\"id\":\"2868\",\"type\":\"ResetTool\"}],\"root_ids\":[\"2834\"]},\"title\":\"Bokeh Application\",\"version\":\"2.3.2\"}};\n",
       "    var render_items = [{\"docid\":\"13fdb929-c8b0-4c60-88e5-09471172e09d\",\"root_ids\":[\"2834\"],\"roots\":{\"2834\":\"39c374df-337d-4c97-8970-6f9156462a6a\"}}];\n",
       "    root.Bokeh.embed.embed_items_notebook(docs_json, render_items);\n",
       "  }\n",
       "  if (root.Bokeh !== undefined && root.Bokeh.Panel !== undefined) {\n",
       "    embed_document(root);\n",
       "  } else {\n",
       "    var attempts = 0;\n",
       "    var timer = setInterval(function(root) {\n",
       "      if (root.Bokeh !== undefined && root.Bokeh.Panel !== undefined) {\n",
       "        clearInterval(timer);\n",
       "        embed_document(root);\n",
       "      } else if (document.readyState == \"complete\") {\n",
       "        attempts++;\n",
       "        if (attempts > 100) {\n",
       "          clearInterval(timer);\n",
       "          console.log(\"Bokeh: ERROR: Unable to run BokehJS code because BokehJS library is missing\");\n",
       "        }\n",
       "      }\n",
       "    }, 10, root)\n",
       "  }\n",
       "})(window);</script>"
      ],
      "text/plain": [
       ":Overlay\n",
       "   .Tiles.I  :Tiles   [x,y]\n",
       "   .Points.I :Points   [Longitude,Latitude]   (Name)"
      ]
     },
     "execution_count": 13,
     "metadata": {
      "application/vnd.holoviews_exec.v0+json": {
       "id": "2834"
      }
     },
     "output_type": "execute_result"
    }
   ],
   "source": [
    "# Create a DataFrame that slices the places_of_intereset DataFrame to include only gardens\n",
    "gardens = # YOUR CODE HERE\n",
    "\n",
    "# Plot all of the gardens in NYC\n",
    "# Keep all other parameters the same as the previous plot\n",
    "gardens_of_interest = # YOUR CODE HERE\n",
    "\n",
    "# Show the plot\n",
    "gardens_of_interest"
   ]
  },
  {
   "cell_type": "markdown",
   "metadata": {},
   "source": [
    "### Step 7: Plot Squares of Interest"
   ]
  },
  {
   "cell_type": "code",
   "execution_count": 14,
   "metadata": {},
   "outputs": [
    {
     "data": {},
     "metadata": {},
     "output_type": "display_data"
    },
    {
     "data": {
      "application/vnd.holoviews_exec.v0+json": "",
      "text/html": [
       "<div id='3017'>\n",
       "\n",
       "\n",
       "\n",
       "\n",
       "\n",
       "  <div class=\"bk-root\" id=\"a3ff8042-d2f1-4b04-adbe-9883b0639b9c\" data-root-id=\"3017\"></div>\n",
       "</div>\n",
       "<script type=\"application/javascript\">(function(root) {\n",
       "  function embed_document(root) {\n",
       "    var docs_json = {\"57f68b55-4162-427a-a359-f90644ad3de6\":{\"defs\":[],\"roots\":{\"references\":[{\"attributes\":{\"dimension\":\"lat\"},\"id\":\"3064\",\"type\":\"MercatorTicker\"},{\"attributes\":{},\"id\":\"3047\",\"type\":\"SaveTool\"},{\"attributes\":{},\"id\":\"3048\",\"type\":\"PanTool\"},{\"attributes\":{\"fill_alpha\":{\"value\":0.2},\"fill_color\":{\"field\":\"color\",\"transform\":{\"id\":\"3093\"}},\"line_alpha\":{\"value\":0.2},\"line_color\":{\"field\":\"color\",\"transform\":{\"id\":\"3093\"}},\"size\":{\"value\":5.477225575051661},\"x\":{\"field\":\"Longitude\"},\"y\":{\"field\":\"Latitude\"}},\"id\":\"3101\",\"type\":\"Scatter\"},{\"attributes\":{},\"id\":\"3095\",\"type\":\"Selection\"},{\"attributes\":{\"text_color\":\"black\",\"text_font_size\":\"12pt\"},\"id\":\"3031\",\"type\":\"Title\"},{\"attributes\":{\"match_aspect\":true,\"overlay\":{\"id\":\"3052\"}},\"id\":\"3050\",\"type\":\"BoxZoomTool\"},{\"attributes\":{\"data_source\":{\"id\":\"3094\"},\"glyph\":{\"id\":\"3097\"},\"hover_glyph\":{\"id\":\"3100\"},\"muted_glyph\":{\"id\":\"3101\"},\"nonselection_glyph\":{\"id\":\"3098\"},\"selection_glyph\":{\"id\":\"3099\"},\"view\":{\"id\":\"3103\"}},\"id\":\"3102\",\"type\":\"GlyphRenderer\"},{\"attributes\":{\"dimension\":\"lon\"},\"id\":\"3063\",\"type\":\"MercatorTickFormatter\"},{\"attributes\":{\"margin\":[5,5,5,5],\"name\":\"HSpacer07098\",\"sizing_mode\":\"stretch_width\"},\"id\":\"3168\",\"type\":\"Spacer\"},{\"attributes\":{\"callback\":null,\"formatters\":{\"$x\":{\"id\":\"3112\"},\"$y\":{\"id\":\"3113\"}},\"renderers\":[{\"id\":\"3102\"}],\"tags\":[\"hv_created\"],\"tooltips\":[[\"Longitude\",\"$x{custom}\"],[\"Latitude\",\"$y{custom}\"],[\"Name\",\"@{Name}\"]]},\"id\":\"3027\",\"type\":\"HoverTool\"},{\"attributes\":{},\"id\":\"3051\",\"type\":\"ResetTool\"},{\"attributes\":{\"factors\":[\"Times Square\",\"Madison Square\",\"Union Square\"],\"palette\":[\"#1f77b3\",\"#ff7e0e\",\"#2ba02b\"]},\"id\":\"3093\",\"type\":\"CategoricalColorMapper\"},{\"attributes\":{\"children\":[{\"id\":\"3018\"},{\"id\":\"3030\"},{\"id\":\"3168\"}],\"margin\":[0,0,0,0],\"name\":\"Row07093\",\"tags\":[\"embedded\"]},\"id\":\"3017\",\"type\":\"Row\"},{\"attributes\":{\"source\":{\"id\":\"3094\"}},\"id\":\"3103\",\"type\":\"CDSView\"},{\"attributes\":{\"below\":[{\"id\":\"3039\"}],\"center\":[{\"id\":\"3042\"},{\"id\":\"3046\"}],\"frame_height\":500,\"frame_width\":700,\"height\":null,\"left\":[{\"id\":\"3043\"}],\"margin\":[5,5,5,5],\"match_aspect\":true,\"min_border_bottom\":10,\"min_border_left\":10,\"min_border_right\":10,\"min_border_top\":10,\"renderers\":[{\"id\":\"3091\"},{\"id\":\"3102\"}],\"right\":[{\"id\":\"3110\"}],\"sizing_mode\":\"fixed\",\"title\":{\"id\":\"3031\"},\"toolbar\":{\"id\":\"3053\"},\"width\":null,\"x_range\":{\"id\":\"3023\"},\"x_scale\":{\"id\":\"3035\"},\"y_range\":{\"id\":\"3024\"},\"y_scale\":{\"id\":\"3037\"}},\"id\":\"3030\",\"subtype\":\"Figure\",\"type\":\"Plot\"},{\"attributes\":{\"end\":-8233370.771813825,\"min_interval\":5,\"reset_end\":-8233370.771813825,\"reset_start\":-8238816.277194709,\"start\":-8238816.277194709,\"tags\":[[[\"Longitude\",\"Longitude\",null]]]},\"id\":\"3023\",\"type\":\"Range1d\"},{\"attributes\":{\"fill_alpha\":{\"value\":0.8},\"fill_color\":{\"field\":\"color\",\"transform\":{\"id\":\"3093\"}},\"line_alpha\":{\"value\":0.8},\"line_color\":{\"field\":\"color\",\"transform\":{\"id\":\"3093\"}},\"size\":{\"value\":5.477225575051661},\"x\":{\"field\":\"Longitude\"},\"y\":{\"field\":\"Latitude\"}},\"id\":\"3099\",\"type\":\"Scatter\"},{\"attributes\":{\"fill_alpha\":{\"value\":0.8},\"fill_color\":{\"field\":\"color\",\"transform\":{\"id\":\"3093\"}},\"line_alpha\":{\"value\":0.8},\"line_color\":{\"field\":\"color\",\"transform\":{\"id\":\"3093\"}},\"size\":{\"value\":5.477225575051661},\"x\":{\"field\":\"Longitude\"},\"y\":{\"field\":\"Latitude\"}},\"id\":\"3097\",\"type\":\"Scatter\"},{\"attributes\":{},\"id\":\"3035\",\"type\":\"LinearScale\"},{\"attributes\":{\"axis_label\":\"x\",\"formatter\":{\"id\":\"3063\"},\"major_label_policy\":{\"id\":\"3068\"},\"ticker\":{\"id\":\"3062\"}},\"id\":\"3039\",\"type\":\"LinearAxis\"},{\"attributes\":{\"code\":\"\\n        var projections = Bokeh.require(\\\"core/util/projections\\\");\\n        var x = special_vars.data_x\\n        var y = special_vars.data_y\\n        if (projections.wgs84_mercator.invert == null) {\\n          var coords = projections.wgs84_mercator.inverse([x, y])\\n        } else {\\n          var coords = projections.wgs84_mercator.invert(x, y)\\n        }\\n        return \\\"\\\" + (coords[0]).toFixed(4)\\n    \"},\"id\":\"3112\",\"type\":\"CustomJSHover\"},{\"attributes\":{\"axis\":{\"id\":\"3043\"},\"dimension\":1,\"grid_line_color\":null,\"ticker\":null},\"id\":\"3046\",\"type\":\"Grid\"},{\"attributes\":{\"label\":{\"field\":\"color\"},\"renderers\":[{\"id\":\"3102\"}]},\"id\":\"3111\",\"type\":\"LegendItem\"},{\"attributes\":{\"code\":\"\\n        var projections = Bokeh.require(\\\"core/util/projections\\\");\\n        var x = special_vars.data_x\\n        var y = special_vars.data_y\\n        if (projections.wgs84_mercator.invert == null) {\\n          var coords = projections.wgs84_mercator.inverse([x, y])\\n        } else {\\n          var coords = projections.wgs84_mercator.invert(x, y)\\n        }\\n        return \\\"\\\" + (coords[1]).toFixed(4)\\n    \"},\"id\":\"3113\",\"type\":\"CustomJSHover\"},{\"attributes\":{},\"id\":\"3075\",\"type\":\"AllLabels\"},{\"attributes\":{\"dimension\":\"lon\"},\"id\":\"3062\",\"type\":\"MercatorTicker\"},{\"attributes\":{\"axis\":{\"id\":\"3039\"},\"grid_line_color\":null,\"ticker\":null},\"id\":\"3042\",\"type\":\"Grid\"},{\"attributes\":{\"data\":{\"Latitude\":{\"__ndarray__\":\"zRE1xxL8UkE3tSfizPlSQZpHk1zo+FJB\",\"dtype\":\"float64\",\"order\":\"little\",\"shape\":[3]},\"Longitude\":{\"__ndarray__\":\"bRQ255dqX8G03bp5RmtfwUDg7NuGa1/B\",\"dtype\":\"float64\",\"order\":\"little\",\"shape\":[3]},\"Name\":[\"Times Square\",\"Madison Square\",\"Union Square\"],\"color\":[\"Times Square\",\"Madison Square\",\"Union Square\"]},\"selected\":{\"id\":\"3095\"},\"selection_policy\":{\"id\":\"3108\"}},\"id\":\"3094\",\"type\":\"ColumnDataSource\"},{\"attributes\":{\"fill_alpha\":{\"value\":0.8},\"fill_color\":{\"field\":\"color\",\"transform\":{\"id\":\"3093\"}},\"line_alpha\":{\"value\":0.8},\"line_color\":{\"field\":\"color\",\"transform\":{\"id\":\"3093\"}},\"size\":{\"value\":5.477225575051661},\"x\":{\"field\":\"Longitude\"},\"y\":{\"field\":\"Latitude\"}},\"id\":\"3098\",\"type\":\"Scatter\"},{\"attributes\":{},\"id\":\"3108\",\"type\":\"UnionRenderers\"},{\"attributes\":{\"fill_alpha\":{\"value\":0.8},\"fill_color\":{\"field\":\"color\",\"transform\":{\"id\":\"3093\"}},\"line_alpha\":{\"value\":0.8},\"line_color\":{\"field\":\"color\",\"transform\":{\"id\":\"3093\"}},\"size\":{\"value\":5.477225575051661},\"x\":{\"field\":\"Longitude\"},\"y\":{\"field\":\"Latitude\"}},\"id\":\"3100\",\"type\":\"Scatter\"},{\"attributes\":{},\"id\":\"3068\",\"type\":\"AllLabels\"},{\"attributes\":{\"axis_label\":\"y\",\"formatter\":{\"id\":\"3065\"},\"major_label_policy\":{\"id\":\"3075\"},\"ticker\":{\"id\":\"3064\"}},\"id\":\"3043\",\"type\":\"LinearAxis\"},{\"attributes\":{\"zoom_on_axis\":false},\"id\":\"3049\",\"type\":\"WheelZoomTool\"},{\"attributes\":{\"bottom_units\":\"screen\",\"fill_alpha\":0.5,\"fill_color\":\"lightgrey\",\"left_units\":\"screen\",\"level\":\"overlay\",\"line_alpha\":1.0,\"line_color\":\"black\",\"line_dash\":[4,4],\"line_width\":2,\"right_units\":\"screen\",\"syncable\":false,\"top_units\":\"screen\"},\"id\":\"3052\",\"type\":\"BoxAnnotation\"},{\"attributes\":{},\"id\":\"3037\",\"type\":\"LinearScale\"},{\"attributes\":{\"click_policy\":\"mute\",\"items\":[{\"id\":\"3111\"}],\"location\":[0,0]},\"id\":\"3110\",\"type\":\"Legend\"},{\"attributes\":{\"dimension\":\"lat\"},\"id\":\"3065\",\"type\":\"MercatorTickFormatter\"},{\"attributes\":{\"margin\":[5,5,5,5],\"name\":\"HSpacer07097\",\"sizing_mode\":\"stretch_width\"},\"id\":\"3018\",\"type\":\"Spacer\"},{\"attributes\":{\"level\":\"glyph\",\"tile_source\":{\"id\":\"3088\"}},\"id\":\"3091\",\"type\":\"TileRenderer\"},{\"attributes\":{\"active_multi\":null,\"tools\":[{\"id\":\"3027\"},{\"id\":\"3047\"},{\"id\":\"3048\"},{\"id\":\"3049\"},{\"id\":\"3050\"},{\"id\":\"3051\"}]},\"id\":\"3053\",\"type\":\"Toolbar\"},{\"attributes\":{\"attribution\":\"&copy; <a href=\\\"https://www.openstreetmap.org/copyright\\\">OpenStreetMap</a> contributors\",\"url\":\"https://c.tile.openstreetmap.org/{Z}/{X}/{Y}.png\"},\"id\":\"3088\",\"type\":\"WMTSTileSource\"},{\"attributes\":{\"end\":4977039.102877617,\"min_interval\":5,\"reset_end\":4977039.102877617,\"reset_start\":4973149.456176986,\"start\":4973149.456176986,\"tags\":[[[\"Latitude\",\"Latitude\",null]]]},\"id\":\"3024\",\"type\":\"Range1d\"}],\"root_ids\":[\"3017\"]},\"title\":\"Bokeh Application\",\"version\":\"2.3.2\"}};\n",
       "    var render_items = [{\"docid\":\"57f68b55-4162-427a-a359-f90644ad3de6\",\"root_ids\":[\"3017\"],\"roots\":{\"3017\":\"a3ff8042-d2f1-4b04-adbe-9883b0639b9c\"}}];\n",
       "    root.Bokeh.embed.embed_items_notebook(docs_json, render_items);\n",
       "  }\n",
       "  if (root.Bokeh !== undefined && root.Bokeh.Panel !== undefined) {\n",
       "    embed_document(root);\n",
       "  } else {\n",
       "    var attempts = 0;\n",
       "    var timer = setInterval(function(root) {\n",
       "      if (root.Bokeh !== undefined && root.Bokeh.Panel !== undefined) {\n",
       "        clearInterval(timer);\n",
       "        embed_document(root);\n",
       "      } else if (document.readyState == \"complete\") {\n",
       "        attempts++;\n",
       "        if (attempts > 100) {\n",
       "          clearInterval(timer);\n",
       "          console.log(\"Bokeh: ERROR: Unable to run BokehJS code because BokehJS library is missing\");\n",
       "        }\n",
       "      }\n",
       "    }, 10, root)\n",
       "  }\n",
       "})(window);</script>"
      ],
      "text/plain": [
       ":Overlay\n",
       "   .Tiles.I  :Tiles   [x,y]\n",
       "   .Points.I :Points   [Longitude,Latitude]   (Name)"
      ]
     },
     "execution_count": 14,
     "metadata": {
      "application/vnd.holoviews_exec.v0+json": {
       "id": "3017"
      }
     },
     "output_type": "execute_result"
    }
   ],
   "source": [
    "# Create a DataFrame that slices the places_of_intereset DataFrame to include only squares\n",
    "squares = # YOUR CODE HERE\n",
    "\n",
    "# Plot all of the squares in NYC\n",
    "squares_of_interest = # YOUR CODE HERE\n",
    "\n",
    "# Show the plot\n",
    "# YOUR CODE HERE"
   ]
  },
  {
   "cell_type": "markdown",
   "metadata": {},
   "source": [
    "### Step 8: Bonus - Pick two place of interest and plot them both on a the map"
   ]
  },
  {
   "cell_type": "code",
   "execution_count": 15,
   "metadata": {},
   "outputs": [
    {
     "data": {},
     "metadata": {},
     "output_type": "display_data"
    },
    {
     "data": {
      "application/vnd.holoviews_exec.v0+json": "",
      "text/html": [
       "<div id='3200'>\n",
       "\n",
       "\n",
       "\n",
       "\n",
       "\n",
       "  <div class=\"bk-root\" id=\"8b217e28-1ca4-4b6f-8731-ecacacc2324a\" data-root-id=\"3200\"></div>\n",
       "</div>\n",
       "<script type=\"application/javascript\">(function(root) {\n",
       "  function embed_document(root) {\n",
       "    var docs_json = {\"383a1b01-8eab-44db-aa08-b299034f09d3\":{\"defs\":[],\"roots\":{\"references\":[{\"attributes\":{\"margin\":[5,5,5,5],\"name\":\"HSpacer07473\",\"sizing_mode\":\"stretch_width\"},\"id\":\"3351\",\"type\":\"Spacer\"},{\"attributes\":{\"callback\":null,\"formatters\":{\"$x\":{\"id\":\"3295\"},\"$y\":{\"id\":\"3296\"}},\"renderers\":[{\"id\":\"3285\"}],\"tags\":[\"hv_created\"],\"tooltips\":[[\"Longitude\",\"$x{custom}\"],[\"Latitude\",\"$y{custom}\"],[\"Name\",\"@{Name}\"]]},\"id\":\"3210\",\"type\":\"HoverTool\"},{\"attributes\":{\"dimension\":\"lat\"},\"id\":\"3248\",\"type\":\"MercatorTickFormatter\"},{\"attributes\":{\"bottom_units\":\"screen\",\"fill_alpha\":0.5,\"fill_color\":\"lightgrey\",\"left_units\":\"screen\",\"level\":\"overlay\",\"line_alpha\":1.0,\"line_color\":\"black\",\"line_dash\":[4,4],\"line_width\":2,\"right_units\":\"screen\",\"syncable\":false,\"top_units\":\"screen\"},\"id\":\"3235\",\"type\":\"BoxAnnotation\"},{\"attributes\":{\"data_source\":{\"id\":\"3277\"},\"glyph\":{\"id\":\"3280\"},\"hover_glyph\":{\"id\":\"3283\"},\"muted_glyph\":{\"id\":\"3284\"},\"nonselection_glyph\":{\"id\":\"3281\"},\"selection_glyph\":{\"id\":\"3282\"},\"view\":{\"id\":\"3286\"}},\"id\":\"3285\",\"type\":\"GlyphRenderer\"},{\"attributes\":{},\"id\":\"3220\",\"type\":\"LinearScale\"},{\"attributes\":{\"active_multi\":null,\"tools\":[{\"id\":\"3210\"},{\"id\":\"3230\"},{\"id\":\"3231\"},{\"id\":\"3232\"},{\"id\":\"3233\"},{\"id\":\"3234\"}]},\"id\":\"3236\",\"type\":\"Toolbar\"},{\"attributes\":{},\"id\":\"3230\",\"type\":\"SaveTool\"},{\"attributes\":{\"margin\":[5,5,5,5],\"name\":\"HSpacer07472\",\"sizing_mode\":\"stretch_width\"},\"id\":\"3201\",\"type\":\"Spacer\"},{\"attributes\":{\"children\":[{\"id\":\"3201\"},{\"id\":\"3213\"},{\"id\":\"3351\"}],\"margin\":[0,0,0,0],\"name\":\"Row07468\",\"tags\":[\"embedded\"]},\"id\":\"3200\",\"type\":\"Row\"},{\"attributes\":{\"code\":\"\\n        var projections = Bokeh.require(\\\"core/util/projections\\\");\\n        var x = special_vars.data_x\\n        var y = special_vars.data_y\\n        if (projections.wgs84_mercator.invert == null) {\\n          var coords = projections.wgs84_mercator.inverse([x, y])\\n        } else {\\n          var coords = projections.wgs84_mercator.invert(x, y)\\n        }\\n        return \\\"\\\" + (coords[0]).toFixed(4)\\n    \"},\"id\":\"3295\",\"type\":\"CustomJSHover\"},{\"attributes\":{},\"id\":\"3231\",\"type\":\"PanTool\"},{\"attributes\":{\"dimension\":\"lat\"},\"id\":\"3247\",\"type\":\"MercatorTicker\"},{\"attributes\":{\"dimension\":\"lon\"},\"id\":\"3246\",\"type\":\"MercatorTickFormatter\"},{\"attributes\":{\"below\":[{\"id\":\"3222\"}],\"center\":[{\"id\":\"3225\"},{\"id\":\"3229\"}],\"frame_height\":500,\"frame_width\":700,\"height\":null,\"left\":[{\"id\":\"3226\"}],\"margin\":[5,5,5,5],\"match_aspect\":true,\"min_border_bottom\":10,\"min_border_left\":10,\"min_border_right\":10,\"min_border_top\":10,\"renderers\":[{\"id\":\"3274\"},{\"id\":\"3285\"}],\"right\":[{\"id\":\"3293\"}],\"sizing_mode\":\"fixed\",\"title\":{\"id\":\"3214\"},\"toolbar\":{\"id\":\"3236\"},\"width\":null,\"x_range\":{\"id\":\"3206\"},\"x_scale\":{\"id\":\"3218\"},\"y_range\":{\"id\":\"3207\"},\"y_scale\":{\"id\":\"3220\"}},\"id\":\"3213\",\"subtype\":\"Figure\",\"type\":\"Plot\"},{\"attributes\":{\"text_color\":\"black\",\"text_font_size\":\"12pt\"},\"id\":\"3214\",\"type\":\"Title\"},{\"attributes\":{\"zoom_on_axis\":false},\"id\":\"3232\",\"type\":\"WheelZoomTool\"},{\"attributes\":{\"click_policy\":\"mute\",\"items\":[{\"id\":\"3294\"}],\"location\":[0,0]},\"id\":\"3293\",\"type\":\"Legend\"},{\"attributes\":{\"fill_alpha\":{\"value\":0.8},\"fill_color\":{\"field\":\"color\",\"transform\":{\"id\":\"3276\"}},\"line_alpha\":{\"value\":0.8},\"line_color\":{\"field\":\"color\",\"transform\":{\"id\":\"3276\"}},\"size\":{\"value\":5.477225575051661},\"x\":{\"field\":\"Longitude\"},\"y\":{\"field\":\"Latitude\"}},\"id\":\"3280\",\"type\":\"Scatter\"},{\"attributes\":{\"match_aspect\":true,\"overlay\":{\"id\":\"3235\"}},\"id\":\"3233\",\"type\":\"BoxZoomTool\"},{\"attributes\":{\"code\":\"\\n        var projections = Bokeh.require(\\\"core/util/projections\\\");\\n        var x = special_vars.data_x\\n        var y = special_vars.data_y\\n        if (projections.wgs84_mercator.invert == null) {\\n          var coords = projections.wgs84_mercator.inverse([x, y])\\n        } else {\\n          var coords = projections.wgs84_mercator.invert(x, y)\\n        }\\n        return \\\"\\\" + (coords[1]).toFixed(4)\\n    \"},\"id\":\"3296\",\"type\":\"CustomJSHover\"},{\"attributes\":{\"fill_alpha\":{\"value\":0.8},\"fill_color\":{\"field\":\"color\",\"transform\":{\"id\":\"3276\"}},\"line_alpha\":{\"value\":0.8},\"line_color\":{\"field\":\"color\",\"transform\":{\"id\":\"3276\"}},\"size\":{\"value\":5.477225575051661},\"x\":{\"field\":\"Longitude\"},\"y\":{\"field\":\"Latitude\"}},\"id\":\"3281\",\"type\":\"Scatter\"},{\"attributes\":{},\"id\":\"3234\",\"type\":\"ResetTool\"},{\"attributes\":{},\"id\":\"3218\",\"type\":\"LinearScale\"},{\"attributes\":{\"attribution\":\"&copy; <a href=\\\"https://www.openstreetmap.org/copyright\\\">OpenStreetMap</a> contributors\",\"url\":\"https://c.tile.openstreetmap.org/{Z}/{X}/{Y}.png\"},\"id\":\"3271\",\"type\":\"WMTSTileSource\"},{\"attributes\":{\"fill_alpha\":{\"value\":0.2},\"fill_color\":{\"field\":\"color\",\"transform\":{\"id\":\"3276\"}},\"line_alpha\":{\"value\":0.2},\"line_color\":{\"field\":\"color\",\"transform\":{\"id\":\"3276\"}},\"size\":{\"value\":5.477225575051661},\"x\":{\"field\":\"Longitude\"},\"y\":{\"field\":\"Latitude\"}},\"id\":\"3284\",\"type\":\"Scatter\"},{\"attributes\":{\"end\":-8213465.137707736,\"min_interval\":5,\"reset_end\":-8213465.137707736,\"reset_start\":-8219142.114954736,\"start\":-8219142.114954736,\"tags\":[[[\"Longitude\",\"Longitude\",null]]]},\"id\":\"3206\",\"type\":\"Range1d\"},{\"attributes\":{\"axis_label\":\"x\",\"formatter\":{\"id\":\"3246\"},\"major_label_policy\":{\"id\":\"3251\"},\"ticker\":{\"id\":\"3245\"}},\"id\":\"3222\",\"type\":\"LinearAxis\"},{\"attributes\":{\"fill_alpha\":{\"value\":0.8},\"fill_color\":{\"field\":\"color\",\"transform\":{\"id\":\"3276\"}},\"line_alpha\":{\"value\":0.8},\"line_color\":{\"field\":\"color\",\"transform\":{\"id\":\"3276\"}},\"size\":{\"value\":5.477225575051661},\"x\":{\"field\":\"Longitude\"},\"y\":{\"field\":\"Latitude\"}},\"id\":\"3283\",\"type\":\"Scatter\"},{\"attributes\":{\"dimension\":\"lon\"},\"id\":\"3245\",\"type\":\"MercatorTicker\"},{\"attributes\":{},\"id\":\"3291\",\"type\":\"UnionRenderers\"},{\"attributes\":{\"axis\":{\"id\":\"3226\"},\"dimension\":1,\"grid_line_color\":null,\"ticker\":null},\"id\":\"3229\",\"type\":\"Grid\"},{\"attributes\":{},\"id\":\"3251\",\"type\":\"AllLabels\"},{\"attributes\":{\"end\":4964463.852861014,\"min_interval\":5,\"reset_end\":4964463.852861014,\"reset_start\":4960215.6061666375,\"start\":4960215.6061666375,\"tags\":[[[\"Latitude\",\"Latitude\",null]]]},\"id\":\"3207\",\"type\":\"Range1d\"},{\"attributes\":{\"data\":{\"Latitude\":{\"__ndarray__\":\"tCupfsPvUkFpaLheTuxSQQ==\",\"dtype\":\"float64\",\"order\":\"little\",\"shape\":[2]},\"Longitude\":{\"__ndarray__\":\"cpOS2ihaX8HIC5n1TlVfwQ==\",\"dtype\":\"float64\",\"order\":\"little\",\"shape\":[2]},\"Name\":[\"Aqueduct Race Track\",\"John F. Kennedy International Airport\"],\"color\":[\"Aqueduct Race Track\",\"John F. Kennedy International Airport\"]},\"selected\":{\"id\":\"3278\"},\"selection_policy\":{\"id\":\"3291\"}},\"id\":\"3277\",\"type\":\"ColumnDataSource\"},{\"attributes\":{\"fill_alpha\":{\"value\":0.8},\"fill_color\":{\"field\":\"color\",\"transform\":{\"id\":\"3276\"}},\"line_alpha\":{\"value\":0.8},\"line_color\":{\"field\":\"color\",\"transform\":{\"id\":\"3276\"}},\"size\":{\"value\":5.477225575051661},\"x\":{\"field\":\"Longitude\"},\"y\":{\"field\":\"Latitude\"}},\"id\":\"3282\",\"type\":\"Scatter\"},{\"attributes\":{},\"id\":\"3258\",\"type\":\"AllLabels\"},{\"attributes\":{\"axis\":{\"id\":\"3222\"},\"grid_line_color\":null,\"ticker\":null},\"id\":\"3225\",\"type\":\"Grid\"},{\"attributes\":{\"source\":{\"id\":\"3277\"}},\"id\":\"3286\",\"type\":\"CDSView\"},{\"attributes\":{\"level\":\"glyph\",\"tile_source\":{\"id\":\"3271\"}},\"id\":\"3274\",\"type\":\"TileRenderer\"},{\"attributes\":{\"label\":{\"field\":\"color\"},\"renderers\":[{\"id\":\"3285\"}]},\"id\":\"3294\",\"type\":\"LegendItem\"},{\"attributes\":{\"factors\":[\"Aqueduct Race Track\",\"John F. Kennedy International Airport\"],\"palette\":[\"#1f77b3\",\"#ff7e0e\"]},\"id\":\"3276\",\"type\":\"CategoricalColorMapper\"},{\"attributes\":{\"axis_label\":\"y\",\"formatter\":{\"id\":\"3248\"},\"major_label_policy\":{\"id\":\"3258\"},\"ticker\":{\"id\":\"3247\"}},\"id\":\"3226\",\"type\":\"LinearAxis\"},{\"attributes\":{},\"id\":\"3278\",\"type\":\"Selection\"}],\"root_ids\":[\"3200\"]},\"title\":\"Bokeh Application\",\"version\":\"2.3.2\"}};\n",
       "    var render_items = [{\"docid\":\"383a1b01-8eab-44db-aa08-b299034f09d3\",\"root_ids\":[\"3200\"],\"roots\":{\"3200\":\"8b217e28-1ca4-4b6f-8731-ecacacc2324a\"}}];\n",
       "    root.Bokeh.embed.embed_items_notebook(docs_json, render_items);\n",
       "  }\n",
       "  if (root.Bokeh !== undefined && root.Bokeh.Panel !== undefined) {\n",
       "    embed_document(root);\n",
       "  } else {\n",
       "    var attempts = 0;\n",
       "    var timer = setInterval(function(root) {\n",
       "      if (root.Bokeh !== undefined && root.Bokeh.Panel !== undefined) {\n",
       "        clearInterval(timer);\n",
       "        embed_document(root);\n",
       "      } else if (document.readyState == \"complete\") {\n",
       "        attempts++;\n",
       "        if (attempts > 100) {\n",
       "          clearInterval(timer);\n",
       "          console.log(\"Bokeh: ERROR: Unable to run BokehJS code because BokehJS library is missing\");\n",
       "        }\n",
       "      }\n",
       "    }, 10, root)\n",
       "  }\n",
       "})(window);</script>"
      ],
      "text/plain": [
       ":Overlay\n",
       "   .Tiles.I  :Tiles   [x,y]\n",
       "   .Points.I :Points   [Longitude,Latitude]   (Name)"
      ]
     },
     "execution_count": 15,
     "metadata": {
      "application/vnd.holoviews_exec.v0+json": {
       "id": "3200"
      }
     },
     "output_type": "execute_result"
    }
   ],
   "source": [
    "# Slice the name of two places from the places_of_interest DataFrame\n",
    "# Use the Pandas isin function to reference the specific name of a location\n",
    "two_places = # YOUR CODE HERE\n",
    "\n",
    "# Create the Plot for just the two places\n",
    "two_places_route = # YOUR CODE HERE\n",
    "\n",
    "# Show the plot\n",
    "# YOUR CODE HERE"
   ]
  }
 ],
 "metadata": {
  "kernelspec": {
   "display_name": "Python 3",
   "language": "python",
   "name": "python3"
  },
  "language_info": {
   "codemirror_mode": {
    "name": "ipython",
    "version": 3
   },
   "file_extension": ".py",
   "mimetype": "text/x-python",
   "name": "python",
   "nbconvert_exporter": "python",
   "pygments_lexer": "ipython3",
   "version": "3.7.13"
  }
 },
 "nbformat": 4,
 "nbformat_minor": 4
}
